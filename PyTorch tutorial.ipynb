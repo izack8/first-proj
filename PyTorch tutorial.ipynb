{
 "cells": [
  {
   "cell_type": "code",
   "execution_count": 1,
   "metadata": {},
   "outputs": [
    {
     "ename": "ModuleNotFoundError",
     "evalue": "No module named 'sklearn'",
     "output_type": "error",
     "traceback": [
      "\u001b[1;31m---------------------------------------------------------------------------\u001b[0m",
      "\u001b[1;31mModuleNotFoundError\u001b[0m                       Traceback (most recent call last)",
      "Cell \u001b[1;32mIn[1], line 4\u001b[0m\n\u001b[0;32m      2\u001b[0m \u001b[39mfrom\u001b[39;00m \u001b[39mtorch\u001b[39;00m \u001b[39mimport\u001b[39;00m nn\n\u001b[0;32m      3\u001b[0m \u001b[39mimport\u001b[39;00m \u001b[39mmatplotlib\u001b[39;00m\u001b[39m.\u001b[39;00m\u001b[39mpyplot\u001b[39;00m \u001b[39mas\u001b[39;00m \u001b[39mplt\u001b[39;00m\n\u001b[1;32m----> 4\u001b[0m \u001b[39mfrom\u001b[39;00m \u001b[39msklearn\u001b[39;00m\u001b[39m.\u001b[39;00m\u001b[39mmodel_selection\u001b[39;00m \u001b[39mimport\u001b[39;00m train_test_split\n",
      "\u001b[1;31mModuleNotFoundError\u001b[0m: No module named 'sklearn'"
     ]
    }
   ],
   "source": [
    "import torch\n",
    "from torch import nn\n",
    "import matplotlib.pyplot as plt\n",
    "from sklearn.model_selection import train_test_split"
   ]
  },
  {
   "cell_type": "code",
   "execution_count": 3,
   "metadata": {},
   "outputs": [],
   "source": [
    "#tensor of 3 dimensions.\n",
    "#0th dim: 2 elements (z-dim)\n",
    "#1st dim: 4 elements (y-dim)\n",
    "#2nd dim: 5 elements (x-dim, inner most dimension)\n"
   ]
  },
  {
   "cell_type": "code",
   "execution_count": 4,
   "metadata": {},
   "outputs": [
    {
     "data": {
      "text/plain": [
       "50"
      ]
     },
     "execution_count": 4,
     "metadata": {},
     "output_type": "execute_result"
    }
   ],
   "source": [
    "weight = 0.3\n",
    "bias = 1 \n",
    "\n",
    "#lets pretend that we dont know the above values, \n",
    "#if we are training with these 2 parameters, the goal of ANN is to first start with a random tensor value, \n",
    "#and then slowly make its way to the weight & bias value, giving an accurate prediciton\n",
    "\n",
    "X = torch.arange(0,1,0.02).unsqueeze(dim=1)\n",
    "y = weight * X + bias\n",
    "\n",
    "#splitting our dataset in to train & test\n",
    "\n",
    "X_train, X_test, y_train, y_test = train_test_split(X, y, test_size=0.2)\n",
    "len(X)"
   ]
  },
  {
   "cell_type": "code",
   "execution_count": 46,
   "metadata": {},
   "outputs": [
    {
     "data": {
      "text/plain": [
       "tensor([[0.0000],\n",
       "        [0.0200],\n",
       "        [0.0400],\n",
       "        [0.0600],\n",
       "        [0.0800],\n",
       "        [0.1000],\n",
       "        [0.1200],\n",
       "        [0.1400],\n",
       "        [0.1600],\n",
       "        [0.1800],\n",
       "        [0.2000],\n",
       "        [0.2200],\n",
       "        [0.2400],\n",
       "        [0.2600],\n",
       "        [0.2800],\n",
       "        [0.3000],\n",
       "        [0.3200],\n",
       "        [0.3400],\n",
       "        [0.3600],\n",
       "        [0.3800],\n",
       "        [0.4000],\n",
       "        [0.4200],\n",
       "        [0.4400],\n",
       "        [0.4600],\n",
       "        [0.4800],\n",
       "        [0.5000],\n",
       "        [0.5200],\n",
       "        [0.5400],\n",
       "        [0.5600],\n",
       "        [0.5800],\n",
       "        [0.6000],\n",
       "        [0.6200],\n",
       "        [0.6400],\n",
       "        [0.6600],\n",
       "        [0.6800],\n",
       "        [0.7000],\n",
       "        [0.7200],\n",
       "        [0.7400],\n",
       "        [0.7600],\n",
       "        [0.7800],\n",
       "        [0.8000],\n",
       "        [0.8200],\n",
       "        [0.8400],\n",
       "        [0.8600],\n",
       "        [0.8800],\n",
       "        [0.9000],\n",
       "        [0.9200],\n",
       "        [0.9400],\n",
       "        [0.9600],\n",
       "        [0.9800]])"
      ]
     },
     "execution_count": 46,
     "metadata": {},
     "output_type": "execute_result"
    }
   ],
   "source": [
    "X"
   ]
  },
  {
   "cell_type": "code",
   "execution_count": 5,
   "metadata": {},
   "outputs": [
    {
     "data": {
      "image/png": "[encoded data removed]",
      "text/plain": [
       "<Figure size 720x504 with 1 Axes>"
      ]
     },
     "metadata": {
      "needs_background": "light"
     },
     "output_type": "display_data"
    }
   ],
   "source": [
    "def plotPred(train_data=X_train, \n",
    "             train_labels=y_train,\n",
    "             test_data=X_test,\n",
    "             test_labels=y_test,\n",
    "             predictions=None):\n",
    "    plt.figure(figsize=(10,7))\n",
    "\n",
    "    plt.scatter(train_data, train_labels, c='b', s=4, label=\"Training data\")\n",
    "    plt.scatter(test_data, test_labels, c='g', s=4, label=\"Testing data\")\n",
    "\n",
    "    if predictions is not None:\n",
    "        plt.scatter(test_data, predictions, c=\"r\", label = \"Predictions\")\n",
    "    plt.legend(prop={\"size\":4})\n",
    "\n",
    "plotPred()"
   ]
  },
  {
   "attachments": {},
   "cell_type": "markdown",
   "metadata": {},
   "source": [
    "## PyTorch modelling\n",
    "* torch.nn - contains all buildings for computational graphs (neural network is a type of graph)\n",
    "* torch.nn.Parameter - what parameters should our model try and learn, often a PyTorch layer from torch.nn will set these for us. \n",
    "* torch.nn.Module - The base class for all neural network modules. If it is subclass-ed, please overwrite the \"forward()\" funtion\n",
    "* torch.optim - optimizers. Helps with gradient descent. \n",
    "* requires_grad - When calling tensor.backward(), pytorch travels the graph in the reverse direction to help compute a new gradient."
   ]
  },
  {
   "cell_type": "code",
   "execution_count": 6,
   "metadata": {},
   "outputs": [],
   "source": [
    "torch.manual_seed(42)\n",
    "class LinearRegressionMod(nn.Module):\n",
    "    def __init__(self):\n",
    "        super().__init__()\n",
    "        self.weights = nn.Parameter(torch.randn(1, requires_grad=True)) #parameter\n",
    "        self.bias = nn.Parameter(torch.randn(1, requires_grad=True)) #parameter.\n",
    "\n",
    "        #usually in a NN, PyTorch later from torch.nn will set these for us. \n",
    "\n",
    "    def forward(self, x: torch.Tensor) -> torch.Tensor:\n",
    "        return self.weights * x + self.bias"
   ]
  },
  {
   "cell_type": "code",
   "execution_count": 7,
   "metadata": {},
   "outputs": [
    {
     "data": {
      "image/png": "[encoded data removed]",
      "text/plain": [
       "<Figure size 720x504 with 1 Axes>"
      ]
     },
     "metadata": {
      "needs_background": "light"
     },
     "output_type": "display_data"
    }
   ],
   "source": [
    "model_0 = LinearRegressionMod()\n",
    "with torch.inference_mode():\n",
    "    y_preds = model_0(X_test)\n",
    "\n",
    "plotPred(predictions=y_preds)\n",
    "#y_preds is generated randomly first. \n",
    "\n",
    "#inference mode turns off gradient tracking, because we dont need gradient descent when doing test data, \n",
    "# only train data. \n"
   ]
  },
  {
   "attachments": {},
   "cell_type": "markdown",
   "metadata": {},
   "source": [
    "## Training the model \n",
    "\n",
    "The whole idea of training is for a model to move from some *unknown* parameter, to a *known* parameter.\n",
    "\n",
    "* Loss function: A function to measure how **\"wrong\"** your model's predicitons are to the ideal outputs, lower is better. There are maybe around 15 loss functions. Each function is better suited for different types of data. \n",
    "    * Mean Absolute Error (L1 Loss)\n",
    "* Optimizer: Takes into account the loss of a model and **adjusts** the model's parameters, to improve the loss funciton. In this case, it is weight and bias.\n",
    "\n",
    "In other words, loss function is like a metric of our model, and the optimizer is the one thats actually changing values to appease the loss function. \n",
    "\n",
    "So we would need:\n",
    "* Training Loop\n",
    "* Testing Loop\n",
    "\n",
    "**Q:** Which loss function and optimizer should I use? \n",
    "\n",
    "**A:** This is problem specific. But with experience, you'll get an idea of what works and what doesnt with my problem set. \n",
    "\n",
    "For example, a regression problem most likely requires a L1 loss, and optimizer like SGD.\n",
    "\n",
    "But a classificaion problem might use BCELoss (binary cross entropy loss)"
   ]
  },
  {
   "cell_type": "code",
   "execution_count": 40,
   "metadata": {},
   "outputs": [],
   "source": [
    "#Setup a loss function\n",
    "loss_fn = nn.L1Loss()\n",
    "\n",
    "#for this loss function, we are trying to minimize the space between the predictions and actual data.\n",
    "\n",
    "\n",
    "#Setup an optimizer. (stochastic gradient descent)\n",
    "optimizer = torch.optim.SGD(params=model_0.parameters(), lr=0.01)\n",
    "\n",
    "#lr is learning rate, which is the step value where the optimizer changes the parameter values. "
   ]
  },
  {
   "attachments": {},
   "cell_type": "markdown",
   "metadata": {},
   "source": [
    "## Training Loop\n",
    "\n",
    "0. Loop through the data\n",
    "1. Forward pass (this involves data moving through our model's `forward()` functions) - also called forward propagation\n",
    "2. Calculate the loss (compare forward pass predicitons to ground truth labels)\n",
    "3. Optimizer zero grad\n",
    "4. Loss backward - move backwards through the network to calculate the gradients of each of the parameters of our model with respect to the loss (**backpropagation**). When the gradient = 0, the loss will be 0 also.\n",
    "5. Optimizer Step - use the optimzier to adjust our model to try to improve the loss."
   ]
  },
  {
   "cell_type": "code",
   "execution_count": 41,
   "metadata": {},
   "outputs": [
    {
     "name": "stdout",
     "output_type": "stream",
     "text": [
      "OrderedDict([('weights', tensor([0.3000])), ('bias', tensor([1.0000]))])\n"
     ]
    },
    {
     "data": {
      "image/png": "[encoded data removed]",
      "text/plain": [
       "<Figure size 720x504 with 1 Axes>"
      ]
     },
     "metadata": {
      "needs_background": "light"
     },
     "output_type": "display_data"
    }
   ],
   "source": [
    "#An epoch is one loop through the data. \n",
    "#One loop as in, run through the steps once.\n",
    "epochs=1000\n",
    "\n",
    "#0. Loop through the data\n",
    "for epoch in range (epochs):\n",
    "    #Set the model to training mode\n",
    "    model_0.train() #set the parameters require_grad to = True\n",
    "\n",
    "    #1. Forward pass\n",
    "    y_pred = model_0(X_train)\n",
    "\n",
    "    #2. Calculate the loss (we are using L1 loss. You can search for the image of what the curve looks like)\n",
    "    loss = loss_fn(y_pred, y_train)\n",
    "\n",
    "    #3. Optimizer zero grad\n",
    "    optimizer.zero_grad()\n",
    "\n",
    "    #4. Perform backpropagation on the loss wrt to parameters of the model\n",
    "    loss.backward()\n",
    "\n",
    "    #5. step the optimizer (perform gradient descent). We are using stochastic gradient descent.\n",
    "    optimizer.step()\n",
    "\n",
    "    #Testing!\n",
    "    model_0.eval() #turns off gradient tracking so that our model can be used for testing\n",
    "\n",
    "with torch.inference_mode():\n",
    "    print(model_0.state_dict())\n",
    "    plotPred(predictions=model_0(X_test))\n",
    "\n",
    "#After running 400 Epochs, (training the model), we get a weights and bias parameter that is EXTREMELY close to what\n",
    "# we defined at first!\n",
    "#when we change the LR (learning rate), it gets EVEN CLOSER\n"
   ]
  },
  {
   "attachments": {},
   "cell_type": "markdown",
   "metadata": {},
   "source": [
    "## Saving & Loading your models.\n",
    "\n",
    "1. `torch.save()` - allows you to save a PyTorch object in Python's pickle format\n",
    "2. `torch.load()` - allows you to load a saved PyTorch object\n",
    "3. `torch.nn.Module.load_state_dict()` - allows you to load a model's saved stated dictionary\n",
    "\n",
    "There are 2 ways you can save. \n",
    "\n",
    "1. `torch.save(model, path)`\n",
    "2. `torch.save(model.state_dict(), PATH)` (Recommended)\n",
    "\n",
    "**important note:** because `state_dict()` is a function, please remember to enter parentheses before saving it. If not, torch will not load correctly."
   ]
  },
  {
   "cell_type": "code",
   "execution_count": 42,
   "metadata": {},
   "outputs": [
    {
     "name": "stdout",
     "output_type": "stream",
     "text": [
      "Saving model to: models\\playground_model.pth\n"
     ]
    }
   ],
   "source": [
    "from pathlib import Path\n",
    "\n",
    "#1. Create models directory\n",
    "MODEL_PATH = Path('models')\n",
    "MODEL_PATH.mkdir(parents=True, exist_ok=True)\n",
    "\n",
    "#2. Create model save path\n",
    "MODEL_NAME = 'playground_model.pth'\n",
    "MODEL_SAVE_PATH = MODEL_PATH / MODEL_NAME\n",
    "MODEL_SAVE_PATH\n",
    "\n",
    "print(f\"Saving model to: {MODEL_SAVE_PATH}\")\n",
    "torch.save(model_0.state_dict(), MODEL_SAVE_PATH)"
   ]
  },
  {
   "cell_type": "code",
   "execution_count": 44,
   "metadata": {},
   "outputs": [
    {
     "name": "stdout",
     "output_type": "stream",
     "text": [
      "models\\playground_model.pth\n",
      "Unloaded model: OrderedDict([('weights', tensor([-1.1229])), ('bias', tensor([-0.1863]))])\n",
      "Loaded model: OrderedDict([('weights', tensor([0.3000])), ('bias', tensor([1.0000]))])\n",
      "tensor([[True],\n",
      "        [True],\n",
      "        [True],\n",
      "        [True],\n",
      "        [True],\n",
      "        [True],\n",
      "        [True],\n",
      "        [True],\n",
      "        [True],\n",
      "        [True]])\n"
     ]
    }
   ],
   "source": [
    "#To load in a saved state_dict, need to instantiate a new instance of our model's class first. \n",
    "print(MODEL_SAVE_PATH)\n",
    "loaded_model_0 = LinearRegressionMod()\n",
    "print(f\"Unloaded model: {loaded_model_0.state_dict()}\")\n",
    "loaded_model_0.load_state_dict(torch.load(MODEL_SAVE_PATH))\n",
    "print(f\"Loaded model: {loaded_model_0.state_dict()}\")\n",
    "\n",
    "#Check to see if values are updated correctly:\n",
    "with torch.inference_mode():\n",
    "    og_y_preds = model_0(X_test)\n",
    "    loaded_y_preds = loaded_model_0(X_test)\n",
    "#should output true\n",
    "print(og_y_preds == loaded_y_preds)"
   ]
  },
  {
   "cell_type": "code",
   "execution_count": 45,
   "metadata": {},
   "outputs": [
    {
     "data": {
      "text/plain": [
       "OrderedDict([('weights', tensor([0.3000])), ('bias', tensor([1.0000]))])"
      ]
     },
     "execution_count": 45,
     "metadata": {},
     "output_type": "execute_result"
    }
   ],
   "source": [
    "loaded_model_0.state_dict()"
   ]
  }
 ],
 "metadata": {
  "kernelspec": {
   "display_name": "Python 3",
   "language": "python",
   "name": "python3"
  },
  "language_info": {
   "codemirror_mode": {
    "name": "ipython",
    "version": 3
   },
   "file_extension": ".py",
   "mimetype": "text/x-python",
   "name": "python",
   "nbconvert_exporter": "python",
   "pygments_lexer": "ipython3",
   "version": "3.11.3"
  },
  "orig_nbformat": 4
 },
 "nbformat": 4,
 "nbformat_minor": 2
}
