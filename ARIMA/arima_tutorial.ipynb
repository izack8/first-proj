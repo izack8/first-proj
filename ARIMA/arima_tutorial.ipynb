{
 "cells": [
  {
   "attachments": {},
   "cell_type": "markdown",
   "metadata": {},
   "source": [
    "## To build an ARIMA model (resources):\n",
    "- https://machinelearningmastery.com/arima-for-time-series-forecasting-with-python/\n",
    "- https://www.machinelearningplus.com/time-series/arima-model-time-series-forecasting-python/\n",
    "\n",
    "We first need the time-series to be **stationary**. Visually, a stationary time series graph would appear as a relatively flat line with random fluctuations around a constant mean. The data points would show no apparent trend, seasonality, or systematic patterns. The spread or dispersion of the data points around the mean would be consistent throughout the series.\n",
    "\n",
    "The parameters of the ARIMA model are defined as follows:\n",
    "\n",
    "**`p`** (AR): The number of lag observations included in the model, also called the lag order.\n",
    "\n",
    "**`d`**: The number of times that the raw observations are differenced, also called the degree of differencing. (differencing is needed for the graph to be stationary)\n",
    "\n",
    "**`q`** (MA): The size of the moving average window, also called the order of moving average."
   ]
  },
  {
   "attachments": {},
   "cell_type": "markdown",
   "metadata": {},
   "source": [
    "## The 'AR' part\n",
    "\n",
    "Because, term ‘Auto Regressive’ in ARIMA means it is a linear regression model that uses its own lags as predictors. (self-predict-self)\n",
    "\n",
    "Linear regression models, as you know, work best when the predictors are **not** correlated and are independent of each other.\n",
    "\n",
    "So we would want to select the `p` (how many lags units) that is the most independent from itself. Autocorrelation is able to do this for us. \n",
    "\n",
    "`d` is the amount of differencing (making the function stationary)"
   ]
  },
  {
   "attachments": {},
   "cell_type": "markdown",
   "metadata": {},
   "source": []
  },
  {
   "cell_type": "markdown",
   "metadata": {},
   "source": []
  }
 ],
 "metadata": {
  "language_info": {
   "name": "python"
  },
  "orig_nbformat": 4
 },
 "nbformat": 4,
 "nbformat_minor": 2
}
