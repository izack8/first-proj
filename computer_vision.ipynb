{
 "cells": [
  {
   "attachments": {},
   "cell_type": "markdown",
   "metadata": {},
   "source": [
    "# Computer Vision Deep Learning"
   ]
  },
  {
   "attachments": {},
   "cell_type": "markdown",
   "metadata": {},
   "source": [
    "The codes behind CV is a lot like multiclass classification. We encode the picture into tensors for the computer to understand, and it churns out the **probabailities** of what the photo is (but we need to do labelling of data on the photos first)\n",
    "\n",
    "CNN layer is a good algorithm to learn from images, as the window convolves through each pixel-turned-tensor-data, and try to learn patterns from the images."
   ]
  },
  {
   "attachments": {},
   "cell_type": "markdown",
   "metadata": {},
   "source": [
    "## Frameworks to run"
   ]
  },
  {
   "cell_type": "code",
   "execution_count": 1,
   "metadata": {},
   "outputs": [],
   "source": [
    "#deep learning\n",
    "import torch\n",
    "from torch import nn\n",
    "\n",
    "#computer viz\n",
    "import torchvision \n",
    "from torchvision import datasets\n",
    "from torchvision import transforms \n",
    "from torchvision.transforms import ToTensor\n",
    "\n",
    "import matplotlib.pyplot as plt\n",
    "from sklearn.model_selection import train_test_split\n",
    "from helper_functions import plot_decision_boundary\n",
    "from sklearn.datasets import make_blobs\n",
    "\n",
    "from tqdm.auto import tqdm\n",
    "\n",
    "from timeit import default_timer as timer\n",
    "\n",
    "import helper_functions as hf\n"
   ]
  },
  {
   "cell_type": "code",
   "execution_count": 2,
   "metadata": {},
   "outputs": [],
   "source": [
    "train_data = datasets.FashionMNIST(\n",
    "    root='data', #where to download data to? \n",
    "    train=True,  #do we want the training dataset?\n",
    "    download=True, #download it?\n",
    "    transform=torchvision.transforms.ToTensor(), #how do we want to transform the data?\n",
    "    target_transform=None #how do we want to transform the labels/targets?\n",
    ")\n",
    "\n",
    "\n",
    "test_data = datasets.FashionMNIST(\n",
    "    root='data', #where to download data to? \n",
    "    train=False,  #do we want the training dataset?\n",
    "    download=True, #download it?\n",
    "    transform=ToTensor(), #how do we want to transform the data?\n",
    "    target_transform=None #how do we want to transform the labels/targets?\n",
    ")"
   ]
  },
  {
   "cell_type": "code",
   "execution_count": 3,
   "metadata": {},
   "outputs": [
    {
     "data": {
      "text/plain": [
       "60000"
      ]
     },
     "execution_count": 3,
     "metadata": {},
     "output_type": "execute_result"
    }
   ],
   "source": [
    "len(train_data)"
   ]
  },
  {
   "cell_type": "code",
   "execution_count": 5,
   "metadata": {},
   "outputs": [
    {
     "data": {
      "text/plain": [
       "(tensor([[[0.0000, 0.0000, 0.0000, 0.0000, 0.0000, 0.0000, 0.0000, 0.0000,\n",
       "           0.0000, 0.0000, 0.0000, 0.0000, 0.0000, 0.0000, 0.0000, 0.0000,\n",
       "           0.0000, 0.0000, 0.0000, 0.0000, 0.0000, 0.0000, 0.0000, 0.0000,\n",
       "           0.0000, 0.0000, 0.0000, 0.0000],\n",
       "          [0.0000, 0.0000, 0.0000, 0.0000, 0.0000, 0.0000, 0.0000, 0.0000,\n",
       "           0.0000, 0.0000, 0.0000, 0.0000, 0.0000, 0.0000, 0.0000, 0.0000,\n",
       "           0.0000, 0.0000, 0.0000, 0.0000, 0.0000, 0.0000, 0.0000, 0.0000,\n",
       "           0.0000, 0.0000, 0.0000, 0.0000],\n",
       "          [0.0000, 0.0000, 0.0000, 0.0000, 0.0000, 0.0000, 0.0000, 0.0000,\n",
       "           0.0000, 0.0000, 0.0000, 0.0000, 0.0000, 0.0000, 0.0000, 0.0000,\n",
       "           0.0000, 0.0000, 0.0000, 0.0000, 0.0000, 0.0000, 0.0000, 0.0000,\n",
       "           0.0000, 0.0000, 0.0000, 0.0000],\n",
       "          [0.0000, 0.0000, 0.0000, 0.0000, 0.0000, 0.0000, 0.0000, 0.0000,\n",
       "           0.0000, 0.0000, 0.0000, 0.0000, 0.0039, 0.0000, 0.0000, 0.0510,\n",
       "           0.2863, 0.0000, 0.0000, 0.0039, 0.0157, 0.0000, 0.0000, 0.0000,\n",
       "           0.0000, 0.0039, 0.0039, 0.0000],\n",
       "          [0.0000, 0.0000, 0.0000, 0.0000, 0.0000, 0.0000, 0.0000, 0.0000,\n",
       "           0.0000, 0.0000, 0.0000, 0.0000, 0.0118, 0.0000, 0.1412, 0.5333,\n",
       "           0.4980, 0.2431, 0.2118, 0.0000, 0.0000, 0.0000, 0.0039, 0.0118,\n",
       "           0.0157, 0.0000, 0.0000, 0.0118],\n",
       "          [0.0000, 0.0000, 0.0000, 0.0000, 0.0000, 0.0000, 0.0000, 0.0000,\n",
       "           0.0000, 0.0000, 0.0000, 0.0000, 0.0235, 0.0000, 0.4000, 0.8000,\n",
       "           0.6902, 0.5255, 0.5647, 0.4824, 0.0902, 0.0000, 0.0000, 0.0000,\n",
       "           0.0000, 0.0471, 0.0392, 0.0000],\n",
       "          [0.0000, 0.0000, 0.0000, 0.0000, 0.0000, 0.0000, 0.0000, 0.0000,\n",
       "           0.0000, 0.0000, 0.0000, 0.0000, 0.0000, 0.0000, 0.6078, 0.9255,\n",
       "           0.8118, 0.6980, 0.4196, 0.6118, 0.6314, 0.4275, 0.2510, 0.0902,\n",
       "           0.3020, 0.5098, 0.2824, 0.0588],\n",
       "          [0.0000, 0.0000, 0.0000, 0.0000, 0.0000, 0.0000, 0.0000, 0.0000,\n",
       "           0.0000, 0.0000, 0.0000, 0.0039, 0.0000, 0.2706, 0.8118, 0.8745,\n",
       "           0.8549, 0.8471, 0.8471, 0.6392, 0.4980, 0.4745, 0.4784, 0.5725,\n",
       "           0.5529, 0.3451, 0.6745, 0.2588],\n",
       "          [0.0000, 0.0000, 0.0000, 0.0000, 0.0000, 0.0000, 0.0000, 0.0000,\n",
       "           0.0000, 0.0039, 0.0039, 0.0039, 0.0000, 0.7843, 0.9098, 0.9098,\n",
       "           0.9137, 0.8980, 0.8745, 0.8745, 0.8431, 0.8353, 0.6431, 0.4980,\n",
       "           0.4824, 0.7686, 0.8980, 0.0000],\n",
       "          [0.0000, 0.0000, 0.0000, 0.0000, 0.0000, 0.0000, 0.0000, 0.0000,\n",
       "           0.0000, 0.0000, 0.0000, 0.0000, 0.0000, 0.7176, 0.8824, 0.8471,\n",
       "           0.8745, 0.8941, 0.9216, 0.8902, 0.8784, 0.8706, 0.8784, 0.8667,\n",
       "           0.8745, 0.9608, 0.6784, 0.0000],\n",
       "          [0.0000, 0.0000, 0.0000, 0.0000, 0.0000, 0.0000, 0.0000, 0.0000,\n",
       "           0.0000, 0.0000, 0.0000, 0.0000, 0.0000, 0.7569, 0.8941, 0.8549,\n",
       "           0.8353, 0.7765, 0.7059, 0.8314, 0.8235, 0.8275, 0.8353, 0.8745,\n",
       "           0.8627, 0.9529, 0.7922, 0.0000],\n",
       "          [0.0000, 0.0000, 0.0000, 0.0000, 0.0000, 0.0000, 0.0000, 0.0000,\n",
       "           0.0000, 0.0039, 0.0118, 0.0000, 0.0471, 0.8588, 0.8627, 0.8314,\n",
       "           0.8549, 0.7529, 0.6627, 0.8902, 0.8157, 0.8549, 0.8784, 0.8314,\n",
       "           0.8863, 0.7725, 0.8196, 0.2039],\n",
       "          [0.0000, 0.0000, 0.0000, 0.0000, 0.0000, 0.0000, 0.0000, 0.0000,\n",
       "           0.0000, 0.0000, 0.0235, 0.0000, 0.3882, 0.9569, 0.8706, 0.8627,\n",
       "           0.8549, 0.7961, 0.7765, 0.8667, 0.8431, 0.8353, 0.8706, 0.8627,\n",
       "           0.9608, 0.4667, 0.6549, 0.2196],\n",
       "          [0.0000, 0.0000, 0.0000, 0.0000, 0.0000, 0.0000, 0.0000, 0.0000,\n",
       "           0.0000, 0.0157, 0.0000, 0.0000, 0.2157, 0.9255, 0.8941, 0.9020,\n",
       "           0.8941, 0.9412, 0.9098, 0.8353, 0.8549, 0.8745, 0.9176, 0.8510,\n",
       "           0.8510, 0.8196, 0.3608, 0.0000],\n",
       "          [0.0000, 0.0000, 0.0039, 0.0157, 0.0235, 0.0275, 0.0078, 0.0000,\n",
       "           0.0000, 0.0000, 0.0000, 0.0000, 0.9294, 0.8863, 0.8510, 0.8745,\n",
       "           0.8706, 0.8588, 0.8706, 0.8667, 0.8471, 0.8745, 0.8980, 0.8431,\n",
       "           0.8549, 1.0000, 0.3020, 0.0000],\n",
       "          [0.0000, 0.0118, 0.0000, 0.0000, 0.0000, 0.0000, 0.0000, 0.0000,\n",
       "           0.0000, 0.2431, 0.5686, 0.8000, 0.8941, 0.8118, 0.8353, 0.8667,\n",
       "           0.8549, 0.8157, 0.8275, 0.8549, 0.8784, 0.8745, 0.8588, 0.8431,\n",
       "           0.8784, 0.9569, 0.6235, 0.0000],\n",
       "          [0.0000, 0.0000, 0.0000, 0.0000, 0.0706, 0.1725, 0.3216, 0.4196,\n",
       "           0.7412, 0.8941, 0.8627, 0.8706, 0.8510, 0.8863, 0.7843, 0.8039,\n",
       "           0.8275, 0.9020, 0.8784, 0.9176, 0.6902, 0.7373, 0.9804, 0.9725,\n",
       "           0.9137, 0.9333, 0.8431, 0.0000],\n",
       "          [0.0000, 0.2235, 0.7333, 0.8157, 0.8784, 0.8667, 0.8784, 0.8157,\n",
       "           0.8000, 0.8392, 0.8157, 0.8196, 0.7843, 0.6235, 0.9608, 0.7569,\n",
       "           0.8078, 0.8745, 1.0000, 1.0000, 0.8667, 0.9176, 0.8667, 0.8275,\n",
       "           0.8627, 0.9098, 0.9647, 0.0000],\n",
       "          [0.0118, 0.7922, 0.8941, 0.8784, 0.8667, 0.8275, 0.8275, 0.8392,\n",
       "           0.8039, 0.8039, 0.8039, 0.8627, 0.9412, 0.3137, 0.5882, 1.0000,\n",
       "           0.8980, 0.8667, 0.7373, 0.6039, 0.7490, 0.8235, 0.8000, 0.8196,\n",
       "           0.8706, 0.8941, 0.8824, 0.0000],\n",
       "          [0.3843, 0.9137, 0.7765, 0.8235, 0.8706, 0.8980, 0.8980, 0.9176,\n",
       "           0.9765, 0.8627, 0.7608, 0.8431, 0.8510, 0.9451, 0.2549, 0.2863,\n",
       "           0.4157, 0.4588, 0.6588, 0.8588, 0.8667, 0.8431, 0.8510, 0.8745,\n",
       "           0.8745, 0.8784, 0.8980, 0.1137],\n",
       "          [0.2941, 0.8000, 0.8314, 0.8000, 0.7569, 0.8039, 0.8275, 0.8824,\n",
       "           0.8471, 0.7255, 0.7725, 0.8078, 0.7765, 0.8353, 0.9412, 0.7647,\n",
       "           0.8902, 0.9608, 0.9373, 0.8745, 0.8549, 0.8314, 0.8196, 0.8706,\n",
       "           0.8627, 0.8667, 0.9020, 0.2627],\n",
       "          [0.1882, 0.7961, 0.7176, 0.7608, 0.8353, 0.7725, 0.7255, 0.7451,\n",
       "           0.7608, 0.7529, 0.7922, 0.8392, 0.8588, 0.8667, 0.8627, 0.9255,\n",
       "           0.8824, 0.8471, 0.7804, 0.8078, 0.7294, 0.7098, 0.6941, 0.6745,\n",
       "           0.7098, 0.8039, 0.8078, 0.4510],\n",
       "          [0.0000, 0.4784, 0.8588, 0.7569, 0.7020, 0.6706, 0.7176, 0.7686,\n",
       "           0.8000, 0.8235, 0.8353, 0.8118, 0.8275, 0.8235, 0.7843, 0.7686,\n",
       "           0.7608, 0.7490, 0.7647, 0.7490, 0.7765, 0.7529, 0.6902, 0.6118,\n",
       "           0.6549, 0.6941, 0.8235, 0.3608],\n",
       "          [0.0000, 0.0000, 0.2902, 0.7412, 0.8314, 0.7490, 0.6863, 0.6745,\n",
       "           0.6863, 0.7098, 0.7255, 0.7373, 0.7412, 0.7373, 0.7569, 0.7765,\n",
       "           0.8000, 0.8196, 0.8235, 0.8235, 0.8275, 0.7373, 0.7373, 0.7608,\n",
       "           0.7529, 0.8471, 0.6667, 0.0000],\n",
       "          [0.0078, 0.0000, 0.0000, 0.0000, 0.2588, 0.7843, 0.8706, 0.9294,\n",
       "           0.9373, 0.9490, 0.9647, 0.9529, 0.9569, 0.8667, 0.8627, 0.7569,\n",
       "           0.7490, 0.7020, 0.7137, 0.7137, 0.7098, 0.6902, 0.6510, 0.6588,\n",
       "           0.3882, 0.2275, 0.0000, 0.0000],\n",
       "          [0.0000, 0.0000, 0.0000, 0.0000, 0.0000, 0.0000, 0.0000, 0.1569,\n",
       "           0.2392, 0.1725, 0.2824, 0.1608, 0.1373, 0.0000, 0.0000, 0.0000,\n",
       "           0.0000, 0.0000, 0.0000, 0.0000, 0.0000, 0.0000, 0.0000, 0.0000,\n",
       "           0.0000, 0.0000, 0.0000, 0.0000],\n",
       "          [0.0000, 0.0000, 0.0000, 0.0000, 0.0000, 0.0000, 0.0000, 0.0000,\n",
       "           0.0000, 0.0000, 0.0000, 0.0000, 0.0000, 0.0000, 0.0000, 0.0000,\n",
       "           0.0000, 0.0000, 0.0000, 0.0000, 0.0000, 0.0000, 0.0000, 0.0000,\n",
       "           0.0000, 0.0000, 0.0000, 0.0000],\n",
       "          [0.0000, 0.0000, 0.0000, 0.0000, 0.0000, 0.0000, 0.0000, 0.0000,\n",
       "           0.0000, 0.0000, 0.0000, 0.0000, 0.0000, 0.0000, 0.0000, 0.0000,\n",
       "           0.0000, 0.0000, 0.0000, 0.0000, 0.0000, 0.0000, 0.0000, 0.0000,\n",
       "           0.0000, 0.0000, 0.0000, 0.0000]]]),\n",
       " 9)"
      ]
     },
     "execution_count": 5,
     "metadata": {},
     "output_type": "execute_result"
    }
   ],
   "source": [
    "#see the first training sample\n",
    "image, label = train_data[0]\n",
    "image, label"
   ]
  },
  {
   "cell_type": "code",
   "execution_count": 6,
   "metadata": {},
   "outputs": [
    {
     "data": {
      "text/plain": [
       "10"
      ]
     },
     "execution_count": 6,
     "metadata": {},
     "output_type": "execute_result"
    }
   ],
   "source": [
    "#it's a 9! which relates to an ankle boot\n",
    "image_with_labels = train_data.class_to_idx\n",
    "image_with_labels\n",
    "len(image_with_labels)"
   ]
  },
  {
   "cell_type": "code",
   "execution_count": 7,
   "metadata": {},
   "outputs": [
    {
     "name": "stdout",
     "output_type": "stream",
     "text": [
      "torch.Size([1, 28, 28])\n"
     ]
    },
    {
     "data": {
      "text/plain": [
       "<matplotlib.image.AxesImage at 0x17f0a4940>"
      ]
     },
     "execution_count": 7,
     "metadata": {},
     "output_type": "execute_result"
    },
    {
     "data": {
      "image/png": "[encoded data removed]",
      "text/plain": [
       "<Figure size 640x480 with 1 Axes>"
      ]
     },
     "metadata": {},
     "output_type": "display_data"
    }
   ],
   "source": [
    "#28 pixels across, 28 pixels down. not very high definition\n",
    "print(train_data[0][0].shape)\n",
    "image, label = train_data[0]\n",
    "plt.imshow(image.squeeze())"
   ]
  },
  {
   "cell_type": "code",
   "execution_count": 8,
   "metadata": {},
   "outputs": [
    {
     "data": {
      "text/plain": [
       "<matplotlib.image.AxesImage at 0x17f502f80>"
      ]
     },
     "execution_count": 8,
     "metadata": {},
     "output_type": "execute_result"
    },
    {
     "data": {
      "image/png": "[encoded data removed]",
      "text/plain": [
       "<Figure size 640x480 with 1 Axes>"
      ]
     },
     "metadata": {},
     "output_type": "display_data"
    }
   ],
   "source": [
    "#grayscale\n",
    "plt.imshow(image.squeeze(), cmap='gray')"
   ]
  },
  {
   "cell_type": "code",
   "execution_count": 9,
   "metadata": {},
   "outputs": [
    {
     "data": {
      "image/png": "[encoded data removed]",
      "text/plain": [
       "<Figure size 900x900 with 16 Axes>"
      ]
     },
     "metadata": {},
     "output_type": "display_data"
    }
   ],
   "source": [
    "#visualizing more images. \n",
    "fig = plt.figure(figsize=(9,9))\n",
    "rows, cols = 4,4\n",
    "for i in range(1, rows*cols+1):\n",
    "    random_idx = torch.randint(0, len(train_data), size=[1]).item()\n",
    "    img, label = train_data[random_idx] #img returns a tensor value, which is a representation of an image but with numbers\n",
    "    fig.add_subplot(rows, cols, i)\n",
    "    plt.imshow(img.squeeze(), cmap='gray')\n",
    "    plt.title(train_data.classes[label])\n",
    "    plt.axis(False)"
   ]
  },
  {
   "attachments": {},
   "cell_type": "markdown",
   "metadata": {},
   "source": [
    "### Dataloading\n",
    "\n",
    "1. More computationally efficient, computing hardware may not be able to look at all the data (maybe 60000) at once\n",
    "2. Gives our NN more chance to update gradients per epoch"
   ]
  },
  {
   "cell_type": "code",
   "execution_count": 10,
   "metadata": {},
   "outputs": [],
   "source": [
    "#batch sizes for faster processing\n",
    "from torch.utils.data import DataLoader\n",
    "train_dataloader = DataLoader(dataset=train_data, \n",
    "                              batch_size=32, #\n",
    "                              shuffle=True)\n",
    "\n",
    "test_dataloader = DataLoader(dataset=test_data,\n",
    "                             batch_size=32,\n",
    "                             shuffle=False)"
   ]
  },
  {
   "cell_type": "code",
   "execution_count": 11,
   "metadata": {},
   "outputs": [
    {
     "data": {
      "text/plain": [
       "(torch.Size([32, 1, 28, 28]), torch.Size([32]))"
      ]
     },
     "execution_count": 11,
     "metadata": {},
     "output_type": "execute_result"
    }
   ],
   "source": [
    "#check whats inside the training dataloader\n",
    "train_features_batch, train_labels_batch = next(iter(train_dataloader))\n",
    "train_features_batch.shape, train_labels_batch.shape\n",
    "\n",
    "#we should have batchs size = 32"
   ]
  },
  {
   "attachments": {},
   "cell_type": "markdown",
   "metadata": {},
   "source": []
  },
  {
   "cell_type": "code",
   "execution_count": 12,
   "metadata": {},
   "outputs": [
    {
     "data": {
      "text/plain": [
       "Text(0.5, 1.0, 'T-shirt/top')"
      ]
     },
     "execution_count": 12,
     "metadata": {},
     "output_type": "execute_result"
    },
    {
     "data": {
      "image/png": "[encoded data removed]",
      "text/plain": [
       "<Figure size 640x480 with 1 Axes>"
      ]
     },
     "metadata": {},
     "output_type": "display_data"
    }
   ],
   "source": [
    "#show the 2nd sample\n",
    "img, label = train_features_batch[3], train_labels_batch[3]\n",
    "plt.imshow(img.squeeze(), #removing one dimension\n",
    "           cmap='gray')\n",
    "plt.title(train_data.classes[label])"
   ]
  },
  {
   "attachments": {},
   "cell_type": "markdown",
   "metadata": {},
   "source": [
    "## Let's build our model!\n",
    "\n",
    "When statrting to build a series of mahcine learning modelling experiments, it's best practive to start with a baseline model, and then improve on it with subsequent features.\n",
    "\n",
    "AKA. start simply, add complexity when necessary"
   ]
  },
  {
   "cell_type": "code",
   "execution_count": 13,
   "metadata": {},
   "outputs": [
    {
     "name": "stdout",
     "output_type": "stream",
     "text": [
      "shape before: torch.Size([1, 28, 28])\n",
      "shape after: torch.Size([1, 784])\n"
     ]
    }
   ],
   "source": [
    "#Create a flatten layer\n",
    "\n",
    "flatten_model = nn.Flatten()\n",
    "\n",
    "x = train_features_batch[0]\n",
    "\n",
    "output =  flatten_model(x) #perform forward pass\n",
    "\n",
    "#Print out what happened\n",
    "print(f'shape before: {x.shape}') #[color channel, height width]\n",
    "print(f'shape after: {output.shape}') #[color channel, height*width]"
   ]
  },
  {
   "cell_type": "code",
   "execution_count": 14,
   "metadata": {},
   "outputs": [
    {
     "data": {
      "text/plain": [
       "tensor([[0.0000, 0.0000, 0.0000, 0.0000, 0.0000, 0.0000, 0.0000, 0.0000, 0.0000,\n",
       "         0.4588, 0.3059, 0.0000, 0.0000, 0.0000, 0.0000, 0.0000, 0.5804, 0.5176,\n",
       "         0.0000, 0.0000, 0.0000, 0.0000, 0.0000, 0.0000, 0.0000, 0.0000, 0.0000,\n",
       "         0.0000, 0.0000, 0.0000, 0.0000, 0.0000, 0.0000, 0.0000, 0.1020, 0.4000,\n",
       "         0.4941, 0.6039, 0.9137, 0.7569, 0.7333, 0.6471, 0.7490, 0.9804, 0.9137,\n",
       "         0.6235, 0.6314, 0.5176, 0.2196, 0.0000, 0.0000, 0.0000, 0.0000, 0.0000,\n",
       "         0.0000, 0.0000, 0.0000, 0.0000, 0.0000, 0.0000, 0.0000, 0.0588, 0.5020,\n",
       "         0.4588, 0.3725, 0.2980, 0.2980, 0.6627, 0.7490, 0.7255, 0.7333, 0.5804,\n",
       "         0.3843, 0.4157, 0.4000, 0.4588, 0.5804, 0.1098, 0.0000, 0.0078, 0.0000,\n",
       "         0.0000, 0.0000, 0.0000, 0.0000, 0.0000, 0.0000, 0.0000, 0.0000, 0.2196,\n",
       "         0.3569, 0.3137, 0.3569, 0.3569, 0.3059, 0.5373, 0.8863, 0.7843, 0.8118,\n",
       "         0.3059, 0.3647, 0.4510, 0.3922, 0.4353, 0.4510, 0.2980, 0.0000, 0.0000,\n",
       "         0.0000, 0.0000, 0.0000, 0.0000, 0.0000, 0.0000, 0.0000, 0.0000, 0.0000,\n",
       "         0.2471, 0.3137, 0.2784, 0.3137, 0.3569, 0.3412, 0.2706, 0.8431, 0.9961,\n",
       "         0.6235, 0.3294, 0.4510, 0.3922, 0.3725, 0.4353, 0.4157, 0.4157, 0.0000,\n",
       "         0.0000, 0.0000, 0.0000, 0.0000, 0.0000, 0.0000, 0.0000, 0.0000, 0.0000,\n",
       "         0.0000, 0.2902, 0.3216, 0.2980, 0.2275, 0.2784, 0.3843, 0.2902, 0.3922,\n",
       "         0.8784, 0.2275, 0.3412, 0.3647, 0.3843, 0.3490, 0.4667, 0.3922, 0.4431,\n",
       "         0.0000, 0.0000, 0.0000, 0.0000, 0.0000, 0.0000, 0.0000, 0.0000, 0.0000,\n",
       "         0.0000, 0.0000, 0.2902, 0.3059, 0.4157, 0.2039, 0.2392, 0.2471, 0.2980,\n",
       "         0.2275, 0.1686, 0.2980, 0.2471, 0.2784, 0.3137, 0.4941, 0.6824, 0.3647,\n",
       "         0.4157, 0.0824, 0.0000, 0.0000, 0.0000, 0.0000, 0.0000, 0.0000, 0.0000,\n",
       "         0.0000, 0.0000, 0.0078, 0.2902, 0.2471, 0.6745, 0.2275, 0.2118, 0.2275,\n",
       "         0.2275, 0.2706, 0.2784, 0.2549, 0.2471, 0.2392, 0.3725, 0.3569, 0.6824,\n",
       "         0.4157, 0.3725, 0.1529, 0.0000, 0.0000, 0.0000, 0.0000, 0.0000, 0.0000,\n",
       "         0.0000, 0.0000, 0.0000, 0.0588, 0.2902, 0.2275, 0.6627, 0.2902, 0.2392,\n",
       "         0.2118, 0.2275, 0.2392, 0.2392, 0.2627, 0.2902, 0.2627, 0.4510, 0.0000,\n",
       "         0.6627, 0.4784, 0.3216, 0.2471, 0.0000, 0.0000, 0.0000, 0.0000, 0.0000,\n",
       "         0.0000, 0.0000, 0.0000, 0.0000, 0.0902, 0.2392, 0.3216, 0.7765, 0.1333,\n",
       "         0.2784, 0.2039, 0.2392, 0.2392, 0.2392, 0.2627, 0.2980, 0.2549, 0.4353,\n",
       "         0.0000, 0.5176, 0.5608, 0.2980, 0.3216, 0.0000, 0.0000, 0.0000, 0.0000,\n",
       "         0.0000, 0.0000, 0.0000, 0.0000, 0.0000, 0.1020, 0.2039, 0.4510, 0.5294,\n",
       "         0.0000, 0.3412, 0.1961, 0.2549, 0.2392, 0.2392, 0.2549, 0.2706, 0.2784,\n",
       "         0.4588, 0.0000, 0.3725, 0.6549, 0.2392, 0.3490, 0.0000, 0.0000, 0.0000,\n",
       "         0.0000, 0.0000, 0.0000, 0.0000, 0.0000, 0.0000, 0.0902, 0.2118, 0.5451,\n",
       "         0.4510, 0.0000, 0.3216, 0.2196, 0.2627, 0.2549, 0.2549, 0.2627, 0.2902,\n",
       "         0.2627, 0.4157, 0.0000, 0.1843, 0.7333, 0.2118, 0.3843, 0.0000, 0.0000,\n",
       "         0.0000, 0.0000, 0.0000, 0.0000, 0.0000, 0.0000, 0.0000, 0.0824, 0.2118,\n",
       "         0.6118, 0.3725, 0.0392, 0.3412, 0.2275, 0.2784, 0.2627, 0.2627, 0.2706,\n",
       "         0.2784, 0.2902, 0.4235, 0.1255, 0.0000, 0.7176, 0.2706, 0.4235, 0.0157,\n",
       "         0.0000, 0.0000, 0.0000, 0.0000, 0.0000, 0.0000, 0.0000, 0.0000, 0.1529,\n",
       "         0.2039, 0.6902, 0.3922, 0.0902, 0.3412, 0.2471, 0.2784, 0.2627, 0.2549,\n",
       "         0.2902, 0.2980, 0.3059, 0.3843, 0.3059, 0.0000, 0.5882, 0.3294, 0.4078,\n",
       "         0.0235, 0.0000, 0.0000, 0.0000, 0.0000, 0.0000, 0.0000, 0.0000, 0.0000,\n",
       "         0.1961, 0.2275, 0.6235, 0.3647, 0.1333, 0.3647, 0.2784, 0.3059, 0.2902,\n",
       "         0.2706, 0.2980, 0.3059, 0.3216, 0.3137, 0.4157, 0.0000, 0.4235, 0.3490,\n",
       "         0.4157, 0.0392, 0.0000, 0.0000, 0.0000, 0.0000, 0.0000, 0.0000, 0.0000,\n",
       "         0.0000, 0.2118, 0.2196, 0.6039, 0.3137, 0.2118, 0.3725, 0.3059, 0.3216,\n",
       "         0.3137, 0.2902, 0.3137, 0.3216, 0.3294, 0.3216, 0.4941, 0.0392, 0.3647,\n",
       "         0.3569, 0.4157, 0.0745, 0.0000, 0.0000, 0.0000, 0.0000, 0.0000, 0.0000,\n",
       "         0.0000, 0.0000, 0.2196, 0.2627, 0.5961, 0.1255, 0.2706, 0.3569, 0.2980,\n",
       "         0.3137, 0.3137, 0.2784, 0.3412, 0.3216, 0.3412, 0.3216, 0.4863, 0.1333,\n",
       "         0.2980, 0.3725, 0.4078, 0.1020, 0.0000, 0.0000, 0.0000, 0.0000, 0.0000,\n",
       "         0.0000, 0.0000, 0.0000, 0.2118, 0.2784, 0.5176, 0.0235, 0.3294, 0.3647,\n",
       "         0.3490, 0.3490, 0.3490, 0.2980, 0.3843, 0.3412, 0.3294, 0.3216, 0.5098,\n",
       "         0.2196, 0.2039, 0.4000, 0.4431, 0.1176, 0.0000, 0.0000, 0.0000, 0.0000,\n",
       "         0.0000, 0.0000, 0.0000, 0.0000, 0.2706, 0.2784, 0.5294, 0.0902, 0.3843,\n",
       "         0.3725, 0.4000, 0.3922, 0.3922, 0.3216, 0.4235, 0.3647, 0.3412, 0.3569,\n",
       "         0.5020, 0.3294, 0.1765, 0.4235, 0.4353, 0.1255, 0.0000, 0.0000, 0.0000,\n",
       "         0.0000, 0.0000, 0.0000, 0.0000, 0.0000, 0.3137, 0.3490, 0.4431, 0.0392,\n",
       "         0.4431, 0.4078, 0.4235, 0.4078, 0.4431, 0.3412, 0.4863, 0.3569, 0.3490,\n",
       "         0.3843, 0.5020, 0.3490, 0.0745, 0.4863, 0.4588, 0.1608, 0.0000, 0.0000,\n",
       "         0.0000, 0.0000, 0.0000, 0.0000, 0.0000, 0.0000, 0.2627, 0.3843, 0.4157,\n",
       "         0.0392, 0.4588, 0.4588, 0.4353, 0.4235, 0.4784, 0.3725, 0.5176, 0.3725,\n",
       "         0.3647, 0.4588, 0.5176, 0.5373, 0.0000, 0.4863, 0.4667, 0.1843, 0.0000,\n",
       "         0.0000, 0.0000, 0.0000, 0.0000, 0.0000, 0.0000, 0.0000, 0.2471, 0.4588,\n",
       "         0.4000, 0.0314, 0.4941, 0.4784, 0.4588, 0.4784, 0.5373, 0.4353, 0.5725,\n",
       "         0.4353, 0.4000, 0.5020, 0.4863, 0.9569, 0.0000, 0.4667, 0.5020, 0.2039,\n",
       "         0.0000, 0.0000, 0.0000, 0.0000, 0.0000, 0.0000, 0.0000, 0.0000, 0.2196,\n",
       "         0.5294, 0.3490, 0.0000, 0.6471, 0.4784, 0.3216, 0.3490, 0.4000, 0.3647,\n",
       "         0.4667, 0.3216, 0.2784, 0.5725, 0.7922, 0.7686, 0.0000, 0.4667, 0.5373,\n",
       "         0.2549, 0.0000, 0.0000, 0.0000, 0.0000, 0.0000, 0.0000, 0.0000, 0.0000,\n",
       "         0.2039, 0.5176, 0.3412, 0.0000, 0.6745, 0.8353, 0.6471, 0.7686, 0.8784,\n",
       "         0.7059, 0.7333, 0.7333, 0.7686, 0.8000, 0.6392, 0.0000, 0.0000, 0.4431,\n",
       "         0.5725, 0.2784, 0.0000, 0.0000, 0.0000, 0.0000, 0.0000, 0.0000, 0.0000,\n",
       "         0.0000, 0.2471, 0.5608, 0.3412, 0.0000, 0.0000, 0.2627, 0.5608, 0.5961,\n",
       "         0.6392, 0.6549, 0.6471, 0.6745, 0.4431, 0.0000, 0.0000, 0.0000, 0.0000,\n",
       "         0.4078, 0.6118, 0.2627, 0.0000, 0.0000, 0.0000, 0.0000, 0.0000, 0.0000,\n",
       "         0.0000, 0.0000, 0.2627, 0.6235, 0.3216, 0.0000, 0.0000, 0.0000, 0.0000,\n",
       "         0.0000, 0.0000, 0.0000, 0.0000, 0.0000, 0.0000, 0.0000, 0.0000, 0.0000,\n",
       "         0.0000, 0.4235, 0.5529, 0.2549, 0.0000, 0.0000, 0.0000, 0.0000, 0.0000,\n",
       "         0.0000, 0.0000, 0.0000, 0.5020, 0.5961, 0.4000, 0.0000, 0.0078, 0.0078,\n",
       "         0.0078, 0.0000, 0.0000, 0.0000, 0.0000, 0.0000, 0.0078, 0.0000, 0.0000,\n",
       "         0.0000, 0.0000, 0.5804, 0.6549, 0.3647, 0.0000, 0.0000, 0.0000, 0.0000,\n",
       "         0.0000, 0.0000, 0.0000, 0.0000, 0.3647, 0.5176, 0.2471, 0.0000, 0.0000,\n",
       "         0.0000, 0.0000, 0.0000, 0.0000, 0.0000, 0.0000, 0.0000, 0.0000, 0.0000,\n",
       "         0.0000, 0.0000, 0.0000, 0.5098, 0.5804, 0.2980, 0.0000, 0.0000, 0.0000,\n",
       "         0.0000]])"
      ]
     },
     "execution_count": 14,
     "metadata": {},
     "output_type": "execute_result"
    }
   ],
   "source": [
    "output"
   ]
  },
  {
   "cell_type": "code",
   "execution_count": 15,
   "metadata": {},
   "outputs": [],
   "source": [
    "from torch import nn\n",
    "\n",
    "class FashionMNISTModel(nn.Module):\n",
    "    def __init__ (self, input, output, hidden_units):\n",
    "        super().__init__()\n",
    "\n",
    "        self.layer_stack = nn.Sequential(\n",
    "            nn.Flatten(), #we need this layer, so that our 2D tensor can trained as a 1D vector.\n",
    "            nn.Linear(in_features=input, out_features=hidden_units),\n",
    "            nn.Linear(in_features=hidden_units, out_features=output)\n",
    "        )\n",
    "    \n",
    "    def forward(self, x):\n",
    "        return self.layer_stack(x)"
   ]
  },
  {
   "cell_type": "code",
   "execution_count": 16,
   "metadata": {},
   "outputs": [
    {
     "data": {
      "text/plain": [
       "FashionMNISTModel(\n",
       "  (layer_stack): Sequential(\n",
       "    (0): Flatten(start_dim=1, end_dim=-1)\n",
       "    (1): Linear(in_features=784, out_features=10, bias=True)\n",
       "    (2): Linear(in_features=10, out_features=10, bias=True)\n",
       "  )\n",
       ")"
      ]
     },
     "execution_count": 16,
     "metadata": {},
     "output_type": "execute_result"
    }
   ],
   "source": [
    "#setup our model\n",
    "model = FashionMNISTModel(input = 784, # 28*28 for training purposes\n",
    "                         output = 10, # outputs one for each class\n",
    "                         hidden_units= 10) # units for training \n",
    "model "
   ]
  },
  {
   "cell_type": "code",
   "execution_count": 17,
   "metadata": {},
   "outputs": [
    {
     "data": {
      "text/plain": [
       "tensor([[ 0.1097,  0.2356, -0.2097,  0.2755,  0.5173, -0.0114, -0.2764, -0.1094,\n",
       "          0.1787,  0.2903]], grad_fn=<AddmmBackward0>)"
      ]
     },
     "execution_count": 17,
     "metadata": {},
     "output_type": "execute_result"
    }
   ],
   "source": [
    "dummy_x = torch.rand([1,1,28,28]) #this is the tensor we need to feed into our model. it is common to have an error here\n",
    "model(dummy_x)"
   ]
  },
  {
   "cell_type": "code",
   "execution_count": 18,
   "metadata": {},
   "outputs": [
    {
     "data": {
      "text/plain": [
       "OrderedDict([('layer_stack.1.weight',\n",
       "              tensor([[ 0.0345, -0.0048,  0.0249,  ..., -0.0083,  0.0250, -0.0060],\n",
       "                      [ 0.0343,  0.0017, -0.0288,  ...,  0.0081,  0.0136,  0.0191],\n",
       "                      [-0.0193, -0.0015, -0.0132,  ...,  0.0182, -0.0095, -0.0133],\n",
       "                      ...,\n",
       "                      [ 0.0277,  0.0149, -0.0041,  ..., -0.0190, -0.0275, -0.0216],\n",
       "                      [-0.0078,  0.0302,  0.0125,  ...,  0.0257, -0.0183, -0.0311],\n",
       "                      [-0.0152,  0.0302,  0.0252,  ...,  0.0283, -0.0086,  0.0354]])),\n",
       "             ('layer_stack.1.bias',\n",
       "              tensor([ 0.0153, -0.0176,  0.0269, -0.0341,  0.0276,  0.0031, -0.0159, -0.0174,\n",
       "                       0.0341,  0.0217])),\n",
       "             ('layer_stack.2.weight',\n",
       "              tensor([[ 0.2037, -0.0837, -0.2063,  0.1234,  0.1087, -0.1006, -0.1947,  0.1609,\n",
       "                        0.1679,  0.0910],\n",
       "                      [-0.0468,  0.2336,  0.2775,  0.2376, -0.1374, -0.2444, -0.2052, -0.0272,\n",
       "                       -0.1181,  0.2167],\n",
       "                      [-0.0130,  0.0334,  0.1413, -0.0328, -0.1722,  0.2137,  0.2787, -0.1823,\n",
       "                        0.0831,  0.3057],\n",
       "                      [-0.2879,  0.1363,  0.2074,  0.2663,  0.2775,  0.0194,  0.1788,  0.0867,\n",
       "                        0.0127, -0.1507],\n",
       "                      [ 0.1876,  0.2508,  0.0844,  0.2188,  0.1517, -0.1428,  0.0429, -0.1455,\n",
       "                       -0.1066, -0.0945],\n",
       "                      [ 0.2033, -0.1319, -0.0273,  0.0507, -0.2433, -0.1501, -0.0905, -0.2843,\n",
       "                        0.1724,  0.2642],\n",
       "                      [-0.1491,  0.2871, -0.3090,  0.0289, -0.2807, -0.1999,  0.2666, -0.0162,\n",
       "                        0.2982, -0.0348],\n",
       "                      [-0.0508, -0.0339, -0.0823, -0.1645,  0.1815, -0.2455,  0.0413,  0.2548,\n",
       "                       -0.2769,  0.0974],\n",
       "                      [-0.0619,  0.0724,  0.2119,  0.0893, -0.0405,  0.2793,  0.1920,  0.1652,\n",
       "                       -0.0661, -0.2414],\n",
       "                      [ 0.1842, -0.3128,  0.1463, -0.2246,  0.1892, -0.0310,  0.0799, -0.0802,\n",
       "                        0.0204,  0.1315]])),\n",
       "             ('layer_stack.2.bias',\n",
       "              tensor([ 0.1469,  0.0961, -0.3125,  0.2093,  0.2941, -0.0227,  0.0739, -0.1954,\n",
       "                       0.0854,  0.1318]))])"
      ]
     },
     "execution_count": 18,
     "metadata": {},
     "output_type": "execute_result"
    }
   ],
   "source": [
    "model.state_dict()"
   ]
  },
  {
   "attachments": {},
   "cell_type": "markdown",
   "metadata": {},
   "source": [
    "### Setup loss, optimizer and eval metrics.\n",
    "\n",
    "* Loss function - since we are working with multi-class data, our loss function will be `nn.CrossEntropyLoss()`\n",
    "* Optimizer - `torch.optin.SGD()`\n",
    "* Evaluation metric - classification problem, let's use _accuracy_"
   ]
  },
  {
   "cell_type": "code",
   "execution_count": 19,
   "metadata": {},
   "outputs": [],
   "source": [
    "loss_fn = nn.CrossEntropyLoss()\n",
    "optim = torch.optim.SGD(model.parameters(), lr=0.01)"
   ]
  },
  {
   "attachments": {},
   "cell_type": "markdown",
   "metadata": {},
   "source": [
    "### Creating a function to time our experiments\n",
    "\n",
    "Machine Learning is very experimental\n",
    "\n",
    "Two of the main things you'll often want to track are:\n",
    "1. Model's performance (loss and accuracy values)\n",
    "2. How fast it runs"
   ]
  },
  {
   "cell_type": "code",
   "execution_count": 40,
   "metadata": {},
   "outputs": [],
   "source": [
    "\n",
    "def print_train_time(start: float, end: float, device: torch.device = None):\n",
    "    total_time = end - start \n",
    "    print(f'Train time: {total_time:.3f} seconds')\n",
    "    return total_time"
   ]
  },
  {
   "cell_type": "code",
   "execution_count": 21,
   "metadata": {},
   "outputs": [
    {
     "name": "stdout",
     "output_type": "stream",
     "text": [
      "Tirain time: 0.000 seconds\n"
     ]
    },
    {
     "data": {
      "text/plain": [
       "9.124982170760632e-06"
      ]
     },
     "execution_count": 21,
     "metadata": {},
     "output_type": "execute_result"
    }
   ],
   "source": [
    "#looks something like that.\n",
    "\n",
    "start_time = timer()\n",
    "#some code\n",
    "end_time = timer()\n",
    "print_train_time(start_time, end_time)"
   ]
  },
  {
   "attachments": {},
   "cell_type": "markdown",
   "metadata": {},
   "source": [
    "### Creating a training loop.\n",
    "\n",
    "1. Loop through epochs.\n",
    "2. Loop through training batches, perform training steps, calculate the train loss *per batch*.\n",
    "3. Loop through testing batches, perform testing steps, calculate the test loss *per batch*.\n",
    "4. Print out whats happening.\n",
    "5. Time it."
   ]
  },
  {
   "cell_type": "code",
   "execution_count": 22,
   "metadata": {},
   "outputs": [
    {
     "data": {
      "application/vnd.jupyter.widget-view+json": {
       "model_id": "9d0533709443422cbe4a2730ddb5c055",
       "version_major": 2,
       "version_minor": 0
      },
      "text/plain": [
       "  0%|          | 0/3 [00:00<?, ?it/s]"
      ]
     },
     "metadata": {},
     "output_type": "display_data"
    },
    {
     "name": "stdout",
     "output_type": "stream",
     "text": [
      "Train loss: 0.8901 | Test loss: 0.6420, Test acc: 78.4145\n",
      "Train loss: 0.5634 | Test loss: 0.5502, Test acc: 80.7308\n",
      "Train loss: 0.5068 | Test loss: 0.5167, Test acc: 81.7991\n",
      "Tirain time: 5.791 seconds\n"
     ]
    },
    {
     "data": {
      "text/plain": [
       "5.791402750008274"
      ]
     },
     "execution_count": 22,
     "metadata": {},
     "output_type": "execute_result"
    }
   ],
   "source": [
    "train_time_start = timer()\n",
    "\n",
    "epochs = 3\n",
    "\n",
    "for epoch in tqdm(range(epochs)):\n",
    "    \n",
    "    train_loss = 0\n",
    "\n",
    "    #with every batch, we hope that the results get slightly better. \n",
    "    #if we are doing individually, it will be slower.\n",
    "    for batch, (X,y) in enumerate(train_dataloader):\n",
    "        model.train()\n",
    "\n",
    "        y_pred = model(X) # this will give us logits. we need to normalize (make it human language) this. \n",
    "                            #argmax is the function to use\n",
    "        loss = loss_fn (y_pred, y)\n",
    "        train_loss += loss #accumulate train loss\n",
    "\n",
    "        optim.zero_grad()\n",
    "        \n",
    "        loss.backward()\n",
    "\n",
    "        optim.step()\n",
    "    train_loss /= len(train_dataloader)\n",
    "\n",
    "    test_loss, test_acc = 0,0\n",
    "\n",
    "    model.eval()\n",
    "    with torch.inference_mode():\n",
    "        for X_test, y_test in test_dataloader:\n",
    "            test_pred = model(X_test)\n",
    "            test_loss += loss_fn(test_pred, y_test)\n",
    "\n",
    "            test_acc += hf.accuracy_fn(y_true=y_test, y_pred = test_pred.argmax(dim=1))\n",
    "        test_loss /= len(test_dataloader)\n",
    "        test_acc /= len(test_dataloader)\n",
    "\n",
    "    print(f'Train loss: {train_loss:.4f} | Test loss: {test_loss:.4f}, Test acc: {test_acc:.4f}')\n",
    "\n",
    "    train_time_end = timer()\n",
    "\n",
    "print_train_time(train_time_start, train_time_end)\n",
    "\n",
    "#16:14:45"
   ]
  },
  {
   "attachments": {},
   "cell_type": "markdown",
   "metadata": {},
   "source": [
    "## 4. make predictions and get model results\n",
    "\n",
    "Lets put our model into a function. This function should evaluate our model performance.\n",
    "\n",
    "When we are training a different model next time (if we want to improve our models), we are able to compare the metrics easily. \n"
   ]
  },
  {
   "cell_type": "code",
   "execution_count": 23,
   "metadata": {},
   "outputs": [
    {
     "data": {
      "text/plain": [
       "{'model_name': 'FashionMNISTModel',\n",
       " 'model_loss': 0.5166699886322021,\n",
       " 'model_acc': 81.7991214057508}"
      ]
     },
     "execution_count": 23,
     "metadata": {},
     "output_type": "execute_result"
    }
   ],
   "source": [
    "def eval_model(model: torch.nn.Module,\n",
    "              dataloader: torch.utils.data.DataLoader,\n",
    "              loss_fn: torch.nn.Module,\n",
    "              accuracy_fn):\n",
    "    loss, acc = 0,0\n",
    "    model.eval()\n",
    "    with torch.inference_mode():\n",
    "        for X, y in dataloader:\n",
    "            y_pred = model(X)\n",
    "\n",
    "            loss += loss_fn(y_pred, y)\n",
    "            acc += accuracy_fn(y_true=y, y_pred=y_pred.argmax(dim=1))\n",
    "\n",
    "\n",
    "        loss /= len(dataloader)\n",
    "        acc /= len(dataloader)\n",
    "\n",
    "    return {\"model_name\":model.__class__.__name__,\n",
    "            \"model_loss\":loss.item(),\n",
    "            \"model_acc\":acc}\n",
    "\n",
    "model_results = eval_model(model=model, dataloader=test_dataloader,\n",
    "                           loss_fn=loss_fn,\n",
    "                           accuracy_fn=hf.accuracy_fn)\n",
    "\n",
    "model_results\n"
   ]
  },
  {
   "attachments": {},
   "cell_type": "markdown",
   "metadata": {},
   "source": [
    "Right now, our model only has Linear Activations. What about Non-Linear?\n",
    "\n",
    "Let's try it now! \n",
    "\n",
    "# Non-Linear Activations "
   ]
  },
  {
   "cell_type": "code",
   "execution_count": 38,
   "metadata": {},
   "outputs": [
    {
     "data": {
      "text/plain": [
       "FashionMNISTModelNonLinear(\n",
       "  (layer_stack): Sequential(\n",
       "    (0): Flatten(start_dim=1, end_dim=-1)\n",
       "    (1): Linear(in_features=784, out_features=10, bias=True)\n",
       "    (2): ReLU()\n",
       "    (3): Linear(in_features=10, out_features=10, bias=True)\n",
       "    (4): ReLU()\n",
       "    (5): Linear(in_features=10, out_features=10, bias=True)\n",
       "  )\n",
       ")"
      ]
     },
     "execution_count": 38,
     "metadata": {},
     "output_type": "execute_result"
    }
   ],
   "source": [
    "class FashionMNISTModelNonLinear(nn.Module):\n",
    "    def __init__(self, input_shape, output_shape, hidden_units):\n",
    "        super().__init__()\n",
    "        self.layer_stack = nn.Sequential(\n",
    "            nn.Flatten(), #very important for Computer Viz!\n",
    "            nn.Linear(in_features=input_shape, out_features=hidden_units),\n",
    "            nn.ReLU(),\n",
    "            nn.Linear(in_features=hidden_units, out_features=hidden_units),\n",
    "            nn.ReLU(),\n",
    "            nn.Linear(in_features=hidden_units, out_features=output_shape), \n",
    "        )\n",
    "    \n",
    "    def forward(self, x: torch.Tensor):\n",
    "        return self.layer_stack(x)\n",
    "\n",
    "non_linear_model = FashionMNISTModelNonLinear(28*28, #output of the flatten layer.\n",
    "                                              10, \n",
    "                                              10)\n",
    "non_linear_model"
   ]
  },
  {
   "cell_type": "code",
   "execution_count": 25,
   "metadata": {},
   "outputs": [],
   "source": [
    "#creating a loss function for our new model.\n",
    "#we are using the exact same algorithm.\n",
    "loss_fn = nn.CrossEntropyLoss()\n",
    "optim = torch.optim.SGD(non_linear_model.parameters(), lr=0.01)"
   ]
  },
  {
   "attachments": {},
   "cell_type": "markdown",
   "metadata": {},
   "source": [
    "since we have written so many training loops, instead of writing it out yet again, lets put it into a function. \n",
    "\n",
    "We can just call the function as and when we like.\n"
   ]
  },
  {
   "cell_type": "code",
   "execution_count": 26,
   "metadata": {},
   "outputs": [],
   "source": [
    "def train_model(model: torch.nn.Module,\n",
    "                train_data_loader: torch.utils.data.DataLoader,\n",
    "                test_data_loader: torch.utils.data.DataLoader,\n",
    "                loss_function: torch.nn.Module,\n",
    "                optimizer: torch.optim,\n",
    "                epochs: int,\n",
    "                ):\n",
    "    train_time_start = timer()\n",
    "\n",
    "    for epoch in tqdm(range(epochs)):\n",
    "        \n",
    "        train_loss = 0\n",
    "\n",
    "        #with every batch, we hope that the results get slightly better. \n",
    "        #if we are doing individually, it will be slower.\n",
    "        for batch, (X,y) in enumerate(train_data_loader):\n",
    "            model.train()\n",
    "\n",
    "            y_pred = model(X) # this will give us logits. we need to normalize (make it human language) this. \n",
    "                                #argmax is the function to use\n",
    "            loss = loss_function(y_pred, y)\n",
    "            train_loss += loss #accumulate train loss\n",
    "\n",
    "            optimizer.zero_grad()\n",
    "            \n",
    "            loss.backward()\n",
    "\n",
    "            optimizer.step()\n",
    "\n",
    "        train_loss /= len(train_data_loader)\n",
    "\n",
    "        test_loss, test_acc = 0,0\n",
    "\n",
    "        model.eval()\n",
    "        with torch.inference_mode():\n",
    "            for X_test, y_test in test_data_loader:\n",
    "                test_pred = model(X_test)\n",
    "                test_loss += loss_fn(test_pred, y_test)\n",
    "\n",
    "                test_acc += hf.accuracy_fn(y_true=y_test, y_pred = test_pred.argmax(dim=1))\n",
    "                \n",
    "            test_loss /= len(test_data_loader)\n",
    "            test_acc /= len(test_data_loader)\n",
    "\n",
    "        print(f'Train loss: {train_loss:.4f} | Test loss: {test_loss:.4f}, Test acc: {test_acc:.4f}')\n",
    "\n",
    "        train_time_end = timer()\n",
    "\n",
    "    print_train_time(train_time_start, train_time_end)\n",
    "    "
   ]
  },
  {
   "cell_type": "code",
   "execution_count": 39,
   "metadata": {},
   "outputs": [
    {
     "data": {
      "application/vnd.jupyter.widget-view+json": {
       "model_id": "cb1d3b0c369c42889b7b76d956b843ed",
       "version_major": 2,
       "version_minor": 0
      },
      "text/plain": [
       "  0%|          | 0/3 [00:00<?, ?it/s]"
      ]
     },
     "metadata": {},
     "output_type": "display_data"
    },
    {
     "name": "stdout",
     "output_type": "stream",
     "text": [
      "Train loss: 2.3134 | Test loss: 2.3133, Test acc: 8.3566\n",
      "Train loss: 2.3134 | Test loss: 2.3133, Test acc: 8.3566\n",
      "Train loss: 2.3134 | Test loss: 2.3133, Test acc: 8.3566\n",
      "Tirain time: 5.836 seconds\n"
     ]
    }
   ],
   "source": [
    "train_model(non_linear_model, train_dataloader,test_dataloader, loss_fn, optim, 3)"
   ]
  },
  {
   "attachments": {},
   "cell_type": "markdown",
   "metadata": {},
   "source": [
    "ok, so the above was non-linear models.\n",
    "\n",
    "Now, it's time for the gigachad of computer viz...\n",
    "\n",
    "##### Convolutional Neural Networks!!!\n",
    "\n",
    "A convolutional layer is when a neuron only looks at certain regions of an input image\n",
    "\n",
    "# Let's build a CNN\n"
   ]
  },
  {
   "attachments": {},
   "cell_type": "markdown",
   "metadata": {},
   "source": [
    "Here are the main reasons why we need multiple CNN blocks (one block contains multiple layers):\n",
    "\n",
    "Feature extraction: CNN blocks help in extracting relevant features from the input data. Each block can learn specific patterns and features, such as edges, textures, or shapes. As we go deeper into the network, the **CNN blocks can learn more abstract and higher-level features** that are essential for the task at hand.\n",
    "\n",
    "Hierarchical representation: Multiple CNN blocks allow the network to build a hierarchical representation of the input data. The **lower-level blocks** capture simple features, and the **higher-level blocks** combine these features to detect more complex patterns and objects.\n",
    "\n",
    "Non-linearity: Each CNN block introduces non-linearities through activation functions like ReLU (Rectified Linear Unit). These non-linearities enable the network to learn and approximate complex relationships between input features and target outputs.\n",
    "\n",
    "Information abstraction: With multiple CNN blocks, the network can abstract and summarize information effectively. Pooling layers in each block help reduce spatial dimensions, making the model more efficient while retaining essential information.\n",
    "\n",
    "Better performance: Deeper networks with **multiple CNN blocks can achieve better performance** on challenging tasks like image recognition, object detection, and segmentation. The increased depth allows the model to learn intricate patterns and achieve a higher level of accuracy.\n",
    "\n",
    "Transfer learning: Multiple CNN blocks make it easier to apply transfer learning, where a pre-trained CNN can be used as a feature extractor for a new task. The earlier layers capture general features, and the later layers can be fine-tuned for the specific task."
   ]
  },
  {
   "cell_type": "code",
   "execution_count": 33,
   "metadata": {},
   "outputs": [],
   "source": [
    "class CNNFashionMNIST(nn.Module):\n",
    "    '''we are gonna model off from Tiny VGG'''\n",
    "    def __init__(self, input_shape: int, output_shape: int, hidden_units: int):\n",
    "        super().__init__()\n",
    "        self.conv_block_1 = nn.Sequential(\n",
    "            nn.Conv2d(in_channels=input_shape, #refer to 'what is a CNN' to understand these parameters better\n",
    "                      out_channels=hidden_units,\n",
    "                      kernel_size=3, #determine the size of a square matrix (in some cases, it is not a square),\n",
    "                                    #which will calculate our image. each unit represents a pixel\n",
    "                      stride=1, #how much pixels will it skip. \n",
    "                      padding=1),\n",
    "            #in summary, the above code tells us that a 3 by 3 matrix will move across the pixels of\n",
    "            #an image, with step (stride) of 1.\n",
    "            #in each step, a value for the 3 by 3 matrix is calculated. \n",
    "            #the kernel weights are updated each time through the loss functions\n",
    "            nn.ReLU(),\n",
    "            nn.Conv2d(in_channels=hidden_units,\n",
    "                      out_channels=hidden_units,\n",
    "                      kernel_size=3,\n",
    "                      stride=1,\n",
    "                      padding=1),\n",
    "            nn.ReLU(),\n",
    "            nn.MaxPool2d(kernel_size=2)\n",
    "        )\n",
    "        #------ second block --------\n",
    "        self.conv_block_2 = nn.Sequential(\n",
    "            nn.Conv2d(in_channels=hidden_units,\n",
    "                      out_channels=hidden_units,\n",
    "                      kernel_size=3,\n",
    "                      stride=1,\n",
    "                      padding=1),\n",
    "            nn.ReLU(),\n",
    "            nn.Conv2d(in_channels=hidden_units,\n",
    "                      out_channels=hidden_units,\n",
    "                      kernel_size=3,\n",
    "                      stride=1,\n",
    "                      padding=1),\n",
    "            nn.ReLU(),\n",
    "            nn.MaxPool2d(kernel_size=2)\n",
    "        )\n",
    "        #------ and finally to classify these layers --------\n",
    "        self.classifier = nn.Sequential(\n",
    "            nn.Flatten(), #flatten to become a 1D tensor, so that our \n",
    "            nn.Linear(in_features=hidden_units*7*7,\n",
    "                    #in this line, we do not know yet what the previous block/layer is going to output.\n",
    "                      #aka we don't know the shape it is going to churn out. so usually we would run this model, and print out the shape\n",
    "                      #of the output of the previous block, and then enter it here. \n",
    "                      #in this case, it is 7*7 if we enter a 28*28 pixels image. \n",
    "                      out_features=output_shape) #output_shape = 10, or the number of classes there are),\n",
    "\n",
    "        )\n",
    "\n",
    "    def forward (self, x):\n",
    "        x = self.conv_block_1(x)\n",
    "        x = self.conv_block_2(x)\n",
    "        return self.classifier(x)"
   ]
  },
  {
   "attachments": {},
   "cell_type": "markdown",
   "metadata": {},
   "source": [
    "Max pooling is needed in Convolutional Neural Networks (CNNs) for several reasons:\n",
    "\n",
    "Down-sampling: Max pooling reduces the spatial dimensions of the feature maps while retaining important features. This downsampling helps in reducing the computational complexity of the model and makes it more efficient during training and inference.\n",
    "\n",
    "Feature selection: By taking the maximum value within a local region, max pooling helps in selecting the most significant features from that region. It enhances the representation of important patterns or features, making the subsequent layers more effective in capturing relevant information.\n",
    "\n",
    "Translation invariance: Max pooling introduces some degree of translation invariance to the model. Since the operation only considers the maximum value within a window, the exact location of a feature in that window is less important. This makes the model more robust to small translations or shifts in the input data.\n",
    "\n",
    "Reducing overfitting: Max pooling can help in reducing overfitting by summarizing the information in the feature maps and preventing the model from memorizing noise or irrelevant details in the data.\n",
    "\n",
    "Learning hierarchical features: Max pooling is often used in CNN architectures to learn hierarchical features. As the network goes deeper, the receptive field of the pooling operation increases, allowing the model to capture more abstract and complex features."
   ]
  },
  {
   "cell_type": "code",
   "execution_count": 35,
   "metadata": {},
   "outputs": [],
   "source": [
    "cnnModel = CNNFashionMNIST(input_shape=1,\n",
    "                           hidden_units=10,\n",
    "                           output_shape=len(image_with_labels))"
   ]
  },
  {
   "cell_type": "code",
   "execution_count": 36,
   "metadata": {},
   "outputs": [],
   "source": [
    "#initialize loss and optimizers\n",
    "\n",
    "loss_fn = nn.CrossEntropyLoss() #best for multi class problems\n",
    "optim = torch.optim.SGD(params=cnnModel.parameters(),lr=0.1)\n"
   ]
  },
  {
   "cell_type": "markdown",
   "metadata": {},
   "source": [
    "## Training a CNN Model!"
   ]
  },
  {
   "cell_type": "code",
   "execution_count": 37,
   "metadata": {},
   "outputs": [
    {
     "data": {
      "application/vnd.jupyter.widget-view+json": {
       "model_id": "2674061141654307b35d4450e0198c15",
       "version_major": 2,
       "version_minor": 0
      },
      "text/plain": [
       "  0%|          | 0/3 [00:00<?, ?it/s]"
      ]
     },
     "metadata": {},
     "output_type": "display_data"
    },
    {
     "name": "stdout",
     "output_type": "stream",
     "text": [
      "Train loss: 0.5740 | Test loss: 0.3862, Test acc: 85.3634\n",
      "Train loss: 0.3481 | Test loss: 0.3435, Test acc: 87.4501\n",
      "Train loss: 0.3075 | Test loss: 0.3147, Test acc: 88.7280\n",
      "Tirain time: 82.120 seconds\n"
     ]
    }
   ],
   "source": [
    "train_model(cnnModel, train_dataloader,\n",
    "            test_dataloader,\n",
    "            loss_fn,\n",
    "            optim, 3)"
   ]
  },
  {
   "cell_type": "code",
   "execution_count": null,
   "metadata": {},
   "outputs": [],
   "source": []
  }
 ],
 "metadata": {
  "kernelspec": {
   "display_name": "izEnv",
   "language": "python",
   "name": "python3"
  },
  "language_info": {
   "codemirror_mode": {
    "name": "ipython",
    "version": 3
   },
   "file_extension": ".py",
   "mimetype": "text/x-python",
   "name": "python",
   "nbconvert_exporter": "python",
   "pygments_lexer": "ipython3",
   "version": "3.10.11"
  },
  "orig_nbformat": 4
 },
 "nbformat": 4,
 "nbformat_minor": 2
}
