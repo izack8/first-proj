{
 "cells": [
  {
   "attachments": {},
   "cell_type": "markdown",
   "metadata": {},
   "source": [
    "# Computer Vision Deep Learning"
   ]
  },
  {
   "attachments": {},
   "cell_type": "markdown",
   "metadata": {},
   "source": [
    "The codes behind CV is a lot like multiclass classification. We encode the picture into tensors for the computer to understand, and it churns out the **probabailities** of what the photo is (but we need to do labelling of data on the photos first)\n",
    "\n",
    "CNN layer is a good algorithm to learn from images, as the window convolves through each pixel-turned-tensor-data, and try to learn patterns from the images."
   ]
  },
  {
   "attachments": {},
   "cell_type": "markdown",
   "metadata": {},
   "source": [
    "## Frameworks to run"
   ]
  },
  {
   "cell_type": "code",
   "execution_count": 1,
   "metadata": {},
   "outputs": [],
   "source": [
    "#deep learning\n",
    "import torch\n",
    "from torch import nn\n",
    "\n",
    "#computer viz\n",
    "import torchvision \n",
    "from torchvision import datasets\n",
    "from torchvision import transforms \n",
    "from torchvision.transforms import ToTensor\n",
    "\n",
    "import matplotlib.pyplot as plt\n",
    "from sklearn.model_selection import train_test_split\n",
    "from helper_functions import plot_decision_boundary\n",
    "from sklearn.datasets import make_blobs\n",
    "\n",
    "from tqdm.auto import tqdm\n",
    "\n",
    "from timeit import default_timer as timer\n",
    "\n",
    "import helper_functions as hf\n"
   ]
  },
  {
   "cell_type": "code",
   "execution_count": 2,
   "metadata": {},
   "outputs": [],
   "source": [
    "train_data = datasets.FashionMNIST(\n",
    "    root='data', #where to download data to? \n",
    "    train=True,  #do we want the training dataset?\n",
    "    download=True, #download it?\n",
    "    transform=torchvision.transforms.ToTensor(), #how do we want to transform the data?\n",
    "    target_transform=None #how do we want to transform the labels/targets?\n",
    ")\n",
    "\n",
    "\n",
    "test_data = datasets.FashionMNIST(\n",
    "    root='data', #where to download data to? \n",
    "    train=False,  #do we want the training dataset?\n",
    "    download=True, #download it?\n",
    "    transform=ToTensor(), #how do we want to transform the data?\n",
    "    target_transform=None #how do we want to transform the labels/targets?\n",
    ")"
   ]
  },
  {
   "cell_type": "code",
   "execution_count": 3,
   "metadata": {},
   "outputs": [
    {
     "data": {
      "text/plain": [
       "(tensor([[[0.0000, 0.0000, 0.0000, 0.0000, 0.0000, 0.0000, 0.0000, 0.0000,\n",
       "           0.0000, 0.0000, 0.0000, 0.0000, 0.0000, 0.0000, 0.0000, 0.0000,\n",
       "           0.0000, 0.0000, 0.0000, 0.0000, 0.0000, 0.0000, 0.0000, 0.0000,\n",
       "           0.0000, 0.0000, 0.0000, 0.0000],\n",
       "          [0.0000, 0.0000, 0.0000, 0.0000, 0.0000, 0.0000, 0.0000, 0.0000,\n",
       "           0.0000, 0.0000, 0.0000, 0.0000, 0.0000, 0.0000, 0.0000, 0.0000,\n",
       "           0.0000, 0.0000, 0.0000, 0.0000, 0.0000, 0.0000, 0.0000, 0.0000,\n",
       "           0.0000, 0.0000, 0.0000, 0.0000],\n",
       "          [0.0000, 0.0000, 0.0000, 0.0000, 0.0000, 0.0000, 0.0000, 0.0000,\n",
       "           0.0000, 0.0000, 0.0000, 0.0000, 0.0000, 0.0000, 0.0000, 0.0000,\n",
       "           0.0000, 0.0000, 0.0000, 0.0000, 0.0000, 0.0000, 0.0000, 0.0000,\n",
       "           0.0000, 0.0000, 0.0000, 0.0000],\n",
       "          [0.0000, 0.0000, 0.0000, 0.0000, 0.0000, 0.0000, 0.0000, 0.0000,\n",
       "           0.0000, 0.0000, 0.0000, 0.0000, 0.0039, 0.0000, 0.0000, 0.0510,\n",
       "           0.2863, 0.0000, 0.0000, 0.0039, 0.0157, 0.0000, 0.0000, 0.0000,\n",
       "           0.0000, 0.0039, 0.0039, 0.0000],\n",
       "          [0.0000, 0.0000, 0.0000, 0.0000, 0.0000, 0.0000, 0.0000, 0.0000,\n",
       "           0.0000, 0.0000, 0.0000, 0.0000, 0.0118, 0.0000, 0.1412, 0.5333,\n",
       "           0.4980, 0.2431, 0.2118, 0.0000, 0.0000, 0.0000, 0.0039, 0.0118,\n",
       "           0.0157, 0.0000, 0.0000, 0.0118],\n",
       "          [0.0000, 0.0000, 0.0000, 0.0000, 0.0000, 0.0000, 0.0000, 0.0000,\n",
       "           0.0000, 0.0000, 0.0000, 0.0000, 0.0235, 0.0000, 0.4000, 0.8000,\n",
       "           0.6902, 0.5255, 0.5647, 0.4824, 0.0902, 0.0000, 0.0000, 0.0000,\n",
       "           0.0000, 0.0471, 0.0392, 0.0000],\n",
       "          [0.0000, 0.0000, 0.0000, 0.0000, 0.0000, 0.0000, 0.0000, 0.0000,\n",
       "           0.0000, 0.0000, 0.0000, 0.0000, 0.0000, 0.0000, 0.6078, 0.9255,\n",
       "           0.8118, 0.6980, 0.4196, 0.6118, 0.6314, 0.4275, 0.2510, 0.0902,\n",
       "           0.3020, 0.5098, 0.2824, 0.0588],\n",
       "          [0.0000, 0.0000, 0.0000, 0.0000, 0.0000, 0.0000, 0.0000, 0.0000,\n",
       "           0.0000, 0.0000, 0.0000, 0.0039, 0.0000, 0.2706, 0.8118, 0.8745,\n",
       "           0.8549, 0.8471, 0.8471, 0.6392, 0.4980, 0.4745, 0.4784, 0.5725,\n",
       "           0.5529, 0.3451, 0.6745, 0.2588],\n",
       "          [0.0000, 0.0000, 0.0000, 0.0000, 0.0000, 0.0000, 0.0000, 0.0000,\n",
       "           0.0000, 0.0039, 0.0039, 0.0039, 0.0000, 0.7843, 0.9098, 0.9098,\n",
       "           0.9137, 0.8980, 0.8745, 0.8745, 0.8431, 0.8353, 0.6431, 0.4980,\n",
       "           0.4824, 0.7686, 0.8980, 0.0000],\n",
       "          [0.0000, 0.0000, 0.0000, 0.0000, 0.0000, 0.0000, 0.0000, 0.0000,\n",
       "           0.0000, 0.0000, 0.0000, 0.0000, 0.0000, 0.7176, 0.8824, 0.8471,\n",
       "           0.8745, 0.8941, 0.9216, 0.8902, 0.8784, 0.8706, 0.8784, 0.8667,\n",
       "           0.8745, 0.9608, 0.6784, 0.0000],\n",
       "          [0.0000, 0.0000, 0.0000, 0.0000, 0.0000, 0.0000, 0.0000, 0.0000,\n",
       "           0.0000, 0.0000, 0.0000, 0.0000, 0.0000, 0.7569, 0.8941, 0.8549,\n",
       "           0.8353, 0.7765, 0.7059, 0.8314, 0.8235, 0.8275, 0.8353, 0.8745,\n",
       "           0.8627, 0.9529, 0.7922, 0.0000],\n",
       "          [0.0000, 0.0000, 0.0000, 0.0000, 0.0000, 0.0000, 0.0000, 0.0000,\n",
       "           0.0000, 0.0039, 0.0118, 0.0000, 0.0471, 0.8588, 0.8627, 0.8314,\n",
       "           0.8549, 0.7529, 0.6627, 0.8902, 0.8157, 0.8549, 0.8784, 0.8314,\n",
       "           0.8863, 0.7725, 0.8196, 0.2039],\n",
       "          [0.0000, 0.0000, 0.0000, 0.0000, 0.0000, 0.0000, 0.0000, 0.0000,\n",
       "           0.0000, 0.0000, 0.0235, 0.0000, 0.3882, 0.9569, 0.8706, 0.8627,\n",
       "           0.8549, 0.7961, 0.7765, 0.8667, 0.8431, 0.8353, 0.8706, 0.8627,\n",
       "           0.9608, 0.4667, 0.6549, 0.2196],\n",
       "          [0.0000, 0.0000, 0.0000, 0.0000, 0.0000, 0.0000, 0.0000, 0.0000,\n",
       "           0.0000, 0.0157, 0.0000, 0.0000, 0.2157, 0.9255, 0.8941, 0.9020,\n",
       "           0.8941, 0.9412, 0.9098, 0.8353, 0.8549, 0.8745, 0.9176, 0.8510,\n",
       "           0.8510, 0.8196, 0.3608, 0.0000],\n",
       "          [0.0000, 0.0000, 0.0039, 0.0157, 0.0235, 0.0275, 0.0078, 0.0000,\n",
       "           0.0000, 0.0000, 0.0000, 0.0000, 0.9294, 0.8863, 0.8510, 0.8745,\n",
       "           0.8706, 0.8588, 0.8706, 0.8667, 0.8471, 0.8745, 0.8980, 0.8431,\n",
       "           0.8549, 1.0000, 0.3020, 0.0000],\n",
       "          [0.0000, 0.0118, 0.0000, 0.0000, 0.0000, 0.0000, 0.0000, 0.0000,\n",
       "           0.0000, 0.2431, 0.5686, 0.8000, 0.8941, 0.8118, 0.8353, 0.8667,\n",
       "           0.8549, 0.8157, 0.8275, 0.8549, 0.8784, 0.8745, 0.8588, 0.8431,\n",
       "           0.8784, 0.9569, 0.6235, 0.0000],\n",
       "          [0.0000, 0.0000, 0.0000, 0.0000, 0.0706, 0.1725, 0.3216, 0.4196,\n",
       "           0.7412, 0.8941, 0.8627, 0.8706, 0.8510, 0.8863, 0.7843, 0.8039,\n",
       "           0.8275, 0.9020, 0.8784, 0.9176, 0.6902, 0.7373, 0.9804, 0.9725,\n",
       "           0.9137, 0.9333, 0.8431, 0.0000],\n",
       "          [0.0000, 0.2235, 0.7333, 0.8157, 0.8784, 0.8667, 0.8784, 0.8157,\n",
       "           0.8000, 0.8392, 0.8157, 0.8196, 0.7843, 0.6235, 0.9608, 0.7569,\n",
       "           0.8078, 0.8745, 1.0000, 1.0000, 0.8667, 0.9176, 0.8667, 0.8275,\n",
       "           0.8627, 0.9098, 0.9647, 0.0000],\n",
       "          [0.0118, 0.7922, 0.8941, 0.8784, 0.8667, 0.8275, 0.8275, 0.8392,\n",
       "           0.8039, 0.8039, 0.8039, 0.8627, 0.9412, 0.3137, 0.5882, 1.0000,\n",
       "           0.8980, 0.8667, 0.7373, 0.6039, 0.7490, 0.8235, 0.8000, 0.8196,\n",
       "           0.8706, 0.8941, 0.8824, 0.0000],\n",
       "          [0.3843, 0.9137, 0.7765, 0.8235, 0.8706, 0.8980, 0.8980, 0.9176,\n",
       "           0.9765, 0.8627, 0.7608, 0.8431, 0.8510, 0.9451, 0.2549, 0.2863,\n",
       "           0.4157, 0.4588, 0.6588, 0.8588, 0.8667, 0.8431, 0.8510, 0.8745,\n",
       "           0.8745, 0.8784, 0.8980, 0.1137],\n",
       "          [0.2941, 0.8000, 0.8314, 0.8000, 0.7569, 0.8039, 0.8275, 0.8824,\n",
       "           0.8471, 0.7255, 0.7725, 0.8078, 0.7765, 0.8353, 0.9412, 0.7647,\n",
       "           0.8902, 0.9608, 0.9373, 0.8745, 0.8549, 0.8314, 0.8196, 0.8706,\n",
       "           0.8627, 0.8667, 0.9020, 0.2627],\n",
       "          [0.1882, 0.7961, 0.7176, 0.7608, 0.8353, 0.7725, 0.7255, 0.7451,\n",
       "           0.7608, 0.7529, 0.7922, 0.8392, 0.8588, 0.8667, 0.8627, 0.9255,\n",
       "           0.8824, 0.8471, 0.7804, 0.8078, 0.7294, 0.7098, 0.6941, 0.6745,\n",
       "           0.7098, 0.8039, 0.8078, 0.4510],\n",
       "          [0.0000, 0.4784, 0.8588, 0.7569, 0.7020, 0.6706, 0.7176, 0.7686,\n",
       "           0.8000, 0.8235, 0.8353, 0.8118, 0.8275, 0.8235, 0.7843, 0.7686,\n",
       "           0.7608, 0.7490, 0.7647, 0.7490, 0.7765, 0.7529, 0.6902, 0.6118,\n",
       "           0.6549, 0.6941, 0.8235, 0.3608],\n",
       "          [0.0000, 0.0000, 0.2902, 0.7412, 0.8314, 0.7490, 0.6863, 0.6745,\n",
       "           0.6863, 0.7098, 0.7255, 0.7373, 0.7412, 0.7373, 0.7569, 0.7765,\n",
       "           0.8000, 0.8196, 0.8235, 0.8235, 0.8275, 0.7373, 0.7373, 0.7608,\n",
       "           0.7529, 0.8471, 0.6667, 0.0000],\n",
       "          [0.0078, 0.0000, 0.0000, 0.0000, 0.2588, 0.7843, 0.8706, 0.9294,\n",
       "           0.9373, 0.9490, 0.9647, 0.9529, 0.9569, 0.8667, 0.8627, 0.7569,\n",
       "           0.7490, 0.7020, 0.7137, 0.7137, 0.7098, 0.6902, 0.6510, 0.6588,\n",
       "           0.3882, 0.2275, 0.0000, 0.0000],\n",
       "          [0.0000, 0.0000, 0.0000, 0.0000, 0.0000, 0.0000, 0.0000, 0.1569,\n",
       "           0.2392, 0.1725, 0.2824, 0.1608, 0.1373, 0.0000, 0.0000, 0.0000,\n",
       "           0.0000, 0.0000, 0.0000, 0.0000, 0.0000, 0.0000, 0.0000, 0.0000,\n",
       "           0.0000, 0.0000, 0.0000, 0.0000],\n",
       "          [0.0000, 0.0000, 0.0000, 0.0000, 0.0000, 0.0000, 0.0000, 0.0000,\n",
       "           0.0000, 0.0000, 0.0000, 0.0000, 0.0000, 0.0000, 0.0000, 0.0000,\n",
       "           0.0000, 0.0000, 0.0000, 0.0000, 0.0000, 0.0000, 0.0000, 0.0000,\n",
       "           0.0000, 0.0000, 0.0000, 0.0000],\n",
       "          [0.0000, 0.0000, 0.0000, 0.0000, 0.0000, 0.0000, 0.0000, 0.0000,\n",
       "           0.0000, 0.0000, 0.0000, 0.0000, 0.0000, 0.0000, 0.0000, 0.0000,\n",
       "           0.0000, 0.0000, 0.0000, 0.0000, 0.0000, 0.0000, 0.0000, 0.0000,\n",
       "           0.0000, 0.0000, 0.0000, 0.0000]]]),\n",
       " 9)"
      ]
     },
     "execution_count": 3,
     "metadata": {},
     "output_type": "execute_result"
    }
   ],
   "source": [
    "#see the first training sample\n",
    "image, label = train_data[0]\n",
    "image, label"
   ]
  },
  {
   "cell_type": "code",
   "execution_count": 4,
   "metadata": {},
   "outputs": [
    {
     "data": {
      "text/plain": [
       "10"
      ]
     },
     "execution_count": 4,
     "metadata": {},
     "output_type": "execute_result"
    }
   ],
   "source": [
    "#it's a 9! which relates to an ankle boot\n",
    "image_with_labels = train_data.class_to_idx\n",
    "image_with_labels\n",
    "len(image_with_labels)"
   ]
  },
  {
   "cell_type": "code",
   "execution_count": 5,
   "metadata": {},
   "outputs": [
    {
     "name": "stdout",
     "output_type": "stream",
     "text": [
      "torch.Size([1, 28, 28])\n"
     ]
    },
    {
     "data": {
      "text/plain": [
       "<matplotlib.image.AxesImage at 0x16be886a0>"
      ]
     },
     "execution_count": 5,
     "metadata": {},
     "output_type": "execute_result"
    },
    {
     "data": {
      "image/png": "[encoded data removed]",
      "text/plain": [
       "<Figure size 640x480 with 1 Axes>"
      ]
     },
     "metadata": {},
     "output_type": "display_data"
    }
   ],
   "source": [
    "#28 pixels across, 28 pixels down. not very high definition\n",
    "print(train_data[0][0].shape)\n",
    "image, label = train_data[0]\n",
    "plt.imshow(image.squeeze())"
   ]
  },
  {
   "cell_type": "code",
   "execution_count": 8,
   "metadata": {},
   "outputs": [
    {
     "data": {
      "text/plain": [
       "<matplotlib.image.AxesImage at 0x295ec04c0>"
      ]
     },
     "execution_count": 8,
     "metadata": {},
     "output_type": "execute_result"
    },
    {
     "data": {
      "image/png": "[encoded data removed]",
      "text/plain": [
       "<Figure size 640x480 with 1 Axes>"
      ]
     },
     "metadata": {},
     "output_type": "display_data"
    }
   ],
   "source": [
    "#grayscale\n",
    "plt.imshow(image.squeeze(), cmap='gray')"
   ]
  },
  {
   "cell_type": "code",
   "execution_count": 9,
   "metadata": {},
   "outputs": [
    {
     "data": {
      "image/png": "[encoded data removed]",
      "text/plain": [
       "<Figure size 900x900 with 16 Axes>"
      ]
     },
     "metadata": {},
     "output_type": "display_data"
    }
   ],
   "source": [
    "#visualizing more images. \n",
    "fig = plt.figure(figsize=(9,9))\n",
    "rows, cols = 4,4\n",
    "for i in range(1, rows*cols+1):\n",
    "    random_idx = torch.randint(0, len(train_data), size=[1]).item()\n",
    "    img, label = train_data[random_idx] #img returns a tensor value, which is a representation of an image but with numbers\n",
    "    fig.add_subplot(rows, cols, i)\n",
    "    plt.imshow(img.squeeze(), cmap='gray')\n",
    "    plt.title(train_data.classes[label])\n",
    "    plt.axis(False)"
   ]
  },
  {
   "attachments": {},
   "cell_type": "markdown",
   "metadata": {},
   "source": [
    "### Dataloading\n",
    "\n",
    "1. More computationally efficient, computing hardware may not be able to look at all the data (maybe 60000) at once\n",
    "2. Gives our NN more chance to update gradients per epoch"
   ]
  },
  {
   "cell_type": "code",
   "execution_count": 10,
   "metadata": {},
   "outputs": [],
   "source": [
    "#batch sizes for faster processing\n",
    "from torch.utils.data import DataLoader\n",
    "train_dataloader = DataLoader(dataset=train_data, \n",
    "                              batch_size=32, #\n",
    "                              shuffle=True)\n",
    "\n",
    "test_dataloader = DataLoader(dataset=test_data,\n",
    "                             batch_size=32,\n",
    "                             shuffle=False)"
   ]
  },
  {
   "cell_type": "code",
   "execution_count": 11,
   "metadata": {},
   "outputs": [
    {
     "data": {
      "text/plain": [
       "(torch.Size([32, 1, 28, 28]), torch.Size([32]))"
      ]
     },
     "execution_count": 11,
     "metadata": {},
     "output_type": "execute_result"
    }
   ],
   "source": [
    "#check whats inside the training dataloader\n",
    "train_features_batch, train_labels_batch = next(iter(train_dataloader))\n",
    "train_features_batch.shape, train_labels_batch.shape\n",
    "\n",
    "#we should have batchs size = 32"
   ]
  },
  {
   "attachments": {},
   "cell_type": "markdown",
   "metadata": {},
   "source": []
  },
  {
   "cell_type": "code",
   "execution_count": 12,
   "metadata": {},
   "outputs": [
    {
     "data": {
      "text/plain": [
       "Text(0.5, 1.0, 'Sandal')"
      ]
     },
     "execution_count": 12,
     "metadata": {},
     "output_type": "execute_result"
    },
    {
     "data": {
      "image/png": "[encoded data removed]",
      "text/plain": [
       "<Figure size 640x480 with 1 Axes>"
      ]
     },
     "metadata": {},
     "output_type": "display_data"
    }
   ],
   "source": [
    "#show the 2nd sample\n",
    "img, label = train_features_batch[3], train_labels_batch[3]\n",
    "plt.imshow(img.squeeze(), #removing one dimension\n",
    "           cmap='gray')\n",
    "plt.title(train_data.classes[label])"
   ]
  },
  {
   "attachments": {},
   "cell_type": "markdown",
   "metadata": {},
   "source": [
    "## Let's build our model!\n",
    "\n",
    "When statrting to build a series of mahcine learning modelling experiments, it's best practive to start with a baseline model, and then improve on it with subsequent features.\n",
    "\n",
    "AKA. start simply, add complexity when necessary"
   ]
  },
  {
   "cell_type": "code",
   "execution_count": 13,
   "metadata": {},
   "outputs": [
    {
     "name": "stdout",
     "output_type": "stream",
     "text": [
      "shape before: torch.Size([1, 28, 28])\n",
      "shape after: torch.Size([1, 784])\n"
     ]
    }
   ],
   "source": [
    "#Create a flatten layer\n",
    "\n",
    "flatten_model = nn.Flatten()\n",
    "\n",
    "x = train_features_batch[0]\n",
    "\n",
    "output =  flatten_model(x) #perform forward pass\n",
    "\n",
    "#Print out what happened\n",
    "print(f'shape before: {x.shape}') #[color channel, height width]\n",
    "print(f'shape after: {output.shape}') #[color channel, height*width]"
   ]
  },
  {
   "cell_type": "code",
   "execution_count": 14,
   "metadata": {},
   "outputs": [
    {
     "data": {
      "text/plain": [
       "tensor([[0.0000, 0.0000, 0.0000, 0.0000, 0.0000, 0.0000, 0.0000, 0.0039, 0.0078,\n",
       "         0.0039, 0.0000, 0.0000, 0.4549, 0.5451, 0.4824, 0.4980, 0.4667, 0.2510,\n",
       "         0.0000, 0.0000, 0.0039, 0.0039, 0.0000, 0.0000, 0.0000, 0.0000, 0.0000,\n",
       "         0.0000, 0.0000, 0.0000, 0.0000, 0.0000, 0.0000, 0.0000, 0.0039, 0.0000,\n",
       "         0.0000, 0.0000, 0.0000, 0.0157, 0.6588, 0.8039, 0.9686, 0.9961, 0.8392,\n",
       "         0.4510, 0.0000, 0.0000, 0.0000, 0.0000, 0.0000, 0.0039, 0.0000, 0.0000,\n",
       "         0.0000, 0.0000, 0.0000, 0.0000, 0.0000, 0.0000, 0.0039, 0.0000, 0.0000,\n",
       "         0.0275, 0.1255, 0.2510, 0.4314, 0.4549, 0.1765, 0.4235, 0.6431, 0.7490,\n",
       "         0.4941, 0.1686, 0.4667, 0.3961, 0.1922, 0.0314, 0.0000, 0.0000, 0.0000,\n",
       "         0.0000, 0.0000, 0.0000, 0.0000, 0.0000, 0.0000, 0.0000, 0.0000, 0.0000,\n",
       "         0.2392, 0.4667, 0.4235, 0.4078, 0.3765, 0.3882, 0.3137, 0.3804, 0.3529,\n",
       "         0.1647, 0.6745, 0.5059, 0.4275, 0.4980, 0.4745, 0.4667, 0.3843, 0.0471,\n",
       "         0.0000, 0.0000, 0.0000, 0.0000, 0.0000, 0.0000, 0.0000, 0.0000, 0.0000,\n",
       "         0.1294, 0.3373, 0.2941, 0.3137, 0.3059, 0.2627, 0.2980, 0.3333, 0.3765,\n",
       "         0.3843, 0.3882, 0.4353, 0.3961, 0.3294, 0.3059, 0.2941, 0.2745, 0.3843,\n",
       "         0.3216, 0.0000, 0.0000, 0.0000, 0.0000, 0.0000, 0.0000, 0.0000, 0.0000,\n",
       "         0.0000, 0.2667, 0.2745, 0.2588, 0.2667, 0.2941, 0.3216, 0.2941, 0.2863,\n",
       "         0.4235, 0.3176, 0.3216, 0.3059, 0.2941, 0.2980, 0.3059, 0.3176, 0.3059,\n",
       "         0.2824, 0.3647, 0.0824, 0.0000, 0.0000, 0.0000, 0.0000, 0.0000, 0.0000,\n",
       "         0.0000, 0.0627, 0.2745, 0.2431, 0.2706, 0.2706, 0.2667, 0.2824, 0.2863,\n",
       "         0.2941, 0.3569, 0.2863, 0.3137, 0.3216, 0.3216, 0.3176, 0.3098, 0.2980,\n",
       "         0.3098, 0.2980, 0.3569, 0.1686, 0.0000, 0.0000, 0.0000, 0.0000, 0.0000,\n",
       "         0.0000, 0.0000, 0.1059, 0.2706, 0.2392, 0.2588, 0.2588, 0.2745, 0.2941,\n",
       "         0.2902, 0.2863, 0.2980, 0.2941, 0.3216, 0.3176, 0.3294, 0.2941, 0.2863,\n",
       "         0.3294, 0.2863, 0.3333, 0.3608, 0.2235, 0.0000, 0.0000, 0.0000, 0.0000,\n",
       "         0.0000, 0.0000, 0.0000, 0.1804, 0.3176, 0.2706, 0.2353, 0.2863, 0.2627,\n",
       "         0.2824, 0.3059, 0.3059, 0.3059, 0.2941, 0.3059, 0.3059, 0.3216, 0.2980,\n",
       "         0.2980, 0.3137, 0.2706, 0.4667, 0.3294, 0.2706, 0.0000, 0.0000, 0.0000,\n",
       "         0.0000, 0.0000, 0.0000, 0.0000, 0.1922, 0.2745, 0.4078, 0.2039, 0.2431,\n",
       "         0.2745, 0.2824, 0.2902, 0.2863, 0.3098, 0.2941, 0.2941, 0.2980, 0.3059,\n",
       "         0.3216, 0.3176, 0.2627, 0.3216, 0.4471, 0.3137, 0.3059, 0.0000, 0.0000,\n",
       "         0.0000, 0.0000, 0.0000, 0.0000, 0.0000, 0.2980, 0.2353, 0.3137, 0.4275,\n",
       "         0.2000, 0.2431, 0.2902, 0.2863, 0.2902, 0.2941, 0.2941, 0.2941, 0.2980,\n",
       "         0.3059, 0.3490, 0.2275, 0.4941, 0.6353, 0.3765, 0.2941, 0.3333, 0.0000,\n",
       "         0.0000, 0.0000, 0.0000, 0.0000, 0.0000, 0.0000, 0.2196, 0.3373, 0.4588,\n",
       "         0.7294, 0.1961, 0.2431, 0.2941, 0.2863, 0.2902, 0.2941, 0.2941, 0.2980,\n",
       "         0.2980, 0.3098, 0.3490, 0.2275, 0.3843, 0.7059, 0.4941, 0.4275, 0.3216,\n",
       "         0.0000, 0.0000, 0.0000, 0.0000, 0.0000, 0.0000, 0.0000, 0.0000, 0.0078,\n",
       "         0.2706, 0.2196, 0.1647, 0.2392, 0.2745, 0.2824, 0.2863, 0.2941, 0.2941,\n",
       "         0.2941, 0.2941, 0.2980, 0.3569, 0.2667, 0.2980, 0.2510, 0.3373, 0.1255,\n",
       "         0.0000, 0.0000, 0.0000, 0.0000, 0.0000, 0.0000, 0.0000, 0.0000, 0.0000,\n",
       "         0.0000, 0.0000, 0.0000, 0.2353, 0.2471, 0.2863, 0.2863, 0.2902, 0.2941,\n",
       "         0.3059, 0.2902, 0.3137, 0.2941, 0.3529, 0.2902, 0.3333, 0.0000, 0.0000,\n",
       "         0.0000, 0.0000, 0.0000, 0.0000, 0.0000, 0.0000, 0.0000, 0.0000, 0.0000,\n",
       "         0.0000, 0.0039, 0.0000, 0.0000, 0.2235, 0.2510, 0.2824, 0.2941, 0.2902,\n",
       "         0.2980, 0.3098, 0.2902, 0.3294, 0.3294, 0.2980, 0.3294, 0.3059, 0.0000,\n",
       "         0.0000, 0.0000, 0.0000, 0.0000, 0.0000, 0.0000, 0.0000, 0.0000, 0.0000,\n",
       "         0.0000, 0.0000, 0.0000, 0.0000, 0.0000, 0.2196, 0.2431, 0.2863, 0.2863,\n",
       "         0.2863, 0.3176, 0.3098, 0.2941, 0.3098, 0.3529, 0.2902, 0.3294, 0.2902,\n",
       "         0.0000, 0.0000, 0.0000, 0.0000, 0.0000, 0.0000, 0.0000, 0.0000, 0.0000,\n",
       "         0.0000, 0.0000, 0.0000, 0.0000, 0.0000, 0.0000, 0.2235, 0.2471, 0.2863,\n",
       "         0.2863, 0.2863, 0.3333, 0.3059, 0.2980, 0.2941, 0.3529, 0.3412, 0.2980,\n",
       "         0.2902, 0.0000, 0.0000, 0.0000, 0.0000, 0.0000, 0.0000, 0.0000, 0.0000,\n",
       "         0.0000, 0.0000, 0.0000, 0.0000, 0.0000, 0.0000, 0.0000, 0.2275, 0.2471,\n",
       "         0.2902, 0.2902, 0.2902, 0.3373, 0.3137, 0.3059, 0.3137, 0.3294, 0.3608,\n",
       "         0.3176, 0.2863, 0.0000, 0.0000, 0.0000, 0.0000, 0.0000, 0.0000, 0.0000,\n",
       "         0.0000, 0.0000, 0.0000, 0.0000, 0.0000, 0.0000, 0.0000, 0.0000, 0.2275,\n",
       "         0.2471, 0.2863, 0.2824, 0.2863, 0.3490, 0.3137, 0.3059, 0.3216, 0.3294,\n",
       "         0.3490, 0.3373, 0.2902, 0.0000, 0.0000, 0.0000, 0.0000, 0.0000, 0.0000,\n",
       "         0.0000, 0.0000, 0.0000, 0.0000, 0.0000, 0.0000, 0.0000, 0.0000, 0.0000,\n",
       "         0.2275, 0.2588, 0.2902, 0.2706, 0.2863, 0.3569, 0.3137, 0.3098, 0.3333,\n",
       "         0.3373, 0.3373, 0.3490, 0.2980, 0.0000, 0.0000, 0.0000, 0.0000, 0.0000,\n",
       "         0.0000, 0.0000, 0.0000, 0.0000, 0.0000, 0.0000, 0.0000, 0.0000, 0.0000,\n",
       "         0.0000, 0.2275, 0.2627, 0.2863, 0.2667, 0.2863, 0.3569, 0.3137, 0.3098,\n",
       "         0.3412, 0.3412, 0.3333, 0.3529, 0.3059, 0.0000, 0.0000, 0.0000, 0.0000,\n",
       "         0.0000, 0.0000, 0.0000, 0.0000, 0.0000, 0.0000, 0.0000, 0.0000, 0.0000,\n",
       "         0.0000, 0.0000, 0.2275, 0.2706, 0.2510, 0.2745, 0.2980, 0.3529, 0.3176,\n",
       "         0.3137, 0.3490, 0.3529, 0.3373, 0.3529, 0.3137, 0.0000, 0.0000, 0.0000,\n",
       "         0.0000, 0.0000, 0.0000, 0.0000, 0.0000, 0.0000, 0.0000, 0.0000, 0.0000,\n",
       "         0.0000, 0.0000, 0.0000, 0.2392, 0.2706, 0.2471, 0.2824, 0.3059, 0.3490,\n",
       "         0.3176, 0.3216, 0.3529, 0.3529, 0.3373, 0.3569, 0.3373, 0.0000, 0.0000,\n",
       "         0.0000, 0.0000, 0.0000, 0.0000, 0.0000, 0.0000, 0.0000, 0.0000, 0.0000,\n",
       "         0.0000, 0.0000, 0.0000, 0.0000, 0.2471, 0.2745, 0.2431, 0.2863, 0.3098,\n",
       "         0.3373, 0.3137, 0.3412, 0.3529, 0.3529, 0.3373, 0.3608, 0.3608, 0.0000,\n",
       "         0.0000, 0.0000, 0.0000, 0.0000, 0.0000, 0.0000, 0.0000, 0.0000, 0.0000,\n",
       "         0.0000, 0.0000, 0.0000, 0.0000, 0.0000, 0.2706, 0.2745, 0.2392, 0.2902,\n",
       "         0.3176, 0.3412, 0.3373, 0.3490, 0.3569, 0.3569, 0.3529, 0.3608, 0.3647,\n",
       "         0.0000, 0.0000, 0.0039, 0.0000, 0.0000, 0.0000, 0.0000, 0.0000, 0.0000,\n",
       "         0.0000, 0.0000, 0.0000, 0.0000, 0.0000, 0.0000, 0.2471, 0.2235, 0.2157,\n",
       "         0.2745, 0.2745, 0.3098, 0.3412, 0.2941, 0.3137, 0.3333, 0.3333, 0.3176,\n",
       "         0.3529, 0.0000, 0.0000, 0.0039, 0.0000, 0.0000, 0.0000, 0.0000, 0.0000,\n",
       "         0.0000, 0.0000, 0.0000, 0.0000, 0.0000, 0.0000, 0.0000, 0.3294, 0.3294,\n",
       "         0.3137, 0.3765, 0.3765, 0.4039, 0.4039, 0.3529, 0.3804, 0.3961, 0.3843,\n",
       "         0.4118, 0.4588, 0.0000, 0.0000, 0.0039, 0.0000, 0.0000, 0.0000, 0.0000,\n",
       "         0.0000, 0.0000, 0.0000, 0.0000, 0.0000, 0.0000, 0.0000, 0.0000, 0.2902,\n",
       "         0.2902, 0.2980, 0.3725, 0.3765, 0.4118, 0.4039, 0.3765, 0.3961, 0.3961,\n",
       "         0.3961, 0.4039, 0.3882, 0.0000, 0.0000, 0.0039, 0.0000, 0.0000, 0.0000,\n",
       "         0.0000]])"
      ]
     },
     "execution_count": 14,
     "metadata": {},
     "output_type": "execute_result"
    }
   ],
   "source": [
    "output"
   ]
  },
  {
   "cell_type": "code",
   "execution_count": 15,
   "metadata": {},
   "outputs": [],
   "source": [
    "from torch import nn\n",
    "\n",
    "class FashionMNISTModel(nn.Module):\n",
    "    def __init__ (self, input, output, hidden_units):\n",
    "        super().__init__()\n",
    "\n",
    "        self.layer_stack = nn.Sequential(\n",
    "            nn.Flatten(), #we need this layer, so that our 2D tensor can trained as a 1D vector.\n",
    "            nn.Linear(in_features=input, out_features=hidden_units),\n",
    "            nn.Linear(in_features=hidden_units, out_features=output)\n",
    "        )\n",
    "    \n",
    "    def forward(self, x):\n",
    "        return self.layer_stack(x)"
   ]
  },
  {
   "cell_type": "code",
   "execution_count": 16,
   "metadata": {},
   "outputs": [
    {
     "data": {
      "text/plain": [
       "FashionMNISTModel(\n",
       "  (layer_stack): Sequential(\n",
       "    (0): Flatten(start_dim=1, end_dim=-1)\n",
       "    (1): Linear(in_features=784, out_features=10, bias=True)\n",
       "    (2): Linear(in_features=10, out_features=10, bias=True)\n",
       "  )\n",
       ")"
      ]
     },
     "execution_count": 16,
     "metadata": {},
     "output_type": "execute_result"
    }
   ],
   "source": [
    "#setup our model\n",
    "model = FashionMNISTModel(input = 784, # 28*28 for training purposes\n",
    "                         output = 10, # outputs one for each class\n",
    "                         hidden_units= 10) # units for training \n",
    "model "
   ]
  },
  {
   "cell_type": "code",
   "execution_count": 17,
   "metadata": {},
   "outputs": [
    {
     "data": {
      "text/plain": [
       "tensor([[-0.1039, -0.0315, -0.2674, -0.0672,  0.1344, -0.1686, -0.1123, -0.0868,\n",
       "         -0.0690, -0.1799]], grad_fn=<AddmmBackward0>)"
      ]
     },
     "execution_count": 17,
     "metadata": {},
     "output_type": "execute_result"
    }
   ],
   "source": [
    "dummy_x = torch.rand([1,1,28,28]) #this is the tensor we need to feed into our model. it is common to have an error here\n",
    "model(dummy_x)"
   ]
  },
  {
   "cell_type": "code",
   "execution_count": 18,
   "metadata": {},
   "outputs": [
    {
     "data": {
      "text/plain": [
       "OrderedDict([('layer_stack.1.weight',\n",
       "              tensor([[-0.0328, -0.0088,  0.0353,  ...,  0.0104, -0.0050,  0.0044],\n",
       "                      [ 0.0050, -0.0003, -0.0299,  ...,  0.0302, -0.0224,  0.0277],\n",
       "                      [-0.0160,  0.0064,  0.0121,  ...,  0.0252,  0.0283, -0.0158],\n",
       "                      ...,\n",
       "                      [ 0.0212,  0.0150, -0.0325,  ...,  0.0254, -0.0346, -0.0068],\n",
       "                      [-0.0115,  0.0129, -0.0027,  ..., -0.0177, -0.0346, -0.0343],\n",
       "                      [-0.0254, -0.0329, -0.0039,  ...,  0.0116, -0.0093, -0.0132]])),\n",
       "             ('layer_stack.1.bias',\n",
       "              tensor([ 0.0204, -0.0047, -0.0030, -0.0263, -0.0151, -0.0094,  0.0165,  0.0172,\n",
       "                      -0.0151, -0.0019])),\n",
       "             ('layer_stack.2.weight',\n",
       "              tensor([[-0.0693, -0.2239, -0.0192, -0.0577, -0.0729,  0.2556, -0.2202,  0.0622,\n",
       "                       -0.1978,  0.1311],\n",
       "                      [-0.2759,  0.0543,  0.0334,  0.1298, -0.3031,  0.0699,  0.0334, -0.1362,\n",
       "                       -0.1106, -0.1310],\n",
       "                      [-0.0349, -0.1042,  0.0821, -0.1115, -0.1967, -0.3056, -0.0239,  0.1657,\n",
       "                        0.3160,  0.2158],\n",
       "                      [-0.0112, -0.1407, -0.1709, -0.1307,  0.2459, -0.0836,  0.1661, -0.1933,\n",
       "                       -0.0060, -0.2949],\n",
       "                      [ 0.1935,  0.0309,  0.2118,  0.1996, -0.3006, -0.2935,  0.0412,  0.1514,\n",
       "                       -0.1750, -0.1280],\n",
       "                      [ 0.1489, -0.0872, -0.2519, -0.0512,  0.0156,  0.0769,  0.2290,  0.1964,\n",
       "                       -0.1234,  0.0263],\n",
       "                      [ 0.0412, -0.1024, -0.2497, -0.2550, -0.2167, -0.1931,  0.2954, -0.0659,\n",
       "                       -0.1193,  0.2571],\n",
       "                      [-0.0918, -0.2267, -0.2857, -0.2376, -0.1847,  0.0661,  0.0794,  0.2861,\n",
       "                        0.0393,  0.1798],\n",
       "                      [-0.0415,  0.1716,  0.1609,  0.2639,  0.1733,  0.0022,  0.2045, -0.1145,\n",
       "                       -0.0230,  0.3135],\n",
       "                      [ 0.1560,  0.2441, -0.2417, -0.1124, -0.1022,  0.2365,  0.2415, -0.2930,\n",
       "                       -0.1952, -0.1812]])),\n",
       "             ('layer_stack.2.bias',\n",
       "              tensor([-0.1619,  0.2026, -0.1991, -0.2330,  0.1723, -0.2983, -0.1966, -0.1038,\n",
       "                      -0.1648, -0.0862]))])"
      ]
     },
     "execution_count": 18,
     "metadata": {},
     "output_type": "execute_result"
    }
   ],
   "source": [
    "model.state_dict()"
   ]
  },
  {
   "attachments": {},
   "cell_type": "markdown",
   "metadata": {},
   "source": [
    "### Setup loss, optimizer and eval metrics.\n",
    "\n",
    "* Loss function - since we are working with multi-class data, our loss function will be `nn.CrossEntropyLoss()`\n",
    "* Optimizer - `torch.optin.SGD()`\n",
    "* Evaluation metric - classification problem, let's use _accuracy_"
   ]
  },
  {
   "cell_type": "code",
   "execution_count": 19,
   "metadata": {},
   "outputs": [],
   "source": [
    "loss_fn = nn.CrossEntropyLoss()\n",
    "optim = torch.optim.SGD(model.parameters(), lr=0.01)"
   ]
  },
  {
   "attachments": {},
   "cell_type": "markdown",
   "metadata": {},
   "source": [
    "### Creating a function to time our experiments\n",
    "\n",
    "Machine Learning is very experimental\n",
    "\n",
    "Two of the main things you'll often want to track are:\n",
    "1. Model's performance (loss and accuracy values)\n",
    "2. How fast it runs"
   ]
  },
  {
   "cell_type": "code",
   "execution_count": 20,
   "metadata": {},
   "outputs": [],
   "source": [
    "\n",
    "def print_train_time(start: float, end: float, device: torch.device = None):\n",
    "    total_time = end - start \n",
    "    print(f'Train time: {total_time:.3f} seconds')\n",
    "    return total_time"
   ]
  },
  {
   "cell_type": "code",
   "execution_count": 21,
   "metadata": {},
   "outputs": [
    {
     "name": "stdout",
     "output_type": "stream",
     "text": [
      "Train time: 0.000 seconds\n"
     ]
    },
    {
     "data": {
      "text/plain": [
       "7.916009053587914e-06"
      ]
     },
     "execution_count": 21,
     "metadata": {},
     "output_type": "execute_result"
    }
   ],
   "source": [
    "#looks something like that.\n",
    "\n",
    "start_time = timer()\n",
    "#some code\n",
    "end_time = timer()\n",
    "print_train_time(start_time, end_time)"
   ]
  },
  {
   "attachments": {},
   "cell_type": "markdown",
   "metadata": {},
   "source": [
    "### Creating a training loop.\n",
    "\n",
    "1. Loop through epochs.\n",
    "2. Loop through training batches, perform training steps, calculate the train loss *per batch*.\n",
    "3. Loop through testing batches, perform testing steps, calculate the test loss *per batch*.\n",
    "4. Print out whats happening.\n",
    "5. Time it."
   ]
  },
  {
   "cell_type": "code",
   "execution_count": 22,
   "metadata": {},
   "outputs": [
    {
     "data": {
      "application/vnd.jupyter.widget-view+json": {
       "model_id": "aaa361e3b6324117972ed16de2d15d6b",
       "version_major": 2,
       "version_minor": 0
      },
      "text/plain": [
       "  0%|          | 0/3 [00:00<?, ?it/s]"
      ]
     },
     "metadata": {},
     "output_type": "display_data"
    },
    {
     "name": "stdout",
     "output_type": "stream",
     "text": [
      "Train loss: 0.9021 | Test loss: 0.6667, Test acc: 76.7372\n",
      "Train loss: 0.5789 | Test loss: 0.5580, Test acc: 80.7408\n",
      "Train loss: 0.5104 | Test loss: 0.5227, Test acc: 81.6793\n",
      "Train time: 5.458 seconds\n"
     ]
    },
    {
     "data": {
      "text/plain": [
       "5.458156459004385"
      ]
     },
     "execution_count": 22,
     "metadata": {},
     "output_type": "execute_result"
    }
   ],
   "source": [
    "train_time_start = timer()\n",
    "\n",
    "epochs = 3\n",
    "\n",
    "for epoch in tqdm(range(epochs)):\n",
    "    \n",
    "    train_loss = 0\n",
    "\n",
    "    #with every batch, we hope that the results get slightly better. \n",
    "    #if we are doing individually, it will be slower.\n",
    "    for batch, (X,y) in enumerate(train_dataloader):\n",
    "        model.train()\n",
    "\n",
    "        y_pred = model(X) # this will give us logits. we need to normalize (make it human language) this. \n",
    "                            #argmax is the function to use\n",
    "        loss = loss_fn (y_pred, y)\n",
    "        train_loss += loss #accumulate train loss\n",
    "\n",
    "        optim.zero_grad()\n",
    "        \n",
    "        loss.backward()\n",
    "\n",
    "        optim.step()\n",
    "    train_loss /= len(train_dataloader)\n",
    "\n",
    "    test_loss, test_acc = 0,0\n",
    "\n",
    "    model.eval()\n",
    "    with torch.inference_mode():\n",
    "        for X_test, y_test in test_dataloader:\n",
    "            test_pred = model(X_test)\n",
    "            test_loss += loss_fn(test_pred, y_test)\n",
    "\n",
    "            test_acc += hf.accuracy_fn(y_true=y_test, y_pred = test_pred.argmax(dim=1))\n",
    "        test_loss /= len(test_dataloader)\n",
    "        test_acc /= len(test_dataloader)\n",
    "\n",
    "    print(f'Train loss: {train_loss:.4f} | Test loss: {test_loss:.4f}, Test acc: {test_acc:.4f}')\n",
    "\n",
    "    train_time_end = timer()\n",
    "\n",
    "print_train_time(train_time_start, train_time_end)\n",
    "\n",
    "#16:14:45"
   ]
  },
  {
   "attachments": {},
   "cell_type": "markdown",
   "metadata": {},
   "source": [
    "## 4. make predictions and get model results\n",
    "\n",
    "Lets put our model into a function. This function should evaluate our model performance.\n",
    "\n",
    "When we are training a different model next time (if we want to improve our models), we are able to compare the metrics easily. \n"
   ]
  },
  {
   "cell_type": "code",
   "execution_count": 23,
   "metadata": {},
   "outputs": [
    {
     "data": {
      "text/plain": [
       "{'model_name': 'FashionMNISTModel',\n",
       " 'model_loss': 0.5226871967315674,\n",
       " 'model_acc': 81.67931309904154}"
      ]
     },
     "execution_count": 23,
     "metadata": {},
     "output_type": "execute_result"
    }
   ],
   "source": [
    "def eval_model(model: torch.nn.Module,\n",
    "              dataloader: torch.utils.data.DataLoader,\n",
    "              loss_fn: torch.nn.Module,\n",
    "              accuracy_fn):\n",
    "    loss, acc = 0,0\n",
    "    model.eval()\n",
    "    with torch.inference_mode():\n",
    "        for X, y in dataloader:\n",
    "            y_pred = model(X)\n",
    "\n",
    "            loss += loss_fn(y_pred, y)\n",
    "            acc += accuracy_fn(y_true=y, y_pred=y_pred.argmax(dim=1))\n",
    "\n",
    "\n",
    "        loss /= len(dataloader)\n",
    "        acc /= len(dataloader)\n",
    "\n",
    "    return {\"model_name\":model.__class__.__name__,\n",
    "            \"model_loss\":loss.item(),\n",
    "            \"model_acc\":acc}\n",
    "\n",
    "model_results = eval_model(model=model, dataloader=test_dataloader,\n",
    "                           loss_fn=loss_fn,\n",
    "                           accuracy_fn=hf.accuracy_fn)\n",
    "\n",
    "model_results\n"
   ]
  },
  {
   "attachments": {},
   "cell_type": "markdown",
   "metadata": {},
   "source": [
    "Right now, our model only has Linear Activations. What about Non-Linear?\n",
    "\n",
    "Let's try it now! \n",
    "\n",
    "# Non-Linear Activations "
   ]
  },
  {
   "cell_type": "code",
   "execution_count": 24,
   "metadata": {},
   "outputs": [
    {
     "data": {
      "text/plain": [
       "FashionMNISTModelNonLinear(\n",
       "  (layer_stack): Sequential(\n",
       "    (0): Flatten(start_dim=1, end_dim=-1)\n",
       "    (1): Linear(in_features=784, out_features=10, bias=True)\n",
       "    (2): ReLU()\n",
       "    (3): Linear(in_features=10, out_features=10, bias=True)\n",
       "    (4): ReLU()\n",
       "    (5): Linear(in_features=10, out_features=10, bias=True)\n",
       "  )\n",
       ")"
      ]
     },
     "execution_count": 24,
     "metadata": {},
     "output_type": "execute_result"
    }
   ],
   "source": [
    "class FashionMNISTModelNonLinear(nn.Module):\n",
    "    def __init__(self, input_shape, output_shape, hidden_units):\n",
    "        super().__init__()\n",
    "        self.layer_stack = nn.Sequential(\n",
    "            nn.Flatten(), #very important for Computer Viz!\n",
    "            nn.Linear(in_features=input_shape, out_features=hidden_units),\n",
    "            nn.ReLU(),\n",
    "            nn.Linear(in_features=hidden_units, out_features=hidden_units),\n",
    "            nn.ReLU(),\n",
    "            nn.Linear(in_features=hidden_units, out_features=output_shape), \n",
    "        )\n",
    "    \n",
    "    def forward(self, x: torch.Tensor):\n",
    "        return self.layer_stack(x)\n",
    "\n",
    "non_linear_model = FashionMNISTModelNonLinear(28*28, #output of the flatten layer.\n",
    "                                              10, \n",
    "                                              10)\n",
    "non_linear_model"
   ]
  },
  {
   "cell_type": "code",
   "execution_count": 25,
   "metadata": {},
   "outputs": [],
   "source": [
    "#creating a loss function for our new model.\n",
    "#we are using the exact same algorithm.\n",
    "loss_fn = nn.CrossEntropyLoss()\n",
    "optim = torch.optim.SGD(non_linear_model.parameters(), lr=0.01)"
   ]
  },
  {
   "attachments": {},
   "cell_type": "markdown",
   "metadata": {},
   "source": [
    "since we have written so many training loops, instead of writing it out yet again, lets put it into a function. \n",
    "\n",
    "We can just call the function as and when we like.\n"
   ]
  },
  {
   "cell_type": "code",
   "execution_count": 26,
   "metadata": {},
   "outputs": [],
   "source": [
    "def train_model(model: torch.nn.Module,\n",
    "                train_data_loader: torch.utils.data.DataLoader,\n",
    "                test_data_loader: torch.utils.data.DataLoader,\n",
    "                loss_function: torch.nn.Module,\n",
    "                optimizer: torch.optim,\n",
    "                epochs: int,\n",
    "                ):\n",
    "    train_time_start = timer()\n",
    "\n",
    "    for epoch in tqdm(range(epochs)):\n",
    "        \n",
    "        train_loss = 0\n",
    "\n",
    "        #with every batch, we hope that the results get slightly better. \n",
    "        #if we are doing individually, it will be slower.\n",
    "        for batch, (X,y) in enumerate(train_data_loader):\n",
    "            model.train()\n",
    "\n",
    "            y_pred = model(X) # this will give us logits. we need to normalize (make it human language) this. \n",
    "                                #argmax is the function to use\n",
    "            loss = loss_function(y_pred, y)\n",
    "            train_loss += loss #accumulate train loss\n",
    "\n",
    "            optimizer.zero_grad()\n",
    "            \n",
    "            loss.backward()\n",
    "\n",
    "            optimizer.step()\n",
    "\n",
    "        train_loss /= len(train_data_loader)\n",
    "\n",
    "        test_loss, test_acc = 0,0\n",
    "\n",
    "        model.eval()\n",
    "        with torch.inference_mode():\n",
    "            for X_test, y_test in test_data_loader:\n",
    "                test_pred = model(X_test)\n",
    "                test_loss += loss_fn(test_pred, y_test)\n",
    "\n",
    "                test_acc += hf.accuracy_fn(y_true=y_test, y_pred = test_pred.argmax(dim=1))\n",
    "                \n",
    "            test_loss /= len(test_data_loader)\n",
    "            test_acc /= len(test_data_loader)\n",
    "\n",
    "        print(f'Train loss: {train_loss:.4f} | Test loss: {test_loss:.4f}, Test acc: {test_acc:.4f}')\n",
    "\n",
    "        train_time_end = timer()\n",
    "\n",
    "    print_train_time(train_time_start, train_time_end)\n",
    "    "
   ]
  },
  {
   "cell_type": "code",
   "execution_count": 27,
   "metadata": {},
   "outputs": [
    {
     "data": {
      "application/vnd.jupyter.widget-view+json": {
       "model_id": "c976219819b74deb80775d5e4408529d",
       "version_major": 2,
       "version_minor": 0
      },
      "text/plain": [
       "  0%|          | 0/3 [00:00<?, ?it/s]"
      ]
     },
     "metadata": {},
     "output_type": "display_data"
    },
    {
     "name": "stdout",
     "output_type": "stream",
     "text": [
      "Train loss: 1.3335 | Test loss: 0.7626, Test acc: 71.6054\n",
      "Train loss: 0.6300 | Test loss: 0.5993, Test acc: 78.7540\n",
      "Train loss: 0.5520 | Test loss: 0.5636, Test acc: 80.3015\n",
      "Train time: 5.687 seconds\n"
     ]
    }
   ],
   "source": [
    "train_model(non_linear_model, train_dataloader,test_dataloader, loss_fn, optim, 3)"
   ]
  },
  {
   "attachments": {},
   "cell_type": "markdown",
   "metadata": {},
   "source": [
    "ok, so the above was non-linear models.\n",
    "\n",
    "Now, it's time for the gigachad of computer viz...\n",
    "\n",
    "##### Convolutional Neural Networks!!!\n",
    "\n",
    "A convolutional layer is when a neuron only looks at certain regions of an input image\n",
    "\n",
    "# Let's build a CNN\n"
   ]
  },
  {
   "attachments": {},
   "cell_type": "markdown",
   "metadata": {},
   "source": [
    "Here are the main reasons why we need multiple CNN blocks (one block contains multiple layers):\n",
    "\n",
    "Feature extraction: CNN blocks help in extracting relevant features from the input data. Each block can learn specific patterns and features, such as edges, textures, or shapes. As we go deeper into the network, the **CNN blocks can learn more abstract and higher-level features** that are essential for the task at hand.\n",
    "\n",
    "Hierarchical representation: Multiple CNN blocks allow the network to build a hierarchical representation of the input data. The **lower-level blocks** capture simple features, and the **higher-level blocks** combine these features to detect more complex patterns and objects.\n",
    "\n",
    "Non-linearity: Each CNN block introduces non-linearities through activation functions like ReLU (Rectified Linear Unit). These non-linearities enable the network to learn and approximate complex relationships between input features and target outputs.\n",
    "\n",
    "Information abstraction: With multiple CNN blocks, the network can abstract and summarize information effectively. Pooling layers in each block help reduce spatial dimensions, making the model more efficient while retaining essential information.\n",
    "\n",
    "Better performance: Deeper networks with **multiple CNN blocks can achieve better performance** on challenging tasks like image recognition, object detection, and segmentation. The increased depth allows the model to learn intricate patterns and achieve a higher level of accuracy.\n",
    "\n",
    "Transfer learning: Multiple CNN blocks make it easier to apply transfer learning, where a pre-trained CNN can be used as a feature extractor for a new task. The earlier layers capture general features, and the later layers can be fine-tuned for the specific task."
   ]
  },
  {
   "cell_type": "code",
   "execution_count": 28,
   "metadata": {},
   "outputs": [],
   "source": [
    "class CNNFashionMNIST(nn.Module):\n",
    "    '''we are gonna model off from Tiny VGG'''\n",
    "    def __init__(self, input_shape: int, output_shape: int, hidden_units: int):\n",
    "        super().__init__()\n",
    "        self.conv_block_1 = nn.Sequential(\n",
    "            nn.Conv2d(in_channels=input_shape, #refer to 'what is a CNN' to understand these parameters better\n",
    "                      out_channels=hidden_units,\n",
    "                      kernel_size=3, #determine the size of a square matrix (in some cases, it is not a square),\n",
    "                                    #which will calculate our image. each unit represents a pixel\n",
    "                      stride=1, #how much pixels will it skip. \n",
    "                      padding=1),\n",
    "            #in summary, the above code tells us that a 3 by 3 matrix will move across the pixels of\n",
    "            #an image, with step (stride) of 1.\n",
    "            #in each step, a value for the 3 by 3 matrix is calculated. \n",
    "            #the kernel weights are updated each time through the loss functions\n",
    "            nn.ReLU(),\n",
    "            nn.Conv2d(in_channels=hidden_units,\n",
    "                      out_channels=hidden_units,\n",
    "                      kernel_size=3,\n",
    "                      stride=1,\n",
    "                      padding=1),\n",
    "            nn.ReLU(),\n",
    "            nn.MaxPool2d(kernel_size=2)\n",
    "        )\n",
    "        #------ second block --------\n",
    "        self.conv_block_2 = nn.Sequential(\n",
    "            nn.Conv2d(in_channels=hidden_units,\n",
    "                      out_channels=hidden_units,\n",
    "                      kernel_size=3,\n",
    "                      stride=1,\n",
    "                      padding=1),\n",
    "            nn.ReLU(),\n",
    "            nn.Conv2d(in_channels=hidden_units,\n",
    "                      out_channels=hidden_units,\n",
    "                      kernel_size=3,\n",
    "                      stride=1,\n",
    "                      padding=1),\n",
    "            nn.ReLU(),\n",
    "            nn.MaxPool2d(kernel_size=2)\n",
    "        )\n",
    "        #------ and finally to classify these layers --------\n",
    "        self.classifier = nn.Sequential(\n",
    "            nn.Flatten(), #flatten to become a 1D tensor, so that our \n",
    "            nn.Linear(in_features=hidden_units*7*7,\n",
    "                    #in this line, we do not know yet what the previous block/layer is going to output.\n",
    "                      #aka we don't know the shape it is going to churn out. so usually we would run this model, and print out the shape\n",
    "                      #of the output of the previous block, and then enter it here. \n",
    "                      #in this case, it is 7*7 if we enter a 28*28 pixels image. \n",
    "                      out_features=output_shape) #output_shape = 10, or the number of classes there are),\n",
    "\n",
    "        )\n",
    "\n",
    "    def forward (self, x):\n",
    "        x = self.conv_block_1(x)\n",
    "        x = self.conv_block_2(x)\n",
    "        return self.classifier(x)"
   ]
  },
  {
   "attachments": {},
   "cell_type": "markdown",
   "metadata": {},
   "source": [
    "Max pooling is needed in Convolutional Neural Networks (CNNs) for several reasons:\n",
    "\n",
    "Down-sampling: Max pooling reduces the spatial dimensions of the feature maps while retaining important features. This downsampling helps in reducing the computational complexity of the model and makes it more efficient during training and inference.\n",
    "\n",
    "Feature selection: By taking the maximum value within a local region, max pooling helps in selecting the most significant features from that region. It enhances the representation of important patterns or features, making the subsequent layers more effective in capturing relevant information.\n",
    "\n",
    "Translation invariance: Max pooling introduces some degree of translation invariance to the model. Since the operation only considers the maximum value within a window, the exact location of a feature in that window is less important. This makes the model more robust to small translations or shifts in the input data.\n",
    "\n",
    "Reducing overfitting: Max pooling can help in reducing overfitting by summarizing the information in the feature maps and preventing the model from memorizing noise or irrelevant details in the data.\n",
    "\n",
    "Learning hierarchical features: Max pooling is often used in CNN architectures to learn hierarchical features. As the network goes deeper, the receptive field of the pooling operation increases, allowing the model to capture more abstract and complex features."
   ]
  },
  {
   "cell_type": "code",
   "execution_count": 29,
   "metadata": {},
   "outputs": [],
   "source": [
    "cnnModel = CNNFashionMNIST(input_shape=1,\n",
    "                           hidden_units=10,\n",
    "                           output_shape=len(image_with_labels))"
   ]
  },
  {
   "cell_type": "code",
   "execution_count": 30,
   "metadata": {},
   "outputs": [],
   "source": [
    "#initialize loss and optimizers\n",
    "\n",
    "loss_fn = nn.CrossEntropyLoss() #best for multi class problems\n",
    "optim = torch.optim.SGD(params=cnnModel.parameters(),lr=0.1)\n"
   ]
  },
  {
   "cell_type": "markdown",
   "metadata": {},
   "source": [
    "## Training a CNN Model!"
   ]
  },
  {
   "cell_type": "code",
   "execution_count": 31,
   "metadata": {},
   "outputs": [
    {
     "data": {
      "application/vnd.jupyter.widget-view+json": {
       "model_id": "9940ec71823241f09e245efcf62f3710",
       "version_major": 2,
       "version_minor": 0
      },
      "text/plain": [
       "  0%|          | 0/3 [00:00<?, ?it/s]"
      ]
     },
     "metadata": {},
     "output_type": "display_data"
    },
    {
     "name": "stdout",
     "output_type": "stream",
     "text": [
      "Train loss: 0.5952 | Test loss: 0.3742, Test acc: 86.7412\n",
      "Train loss: 0.3501 | Test loss: 0.3431, Test acc: 87.4301\n",
      "Train loss: 0.3143 | Test loss: 0.3284, Test acc: 88.0292\n",
      "Train time: 83.340 seconds\n"
     ]
    }
   ],
   "source": [
    "train_model(cnnModel, train_dataloader,\n",
    "            test_dataloader,\n",
    "            loss_fn,\n",
    "            optim, 3)"
   ]
  },
  {
   "cell_type": "code",
   "execution_count": 35,
   "metadata": {},
   "outputs": [],
   "source": [
    "model1 = eval_model(cnnModel,test_dataloader, loss_fn,hf.accuracy_fn)\n",
    "model2=eval_model(non_linear_model,test_dataloader, loss_fn,hf.accuracy_fn)\n",
    "model3=eval_model(model ,test_dataloader, loss_fn,hf.accuracy_fn)"
   ]
  },
  {
   "cell_type": "code",
   "execution_count": 37,
   "metadata": {},
   "outputs": [
    {
     "data": {
      "text/html": [
       "<div>\n",
       "<style scoped>\n",
       "    .dataframe tbody tr th:only-of-type {\n",
       "        vertical-align: middle;\n",
       "    }\n",
       "\n",
       "    .dataframe tbody tr th {\n",
       "        vertical-align: top;\n",
       "    }\n",
       "\n",
       "    .dataframe thead th {\n",
       "        text-align: right;\n",
       "    }\n",
       "</style>\n",
       "<table border=\"1\" class=\"dataframe\">\n",
       "  <thead>\n",
       "    <tr style=\"text-align: right;\">\n",
       "      <th></th>\n",
       "      <th>model_name</th>\n",
       "      <th>model_loss</th>\n",
       "      <th>model_acc</th>\n",
       "    </tr>\n",
       "  </thead>\n",
       "  <tbody>\n",
       "    <tr>\n",
       "      <th>0</th>\n",
       "      <td>CNNFashionMNIST</td>\n",
       "      <td>0.328405</td>\n",
       "      <td>88.029153</td>\n",
       "    </tr>\n",
       "    <tr>\n",
       "      <th>1</th>\n",
       "      <td>FashionMNISTModelNonLinear</td>\n",
       "      <td>0.563641</td>\n",
       "      <td>80.301518</td>\n",
       "    </tr>\n",
       "    <tr>\n",
       "      <th>2</th>\n",
       "      <td>FashionMNISTModel</td>\n",
       "      <td>0.522687</td>\n",
       "      <td>81.679313</td>\n",
       "    </tr>\n",
       "  </tbody>\n",
       "</table>\n",
       "</div>"
      ],
      "text/plain": [
       "                   model_name  model_loss  model_acc\n",
       "0             CNNFashionMNIST    0.328405  88.029153\n",
       "1  FashionMNISTModelNonLinear    0.563641  80.301518\n",
       "2           FashionMNISTModel    0.522687  81.679313"
      ]
     },
     "execution_count": 37,
     "metadata": {},
     "output_type": "execute_result"
    }
   ],
   "source": [
    "import pandas as pd\n",
    "compare_results = pd.DataFrame([model1, model2, model3])\n",
    "compare_results"
   ]
  },
  {
   "cell_type": "markdown",
   "metadata": {},
   "source": [
    "We can see that the CNN model gives us the best results.\n",
    "\n",
    "We can further fine tune our models:\n",
    "- train for longer\n",
    "- change hyperparameters (increase input etc.)"
   ]
  },
  {
   "cell_type": "code",
   "execution_count": null,
   "metadata": {},
   "outputs": [],
   "source": []
  }
 ],
 "metadata": {
  "kernelspec": {
   "display_name": "izEnv",
   "language": "python",
   "name": "python3"
  },
  "language_info": {
   "codemirror_mode": {
    "name": "ipython",
    "version": 3
   },
   "file_extension": ".py",
   "mimetype": "text/x-python",
   "name": "python",
   "nbconvert_exporter": "python",
   "pygments_lexer": "ipython3",
   "version": "3.10.11"
  },
  "orig_nbformat": 4
 },
 "nbformat": 4,
 "nbformat_minor": 2
}
