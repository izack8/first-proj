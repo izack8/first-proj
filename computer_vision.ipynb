{
 "cells": [
  {
   "attachments": {},
   "cell_type": "markdown",
   "metadata": {},
   "source": [
    "# Computer Vision Deep Learning"
   ]
  },
  {
   "attachments": {},
   "cell_type": "markdown",
   "metadata": {},
   "source": [
    "The codes behind CV is a lot like multiclass classification. We encode the picture into tensors for the computer to understand, and it churns out the **probabailities** of what the photo is (but we need to do labelling of data on the photos first)\n",
    "\n",
    "CNN layer is a good algorithm to learn from images, as the window convolves through each pixel-turned-tensor-data, and try to learn patterns from the images."
   ]
  },
  {
   "attachments": {},
   "cell_type": "markdown",
   "metadata": {},
   "source": [
    "## Frameworks to run"
   ]
  },
  {
   "cell_type": "code",
   "execution_count": 28,
   "metadata": {},
   "outputs": [],
   "source": [
    "#deep learning\n",
    "import torch\n",
    "from torch import nn\n",
    "\n",
    "#computer viz\n",
    "import torchvision \n",
    "from torchvision import datasets\n",
    "from torchvision import transforms \n",
    "from torchvision.transforms import ToTensor\n",
    "\n",
    "import matplotlib.pyplot as plt\n",
    "from sklearn.model_selection import train_test_split\n",
    "from helper_functions import plot_decision_boundary\n",
    "from sklearn.datasets import make_blobs\n",
    "\n",
    "from tqdm.auto import tqdm\n",
    "\n",
    "from timeit import default_timer as timer\n"
   ]
  },
  {
   "cell_type": "code",
   "execution_count": 2,
   "metadata": {},
   "outputs": [],
   "source": [
    "train_data = datasets.FashionMNIST(\n",
    "    root='data', #where to download data to? \n",
    "    train=True,  #do we want the training dataset?\n",
    "    download=True, #download it?\n",
    "    transform=torchvision.transforms.ToTensor(), #how do we want to transform the data?\n",
    "    target_transform=None #how do we want to transform the labels/targets?\n",
    ")\n",
    "\n",
    "\n",
    "test_data = datasets.FashionMNIST(\n",
    "    root='data', #where to download data to? \n",
    "    train=False,  #do we want the training dataset?\n",
    "    download=True, #download it?\n",
    "    transform=ToTensor(), #how do we want to transform the data?\n",
    "    target_transform=None #how do we want to transform the labels/targets?\n",
    ")"
   ]
  },
  {
   "cell_type": "code",
   "execution_count": 3,
   "metadata": {},
   "outputs": [
    {
     "data": {
      "text/plain": [
       "60000"
      ]
     },
     "execution_count": 3,
     "metadata": {},
     "output_type": "execute_result"
    }
   ],
   "source": [
    "len(train_data)"
   ]
  },
  {
   "cell_type": "code",
   "execution_count": 4,
   "metadata": {},
   "outputs": [
    {
     "data": {
      "text/plain": [
       "(tensor([[[0.0000, 0.0000, 0.0000, 0.0000, 0.0000, 0.0000, 0.0000, 0.0000,\n",
       "           0.0000, 0.0000, 0.0000, 0.0000, 0.0000, 0.0000, 0.0000, 0.0000,\n",
       "           0.0000, 0.0000, 0.0000, 0.0000, 0.0000, 0.0000, 0.0000, 0.0000,\n",
       "           0.0000, 0.0000, 0.0000, 0.0000],\n",
       "          [0.0000, 0.0000, 0.0000, 0.0000, 0.0000, 0.0000, 0.0000, 0.0000,\n",
       "           0.0000, 0.0000, 0.0000, 0.0000, 0.0000, 0.0000, 0.0000, 0.0000,\n",
       "           0.0000, 0.0000, 0.0000, 0.0000, 0.0000, 0.0000, 0.0000, 0.0000,\n",
       "           0.0000, 0.0000, 0.0000, 0.0000],\n",
       "          [0.0000, 0.0000, 0.0000, 0.0000, 0.0000, 0.0000, 0.0000, 0.0000,\n",
       "           0.0000, 0.0000, 0.0000, 0.0000, 0.0000, 0.0000, 0.0000, 0.0000,\n",
       "           0.0000, 0.0000, 0.0000, 0.0000, 0.0000, 0.0000, 0.0000, 0.0000,\n",
       "           0.0000, 0.0000, 0.0000, 0.0000],\n",
       "          [0.0000, 0.0000, 0.0000, 0.0000, 0.0000, 0.0000, 0.0000, 0.0000,\n",
       "           0.0000, 0.0000, 0.0000, 0.0000, 0.0039, 0.0000, 0.0000, 0.0510,\n",
       "           0.2863, 0.0000, 0.0000, 0.0039, 0.0157, 0.0000, 0.0000, 0.0000,\n",
       "           0.0000, 0.0039, 0.0039, 0.0000],\n",
       "          [0.0000, 0.0000, 0.0000, 0.0000, 0.0000, 0.0000, 0.0000, 0.0000,\n",
       "           0.0000, 0.0000, 0.0000, 0.0000, 0.0118, 0.0000, 0.1412, 0.5333,\n",
       "           0.4980, 0.2431, 0.2118, 0.0000, 0.0000, 0.0000, 0.0039, 0.0118,\n",
       "           0.0157, 0.0000, 0.0000, 0.0118],\n",
       "          [0.0000, 0.0000, 0.0000, 0.0000, 0.0000, 0.0000, 0.0000, 0.0000,\n",
       "           0.0000, 0.0000, 0.0000, 0.0000, 0.0235, 0.0000, 0.4000, 0.8000,\n",
       "           0.6902, 0.5255, 0.5647, 0.4824, 0.0902, 0.0000, 0.0000, 0.0000,\n",
       "           0.0000, 0.0471, 0.0392, 0.0000],\n",
       "          [0.0000, 0.0000, 0.0000, 0.0000, 0.0000, 0.0000, 0.0000, 0.0000,\n",
       "           0.0000, 0.0000, 0.0000, 0.0000, 0.0000, 0.0000, 0.6078, 0.9255,\n",
       "           0.8118, 0.6980, 0.4196, 0.6118, 0.6314, 0.4275, 0.2510, 0.0902,\n",
       "           0.3020, 0.5098, 0.2824, 0.0588],\n",
       "          [0.0000, 0.0000, 0.0000, 0.0000, 0.0000, 0.0000, 0.0000, 0.0000,\n",
       "           0.0000, 0.0000, 0.0000, 0.0039, 0.0000, 0.2706, 0.8118, 0.8745,\n",
       "           0.8549, 0.8471, 0.8471, 0.6392, 0.4980, 0.4745, 0.4784, 0.5725,\n",
       "           0.5529, 0.3451, 0.6745, 0.2588],\n",
       "          [0.0000, 0.0000, 0.0000, 0.0000, 0.0000, 0.0000, 0.0000, 0.0000,\n",
       "           0.0000, 0.0039, 0.0039, 0.0039, 0.0000, 0.7843, 0.9098, 0.9098,\n",
       "           0.9137, 0.8980, 0.8745, 0.8745, 0.8431, 0.8353, 0.6431, 0.4980,\n",
       "           0.4824, 0.7686, 0.8980, 0.0000],\n",
       "          [0.0000, 0.0000, 0.0000, 0.0000, 0.0000, 0.0000, 0.0000, 0.0000,\n",
       "           0.0000, 0.0000, 0.0000, 0.0000, 0.0000, 0.7176, 0.8824, 0.8471,\n",
       "           0.8745, 0.8941, 0.9216, 0.8902, 0.8784, 0.8706, 0.8784, 0.8667,\n",
       "           0.8745, 0.9608, 0.6784, 0.0000],\n",
       "          [0.0000, 0.0000, 0.0000, 0.0000, 0.0000, 0.0000, 0.0000, 0.0000,\n",
       "           0.0000, 0.0000, 0.0000, 0.0000, 0.0000, 0.7569, 0.8941, 0.8549,\n",
       "           0.8353, 0.7765, 0.7059, 0.8314, 0.8235, 0.8275, 0.8353, 0.8745,\n",
       "           0.8627, 0.9529, 0.7922, 0.0000],\n",
       "          [0.0000, 0.0000, 0.0000, 0.0000, 0.0000, 0.0000, 0.0000, 0.0000,\n",
       "           0.0000, 0.0039, 0.0118, 0.0000, 0.0471, 0.8588, 0.8627, 0.8314,\n",
       "           0.8549, 0.7529, 0.6627, 0.8902, 0.8157, 0.8549, 0.8784, 0.8314,\n",
       "           0.8863, 0.7725, 0.8196, 0.2039],\n",
       "          [0.0000, 0.0000, 0.0000, 0.0000, 0.0000, 0.0000, 0.0000, 0.0000,\n",
       "           0.0000, 0.0000, 0.0235, 0.0000, 0.3882, 0.9569, 0.8706, 0.8627,\n",
       "           0.8549, 0.7961, 0.7765, 0.8667, 0.8431, 0.8353, 0.8706, 0.8627,\n",
       "           0.9608, 0.4667, 0.6549, 0.2196],\n",
       "          [0.0000, 0.0000, 0.0000, 0.0000, 0.0000, 0.0000, 0.0000, 0.0000,\n",
       "           0.0000, 0.0157, 0.0000, 0.0000, 0.2157, 0.9255, 0.8941, 0.9020,\n",
       "           0.8941, 0.9412, 0.9098, 0.8353, 0.8549, 0.8745, 0.9176, 0.8510,\n",
       "           0.8510, 0.8196, 0.3608, 0.0000],\n",
       "          [0.0000, 0.0000, 0.0039, 0.0157, 0.0235, 0.0275, 0.0078, 0.0000,\n",
       "           0.0000, 0.0000, 0.0000, 0.0000, 0.9294, 0.8863, 0.8510, 0.8745,\n",
       "           0.8706, 0.8588, 0.8706, 0.8667, 0.8471, 0.8745, 0.8980, 0.8431,\n",
       "           0.8549, 1.0000, 0.3020, 0.0000],\n",
       "          [0.0000, 0.0118, 0.0000, 0.0000, 0.0000, 0.0000, 0.0000, 0.0000,\n",
       "           0.0000, 0.2431, 0.5686, 0.8000, 0.8941, 0.8118, 0.8353, 0.8667,\n",
       "           0.8549, 0.8157, 0.8275, 0.8549, 0.8784, 0.8745, 0.8588, 0.8431,\n",
       "           0.8784, 0.9569, 0.6235, 0.0000],\n",
       "          [0.0000, 0.0000, 0.0000, 0.0000, 0.0706, 0.1725, 0.3216, 0.4196,\n",
       "           0.7412, 0.8941, 0.8627, 0.8706, 0.8510, 0.8863, 0.7843, 0.8039,\n",
       "           0.8275, 0.9020, 0.8784, 0.9176, 0.6902, 0.7373, 0.9804, 0.9725,\n",
       "           0.9137, 0.9333, 0.8431, 0.0000],\n",
       "          [0.0000, 0.2235, 0.7333, 0.8157, 0.8784, 0.8667, 0.8784, 0.8157,\n",
       "           0.8000, 0.8392, 0.8157, 0.8196, 0.7843, 0.6235, 0.9608, 0.7569,\n",
       "           0.8078, 0.8745, 1.0000, 1.0000, 0.8667, 0.9176, 0.8667, 0.8275,\n",
       "           0.8627, 0.9098, 0.9647, 0.0000],\n",
       "          [0.0118, 0.7922, 0.8941, 0.8784, 0.8667, 0.8275, 0.8275, 0.8392,\n",
       "           0.8039, 0.8039, 0.8039, 0.8627, 0.9412, 0.3137, 0.5882, 1.0000,\n",
       "           0.8980, 0.8667, 0.7373, 0.6039, 0.7490, 0.8235, 0.8000, 0.8196,\n",
       "           0.8706, 0.8941, 0.8824, 0.0000],\n",
       "          [0.3843, 0.9137, 0.7765, 0.8235, 0.8706, 0.8980, 0.8980, 0.9176,\n",
       "           0.9765, 0.8627, 0.7608, 0.8431, 0.8510, 0.9451, 0.2549, 0.2863,\n",
       "           0.4157, 0.4588, 0.6588, 0.8588, 0.8667, 0.8431, 0.8510, 0.8745,\n",
       "           0.8745, 0.8784, 0.8980, 0.1137],\n",
       "          [0.2941, 0.8000, 0.8314, 0.8000, 0.7569, 0.8039, 0.8275, 0.8824,\n",
       "           0.8471, 0.7255, 0.7725, 0.8078, 0.7765, 0.8353, 0.9412, 0.7647,\n",
       "           0.8902, 0.9608, 0.9373, 0.8745, 0.8549, 0.8314, 0.8196, 0.8706,\n",
       "           0.8627, 0.8667, 0.9020, 0.2627],\n",
       "          [0.1882, 0.7961, 0.7176, 0.7608, 0.8353, 0.7725, 0.7255, 0.7451,\n",
       "           0.7608, 0.7529, 0.7922, 0.8392, 0.8588, 0.8667, 0.8627, 0.9255,\n",
       "           0.8824, 0.8471, 0.7804, 0.8078, 0.7294, 0.7098, 0.6941, 0.6745,\n",
       "           0.7098, 0.8039, 0.8078, 0.4510],\n",
       "          [0.0000, 0.4784, 0.8588, 0.7569, 0.7020, 0.6706, 0.7176, 0.7686,\n",
       "           0.8000, 0.8235, 0.8353, 0.8118, 0.8275, 0.8235, 0.7843, 0.7686,\n",
       "           0.7608, 0.7490, 0.7647, 0.7490, 0.7765, 0.7529, 0.6902, 0.6118,\n",
       "           0.6549, 0.6941, 0.8235, 0.3608],\n",
       "          [0.0000, 0.0000, 0.2902, 0.7412, 0.8314, 0.7490, 0.6863, 0.6745,\n",
       "           0.6863, 0.7098, 0.7255, 0.7373, 0.7412, 0.7373, 0.7569, 0.7765,\n",
       "           0.8000, 0.8196, 0.8235, 0.8235, 0.8275, 0.7373, 0.7373, 0.7608,\n",
       "           0.7529, 0.8471, 0.6667, 0.0000],\n",
       "          [0.0078, 0.0000, 0.0000, 0.0000, 0.2588, 0.7843, 0.8706, 0.9294,\n",
       "           0.9373, 0.9490, 0.9647, 0.9529, 0.9569, 0.8667, 0.8627, 0.7569,\n",
       "           0.7490, 0.7020, 0.7137, 0.7137, 0.7098, 0.6902, 0.6510, 0.6588,\n",
       "           0.3882, 0.2275, 0.0000, 0.0000],\n",
       "          [0.0000, 0.0000, 0.0000, 0.0000, 0.0000, 0.0000, 0.0000, 0.1569,\n",
       "           0.2392, 0.1725, 0.2824, 0.1608, 0.1373, 0.0000, 0.0000, 0.0000,\n",
       "           0.0000, 0.0000, 0.0000, 0.0000, 0.0000, 0.0000, 0.0000, 0.0000,\n",
       "           0.0000, 0.0000, 0.0000, 0.0000],\n",
       "          [0.0000, 0.0000, 0.0000, 0.0000, 0.0000, 0.0000, 0.0000, 0.0000,\n",
       "           0.0000, 0.0000, 0.0000, 0.0000, 0.0000, 0.0000, 0.0000, 0.0000,\n",
       "           0.0000, 0.0000, 0.0000, 0.0000, 0.0000, 0.0000, 0.0000, 0.0000,\n",
       "           0.0000, 0.0000, 0.0000, 0.0000],\n",
       "          [0.0000, 0.0000, 0.0000, 0.0000, 0.0000, 0.0000, 0.0000, 0.0000,\n",
       "           0.0000, 0.0000, 0.0000, 0.0000, 0.0000, 0.0000, 0.0000, 0.0000,\n",
       "           0.0000, 0.0000, 0.0000, 0.0000, 0.0000, 0.0000, 0.0000, 0.0000,\n",
       "           0.0000, 0.0000, 0.0000, 0.0000]]]),\n",
       " 9)"
      ]
     },
     "execution_count": 4,
     "metadata": {},
     "output_type": "execute_result"
    }
   ],
   "source": [
    "#see the first training sample\n",
    "image, label = train_data[0]\n",
    "image, label"
   ]
  },
  {
   "cell_type": "code",
   "execution_count": 5,
   "metadata": {},
   "outputs": [
    {
     "data": {
      "text/plain": [
       "{'T-shirt/top': 0,\n",
       " 'Trouser': 1,\n",
       " 'Pullover': 2,\n",
       " 'Dress': 3,\n",
       " 'Coat': 4,\n",
       " 'Sandal': 5,\n",
       " 'Shirt': 6,\n",
       " 'Sneaker': 7,\n",
       " 'Bag': 8,\n",
       " 'Ankle boot': 9}"
      ]
     },
     "execution_count": 5,
     "metadata": {},
     "output_type": "execute_result"
    }
   ],
   "source": [
    "#it's a 9! which relates to an ankle boot\n",
    "image_with_labels = train_data.class_to_idx\n",
    "image_with_labels"
   ]
  },
  {
   "cell_type": "code",
   "execution_count": 6,
   "metadata": {},
   "outputs": [
    {
     "name": "stdout",
     "output_type": "stream",
     "text": [
      "torch.Size([1, 28, 28])\n"
     ]
    },
    {
     "data": {
      "text/plain": [
       "<matplotlib.image.AxesImage at 0x13feeb910>"
      ]
     },
     "execution_count": 6,
     "metadata": {},
     "output_type": "execute_result"
    },
    {
     "data": {
      "image/png": "[encoded data removed]",
      "text/plain": [
       "<Figure size 640x480 with 1 Axes>"
      ]
     },
     "metadata": {},
     "output_type": "display_data"
    }
   ],
   "source": [
    "#28 pixels across, 28 pixels down. not very high definition\n",
    "print(train_data[0][0].shape)\n",
    "image, label = train_data[0]\n",
    "plt.imshow(image.squeeze())"
   ]
  },
  {
   "cell_type": "code",
   "execution_count": 7,
   "metadata": {},
   "outputs": [
    {
     "data": {
      "text/plain": [
       "<matplotlib.image.AxesImage at 0x148291f90>"
      ]
     },
     "execution_count": 7,
     "metadata": {},
     "output_type": "execute_result"
    },
    {
     "data": {
      "image/png": "[encoded data removed]",
      "text/plain": [
       "<Figure size 640x480 with 1 Axes>"
      ]
     },
     "metadata": {},
     "output_type": "display_data"
    }
   ],
   "source": [
    "#grayscale\n",
    "plt.imshow(image.squeeze(), cmap='gray')"
   ]
  },
  {
   "cell_type": "code",
   "execution_count": 8,
   "metadata": {},
   "outputs": [
    {
     "data": {
      "image/png": "[encoded data removed]",
      "text/plain": [
       "<Figure size 900x900 with 16 Axes>"
      ]
     },
     "metadata": {},
     "output_type": "display_data"
    }
   ],
   "source": [
    "#visualizing more images. \n",
    "fig = plt.figure(figsize=(9,9))\n",
    "rows, cols = 4,4\n",
    "for i in range(1, rows*cols+1):\n",
    "    random_idx = torch.randint(0, len(train_data), size=[1]).item()\n",
    "    img, label = train_data[random_idx] #img returns a tensor value, which is a representation of an image but with numbers\n",
    "    fig.add_subplot(rows, cols, i)\n",
    "    plt.imshow(img.squeeze(), cmap='gray')\n",
    "    plt.title(train_data.classes[label])\n",
    "    plt.axis(False)"
   ]
  },
  {
   "attachments": {},
   "cell_type": "markdown",
   "metadata": {},
   "source": [
    "### Dataloading\n",
    "\n",
    "1. More computationally efficient, computing hardware may not be able to look at all the data (maybe 60000) at once\n",
    "2. Gives our NN more chance to update gradients per epoch"
   ]
  },
  {
   "cell_type": "code",
   "execution_count": 9,
   "metadata": {},
   "outputs": [],
   "source": [
    "#batch sizes for faster processing\n",
    "from torch.utils.data import DataLoader\n",
    "train_dataloader = DataLoader(dataset=train_data, \n",
    "                              batch_size=32, #\n",
    "                              shuffle=True)\n",
    "\n",
    "test_dataloader = DataLoader(dataset=test_data,\n",
    "                             batch_size=32,\n",
    "                             shuffle=False)"
   ]
  },
  {
   "cell_type": "code",
   "execution_count": 10,
   "metadata": {},
   "outputs": [
    {
     "data": {
      "text/plain": [
       "2"
      ]
     },
     "execution_count": 10,
     "metadata": {},
     "output_type": "execute_result"
    }
   ],
   "source": [
    "  my_list = [1, 2, 3, 4, 5]\n",
    "my_iterator = iter(my_list)\n",
    "next(my_iterator)\n",
    "next(my_iterator)"
   ]
  },
  {
   "cell_type": "code",
   "execution_count": 11,
   "metadata": {},
   "outputs": [
    {
     "data": {
      "text/plain": [
       "(torch.Size([32, 1, 28, 28]), torch.Size([32]))"
      ]
     },
     "execution_count": 11,
     "metadata": {},
     "output_type": "execute_result"
    }
   ],
   "source": [
    "#check whats inside the training dataloader\n",
    "train_features_batch, train_labels_batch = next(iter(train_dataloader))\n",
    "train_features_batch.shape, train_labels_batch.shape\n",
    "\n",
    "#we should have batchs size = 32"
   ]
  },
  {
   "attachments": {},
   "cell_type": "markdown",
   "metadata": {},
   "source": []
  },
  {
   "cell_type": "code",
   "execution_count": 12,
   "metadata": {},
   "outputs": [
    {
     "data": {
      "text/plain": [
       "Text(0.5, 1.0, 'Trouser')"
      ]
     },
     "execution_count": 12,
     "metadata": {},
     "output_type": "execute_result"
    },
    {
     "data": {
      "image/png": "[encoded data removed]",
      "text/plain": [
       "<Figure size 640x480 with 1 Axes>"
      ]
     },
     "metadata": {},
     "output_type": "display_data"
    }
   ],
   "source": [
    "#show the 2nd sample\n",
    "img, label = train_features_batch[3], train_labels_batch[3]\n",
    "plt.imshow(img.squeeze(), #removing one dimension\n",
    "           cmap='gray')\n",
    "plt.title(train_data.classes[label])"
   ]
  },
  {
   "attachments": {},
   "cell_type": "markdown",
   "metadata": {},
   "source": [
    "## Let's build our model!\n",
    "\n",
    "When statrting to build a series of mahcine learning modelling experiments, it's best practive to start with a baseline model, and then improve on it with subsequent features.\n",
    "\n",
    "AKA. start simply, add complexity when necessary"
   ]
  },
  {
   "cell_type": "code",
   "execution_count": 13,
   "metadata": {},
   "outputs": [
    {
     "name": "stdout",
     "output_type": "stream",
     "text": [
      "shape before: torch.Size([1, 28, 28])\n",
      "shape after: torch.Size([1, 784])\n"
     ]
    }
   ],
   "source": [
    "#Create a flatten layer\n",
    "\n",
    "flatten_model = nn.Flatten()\n",
    "\n",
    "x = train_features_batch[0]\n",
    "\n",
    "output =  flatten_model(x) #perform forward pass\n",
    "\n",
    "#Print out what happened\n",
    "print(f'shape before: {x.shape}') #[color channel, height width]\n",
    "print(f'shape after: {output.shape}') #[color channel, height*width]"
   ]
  },
  {
   "cell_type": "code",
   "execution_count": 14,
   "metadata": {},
   "outputs": [
    {
     "data": {
      "text/plain": [
       "tensor([[0.0000, 0.0000, 0.0000, 0.0000, 0.0000, 0.0000, 0.0000, 0.0157, 0.2196,\n",
       "         0.2902, 0.6588, 0.8118, 0.6353, 0.7843, 0.7608, 0.6902, 0.9098, 0.6627,\n",
       "         0.2745, 0.2118, 0.0353, 0.0000, 0.0000, 0.0000, 0.0000, 0.0000, 0.0000,\n",
       "         0.0000, 0.0000, 0.0000, 0.0000, 0.0039, 0.0000, 0.0431, 0.4471, 0.5490,\n",
       "         0.4980, 0.3922, 0.3451, 0.5647, 0.7490, 0.9961, 0.9804, 0.7686, 0.6078,\n",
       "         0.3373, 0.3725, 0.4863, 0.5294, 0.4588, 0.0471, 0.0000, 0.0000, 0.0000,\n",
       "         0.0000, 0.0000, 0.0000, 0.0000, 0.0000, 0.0000, 0.0000, 0.5529, 0.4196,\n",
       "         0.3216, 0.3059, 0.3451, 0.3294, 0.2510, 0.2118, 0.1255, 0.1569, 0.2078,\n",
       "         0.2235, 0.3059, 0.3294, 0.3098, 0.3294, 0.4196, 0.5647, 0.0000, 0.0000,\n",
       "         0.0000, 0.0000, 0.0000, 0.0000, 0.0000, 0.0000, 0.0000, 0.1412, 0.4118,\n",
       "         0.3098, 0.3373, 0.3294, 0.3216, 0.3294, 0.3490, 0.3373, 0.3333, 0.3333,\n",
       "         0.3216, 0.3176, 0.3216, 0.3098, 0.3059, 0.3098, 0.3020, 0.4118, 0.1412,\n",
       "         0.0000, 0.0000, 0.0000, 0.0000, 0.0000, 0.0000, 0.0000, 0.0000, 0.2392,\n",
       "         0.4275, 0.3608, 0.3373, 0.3098, 0.3216, 0.3176, 0.3294, 0.3216, 0.3216,\n",
       "         0.3294, 0.3216, 0.3059, 0.3098, 0.3020, 0.2902, 0.2941, 0.3490, 0.4118,\n",
       "         0.2392, 0.0000, 0.0000, 0.0000, 0.0000, 0.0000, 0.0000, 0.0000, 0.0000,\n",
       "         0.2941, 0.3882, 0.4000, 0.3176, 0.3176, 0.3176, 0.3098, 0.3098, 0.3294,\n",
       "         0.3059, 0.3176, 0.3216, 0.3176, 0.3059, 0.2941, 0.2941, 0.2941, 0.4118,\n",
       "         0.3843, 0.3020, 0.0000, 0.0000, 0.0000, 0.0000, 0.0000, 0.0000, 0.0000,\n",
       "         0.0000, 0.3216, 0.3882, 0.4706, 0.2824, 0.3216, 0.3216, 0.3176, 0.3098,\n",
       "         0.3098, 0.3020, 0.3176, 0.3294, 0.3098, 0.3216, 0.3098, 0.2745, 0.2667,\n",
       "         0.4706, 0.4000, 0.3216, 0.0000, 0.0000, 0.0000, 0.0000, 0.0000, 0.0000,\n",
       "         0.0000, 0.0000, 0.3333, 0.4196, 0.4824, 0.2902, 0.3373, 0.3373, 0.3373,\n",
       "         0.3294, 0.3098, 0.3020, 0.3216, 0.3294, 0.3216, 0.3059, 0.3020, 0.3020,\n",
       "         0.2784, 0.5020, 0.4118, 0.3333, 0.0000, 0.0000, 0.0000, 0.0000, 0.0000,\n",
       "         0.0000, 0.0000, 0.0000, 0.3569, 0.4118, 0.5098, 0.5490, 0.3333, 0.3647,\n",
       "         0.3608, 0.3216, 0.3098, 0.2941, 0.3059, 0.3176, 0.3216, 0.3176, 0.3176,\n",
       "         0.2941, 0.5529, 0.5020, 0.3882, 0.3725, 0.0000, 0.0000, 0.0000, 0.0000,\n",
       "         0.0000, 0.0000, 0.0000, 0.0000, 0.3647, 0.4039, 0.5569, 0.6902, 0.2902,\n",
       "         0.4000, 0.3569, 0.3098, 0.3098, 0.3020, 0.2941, 0.3176, 0.3059, 0.3176,\n",
       "         0.2824, 0.2275, 0.6941, 0.5529, 0.4157, 0.3765, 0.0000, 0.0000, 0.0000,\n",
       "         0.0000, 0.0000, 0.0000, 0.0000, 0.0039, 0.3608, 0.4118, 0.6078, 0.7176,\n",
       "         0.3294, 0.3294, 0.3373, 0.3216, 0.3294, 0.3098, 0.3098, 0.3176, 0.3176,\n",
       "         0.3294, 0.2510, 0.3020, 0.7216, 0.6078, 0.4314, 0.3569, 0.0000, 0.0000,\n",
       "         0.0000, 0.0000, 0.0000, 0.0000, 0.0000, 0.0078, 0.3647, 0.4549, 0.7176,\n",
       "         0.5255, 0.2902, 0.3373, 0.3176, 0.3333, 0.3451, 0.3176, 0.3176, 0.3176,\n",
       "         0.3098, 0.3333, 0.2510, 0.2078, 0.5216, 0.7137, 0.4471, 0.3647, 0.0000,\n",
       "         0.0000, 0.0000, 0.0000, 0.0000, 0.0000, 0.0000, 0.0706, 0.3922, 0.4392,\n",
       "         0.8431, 0.3725, 0.2627, 0.3373, 0.3569, 0.3490, 0.3490, 0.3216, 0.3176,\n",
       "         0.3176, 0.3216, 0.3294, 0.2627, 0.1529, 0.3882, 0.8392, 0.4314, 0.3882,\n",
       "         0.0706, 0.0000, 0.0000, 0.0000, 0.0000, 0.0000, 0.0000, 0.1098, 0.4118,\n",
       "         0.4118, 0.9216, 0.4000, 0.1922, 0.3216, 0.3569, 0.3333, 0.3333, 0.3176,\n",
       "         0.3176, 0.3176, 0.3098, 0.3294, 0.3216, 0.1255, 0.4314, 0.9098, 0.4118,\n",
       "         0.3843, 0.1020, 0.0000, 0.0000, 0.0000, 0.0000, 0.0000, 0.0000, 0.1686,\n",
       "         0.4039, 0.4275, 0.8863, 0.2667, 0.1647, 0.3608, 0.3647, 0.3373, 0.3294,\n",
       "         0.3176, 0.3176, 0.3176, 0.3176, 0.3333, 0.3569, 0.1412, 0.2784, 0.8784,\n",
       "         0.4196, 0.4000, 0.1686, 0.0000, 0.0000, 0.0000, 0.0000, 0.0000, 0.0000,\n",
       "         0.2118, 0.3882, 0.4549, 0.8667, 0.1412, 0.0824, 0.4157, 0.3490, 0.3490,\n",
       "         0.3333, 0.3098, 0.3176, 0.3098, 0.3176, 0.3176, 0.3922, 0.0824, 0.1373,\n",
       "         0.8667, 0.4549, 0.3922, 0.2275, 0.0000, 0.0000, 0.0000, 0.0000, 0.0000,\n",
       "         0.0000, 0.2353, 0.3843, 0.4667, 0.8863, 0.0000, 0.0863, 0.4667, 0.3294,\n",
       "         0.3490, 0.3176, 0.3059, 0.3098, 0.3098, 0.3176, 0.3176, 0.4000, 0.0824,\n",
       "         0.0000, 0.8784, 0.4549, 0.3725, 0.2471, 0.0000, 0.0000, 0.0000, 0.0000,\n",
       "         0.0000, 0.0000, 0.2510, 0.3725, 0.4745, 0.8549, 0.0000, 0.2275, 0.4275,\n",
       "         0.3294, 0.3451, 0.3059, 0.3059, 0.3059, 0.3059, 0.3098, 0.3176, 0.3765,\n",
       "         0.2196, 0.0000, 0.8549, 0.4588, 0.3725, 0.2510, 0.0000, 0.0000, 0.0000,\n",
       "         0.0000, 0.0000, 0.0000, 0.2392, 0.3843, 0.4745, 0.8314, 0.0000, 0.3020,\n",
       "         0.3882, 0.3216, 0.3333, 0.2902, 0.3059, 0.3059, 0.3059, 0.3059, 0.3020,\n",
       "         0.3490, 0.2745, 0.0000, 0.8235, 0.4745, 0.3725, 0.2471, 0.0000, 0.0000,\n",
       "         0.0000, 0.0000, 0.0000, 0.0000, 0.2510, 0.3922, 0.5020, 0.7843, 0.0000,\n",
       "         0.3216, 0.3647, 0.3490, 0.3373, 0.3059, 0.3059, 0.3020, 0.3098, 0.3020,\n",
       "         0.3098, 0.3020, 0.2784, 0.0000, 0.7686, 0.4941, 0.3843, 0.2667, 0.0000,\n",
       "         0.0000, 0.0000, 0.0000, 0.0000, 0.0000, 0.2667, 0.3647, 0.5647, 0.8431,\n",
       "         0.0000, 0.3569, 0.3373, 0.3569, 0.3294, 0.3059, 0.3216, 0.2824, 0.3020,\n",
       "         0.3098, 0.3176, 0.3020, 0.3294, 0.0000, 0.6667, 0.5569, 0.3922, 0.2745,\n",
       "         0.0000, 0.0000, 0.0000, 0.0000, 0.0000, 0.0000, 0.2902, 0.4039, 0.5765,\n",
       "         0.5490, 0.0000, 0.3569, 0.3490, 0.3647, 0.3098, 0.2902, 0.3059, 0.2784,\n",
       "         0.2941, 0.3216, 0.3216, 0.3020, 0.3176, 0.0000, 0.5412, 0.5686, 0.3882,\n",
       "         0.2941, 0.0000, 0.0000, 0.0000, 0.0000, 0.0000, 0.0000, 0.3216, 0.4314,\n",
       "         0.5490, 0.6314, 0.0000, 0.4000, 0.3882, 0.3373, 0.3059, 0.2941, 0.3098,\n",
       "         0.3098, 0.3373, 0.3294, 0.2941, 0.3216, 0.3843, 0.0000, 0.6353, 0.5529,\n",
       "         0.4196, 0.3059, 0.0000, 0.0000, 0.0000, 0.0000, 0.0000, 0.0000, 0.3294,\n",
       "         0.3922, 0.6314, 0.7059, 0.0000, 0.4314, 0.3765, 0.2941, 0.3451, 0.2941,\n",
       "         0.3176, 0.3176, 0.3451, 0.3216, 0.3098, 0.3373, 0.4000, 0.0000, 0.6902,\n",
       "         0.6235, 0.4039, 0.3098, 0.0000, 0.0000, 0.0000, 0.0000, 0.0000, 0.0000,\n",
       "         0.2627, 0.4157, 0.6784, 0.4549, 0.0000, 0.3882, 0.2784, 0.3294, 0.3176,\n",
       "         0.3020, 0.3020, 0.2745, 0.3020, 0.2902, 0.2941, 0.2902, 0.3569, 0.1098,\n",
       "         0.4549, 0.6667, 0.4039, 0.2667, 0.0000, 0.0000, 0.0000, 0.0000, 0.0000,\n",
       "         0.0000, 0.2902, 0.4667, 0.7137, 0.4196, 0.0431, 0.5098, 0.4471, 0.4471,\n",
       "         0.4431, 0.4471, 0.4549, 0.4549, 0.4392, 0.4314, 0.4588, 0.4314, 0.4980,\n",
       "         0.0314, 0.4118, 0.7176, 0.4588, 0.2745, 0.0000, 0.0000, 0.0000, 0.0000,\n",
       "         0.0000, 0.0000, 0.2902, 0.4471, 0.7725, 0.3216, 0.0000, 0.0824, 0.0353,\n",
       "         0.0275, 0.0431, 0.0314, 0.0588, 0.0745, 0.0549, 0.0471, 0.0353, 0.0314,\n",
       "         0.0745, 0.0000, 0.3294, 0.7686, 0.4549, 0.2941, 0.0000, 0.0000, 0.0000,\n",
       "         0.0000, 0.0000, 0.0000, 0.2000, 0.4588, 0.6353, 0.0980, 0.0000, 0.0000,\n",
       "         0.0000, 0.0000, 0.0000, 0.0000, 0.0000, 0.0000, 0.0000, 0.0000, 0.0000,\n",
       "         0.0000, 0.0000, 0.0000, 0.0980, 0.6392, 0.4706, 0.2196, 0.0000, 0.0000,\n",
       "         0.0000]])"
      ]
     },
     "execution_count": 14,
     "metadata": {},
     "output_type": "execute_result"
    }
   ],
   "source": [
    "output"
   ]
  },
  {
   "cell_type": "code",
   "execution_count": 15,
   "metadata": {},
   "outputs": [],
   "source": [
    "from torch import nn\n",
    "\n",
    "class FashionMNISTModel(nn.Module):\n",
    "    def __init__ (self, input, output, hidden_units):\n",
    "        super().__init__()\n",
    "\n",
    "        self.layer_stack = nn.Sequential(\n",
    "            nn.Flatten(), #we need this layer, so that our 2D tensor can trained as a 1D vector.\n",
    "            nn.Linear(in_features=input, out_features=hidden_units),\n",
    "            nn.Linear(in_features=hidden_units, out_features=output)\n",
    "        )\n",
    "    \n",
    "    def forward(self, x):\n",
    "        return self.layer_stack(x)"
   ]
  },
  {
   "cell_type": "code",
   "execution_count": 16,
   "metadata": {},
   "outputs": [
    {
     "data": {
      "text/plain": [
       "FashionMNISTModel(\n",
       "  (layer_stack): Sequential(\n",
       "    (0): Flatten(start_dim=1, end_dim=-1)\n",
       "    (1): Linear(in_features=784, out_features=10, bias=True)\n",
       "    (2): Linear(in_features=10, out_features=10, bias=True)\n",
       "  )\n",
       ")"
      ]
     },
     "execution_count": 16,
     "metadata": {},
     "output_type": "execute_result"
    }
   ],
   "source": [
    "#setup our model\n",
    "model = FashionMNISTModel(input = 784, # 28*28 for training purposes\n",
    "                         output = 10, # outputs one for each class\n",
    "                         hidden_units= 10) # units for training \n",
    "model "
   ]
  },
  {
   "cell_type": "code",
   "execution_count": 17,
   "metadata": {},
   "outputs": [
    {
     "data": {
      "text/plain": [
       "tensor([[ 0.0342, -0.1089, -0.2387, -0.2551,  0.0984, -0.2311,  0.1775,  0.0305,\n",
       "          0.4216,  0.1013]], grad_fn=<AddmmBackward0>)"
      ]
     },
     "execution_count": 17,
     "metadata": {},
     "output_type": "execute_result"
    }
   ],
   "source": [
    "dummy_x = torch.rand([1,1,28,28]) #this is the tensor we need to feed into our model. it is common to have an error here\n",
    "model(dummy_x)"
   ]
  },
  {
   "cell_type": "code",
   "execution_count": 18,
   "metadata": {},
   "outputs": [
    {
     "data": {
      "text/plain": [
       "OrderedDict([('layer_stack.1.weight',\n",
       "              tensor([[-0.0093,  0.0141,  0.0163,  ...,  0.0321, -0.0218,  0.0105],\n",
       "                      [-0.0002, -0.0033,  0.0240,  ..., -0.0011, -0.0072, -0.0030],\n",
       "                      [ 0.0352, -0.0227, -0.0266,  ...,  0.0178, -0.0310,  0.0278],\n",
       "                      ...,\n",
       "                      [ 0.0352,  0.0312,  0.0140,  ...,  0.0005,  0.0005,  0.0110],\n",
       "                      [-0.0015,  0.0067,  0.0315,  ..., -0.0100, -0.0103,  0.0265],\n",
       "                      [-0.0014,  0.0290,  0.0276,  ..., -0.0037, -0.0274,  0.0305]])),\n",
       "             ('layer_stack.1.bias',\n",
       "              tensor([ 0.0244,  0.0081, -0.0344, -0.0194, -0.0343, -0.0301,  0.0185,  0.0079,\n",
       "                      -0.0277, -0.0341])),\n",
       "             ('layer_stack.2.weight',\n",
       "              tensor([[-0.0040,  0.2470, -0.1679,  0.0191, -0.1311,  0.1737,  0.2329, -0.1156,\n",
       "                       -0.2950, -0.0426],\n",
       "                      [ 0.0270, -0.2210,  0.2019,  0.0691,  0.2688,  0.2498,  0.2758,  0.0032,\n",
       "                        0.1844,  0.0936],\n",
       "                      [-0.1498, -0.2482,  0.2013,  0.2223, -0.2942, -0.1465,  0.1313,  0.0287,\n",
       "                        0.0057,  0.2033],\n",
       "                      [-0.1639, -0.2997,  0.2180, -0.2034, -0.2450,  0.2658,  0.1006,  0.2996,\n",
       "                        0.2854, -0.1768],\n",
       "                      [ 0.1533, -0.2020,  0.1478,  0.0500,  0.0774,  0.0194, -0.0336,  0.0454,\n",
       "                        0.0828,  0.1412],\n",
       "                      [-0.2314, -0.2867, -0.2231, -0.2104, -0.0718,  0.0983, -0.2261, -0.2446,\n",
       "                        0.1961, -0.1279],\n",
       "                      [ 0.0723, -0.0516, -0.2240, -0.2965,  0.1943,  0.1993, -0.0860, -0.0009,\n",
       "                        0.1970, -0.0767],\n",
       "                      [-0.0135,  0.2424,  0.1296,  0.1429,  0.2164,  0.2921, -0.0946,  0.2131,\n",
       "                       -0.1219,  0.1505],\n",
       "                      [ 0.1305,  0.1901,  0.1074,  0.2814,  0.1007, -0.2993,  0.2026,  0.0852,\n",
       "                        0.2781,  0.1573],\n",
       "                      [ 0.1072,  0.1825,  0.0109, -0.2327,  0.2184,  0.1049,  0.0436, -0.1014,\n",
       "                        0.0357, -0.2589]])),\n",
       "             ('layer_stack.2.bias',\n",
       "              tensor([ 0.0546,  0.1266, -0.0689, -0.1571,  0.1618, -0.0981,  0.0909, -0.0010,\n",
       "                       0.2348,  0.0503]))])"
      ]
     },
     "execution_count": 18,
     "metadata": {},
     "output_type": "execute_result"
    }
   ],
   "source": [
    "model.state_dict()"
   ]
  },
  {
   "attachments": {},
   "cell_type": "markdown",
   "metadata": {},
   "source": [
    "### Setup loss, optimizer and eval metrics.\n",
    "\n",
    "* Loss function - since we are working with multi-class data, our loss function will be `nn.CrossEntropyLoss()`\n",
    "* Optimizer - `torch.optin.SGD()`\n",
    "* Evaluation metric - classification problem, let's use _accuracy_"
   ]
  },
  {
   "cell_type": "code",
   "execution_count": 19,
   "metadata": {},
   "outputs": [],
   "source": [
    "loss_fn = nn.CrossEntropyLoss()\n",
    "optim = torch.optim.SGD(model.parameters(), lr=0.01)"
   ]
  },
  {
   "attachments": {},
   "cell_type": "markdown",
   "metadata": {},
   "source": [
    "### Creating a function to time our experiments\n",
    "\n",
    "Machine Learning is very experimental\n",
    "\n",
    "Two of the main things you'll often want to track are:\n",
    "1. Model's performance (loss and accuracy values)\n",
    "2. How fast it runs"
   ]
  },
  {
   "cell_type": "code",
   "execution_count": 20,
   "metadata": {},
   "outputs": [],
   "source": [
    "\n",
    "def print_train_time(start: float, end: float, device: torch.device = None):\n",
    "    total_time = end - start \n",
    "    print(f'Tirain time: {total_time:.3f} seconds')\n",
    "    return total_time"
   ]
  },
  {
   "cell_type": "code",
   "execution_count": 21,
   "metadata": {},
   "outputs": [
    {
     "name": "stdout",
     "output_type": "stream",
     "text": [
      "Tirain time: 0.000 seconds\n"
     ]
    },
    {
     "data": {
      "text/plain": [
       "1.6083002265077084e-05"
      ]
     },
     "execution_count": 21,
     "metadata": {},
     "output_type": "execute_result"
    }
   ],
   "source": [
    "#looks something like that.\n",
    "\n",
    "start_time = timer()\n",
    "#some code\n",
    "end_time = timer()\n",
    "print_train_time(start_time, end_time)"
   ]
  },
  {
   "attachments": {},
   "cell_type": "markdown",
   "metadata": {},
   "source": [
    "### Creating a training loop.\n",
    "\n",
    "1. Loop through epochs.\n",
    "2. Loop through training batches, perform training steps, calculate the train loss *per batch*.\n",
    "3. Loop through testing batches, perform testing steps, calculate the test loss *per batch*.\n",
    "4. Print out whats happening.\n",
    "5. Time it."
   ]
  },
  {
   "cell_type": "code",
   "execution_count": 29,
   "metadata": {},
   "outputs": [
    {
     "data": {
      "application/vnd.jupyter.widget-view+json": {
       "model_id": "8c551deb23744c1781c07378d2d82c11",
       "version_major": 2,
       "version_minor": 0
      },
      "text/plain": [
       "  0%|          | 0/3 [00:00<?, ?it/s]"
      ]
     },
     "metadata": {},
     "output_type": "display_data"
    },
    {
     "name": "stdout",
     "output_type": "stream",
     "text": [
      "Train loss: 0.4416 | Test loss: 0.4696, Test acc: 83.2468\n",
      "Train loss: 0.4348 | Test loss: 0.4633, Test acc: 83.6562\n",
      "Train loss: 0.4289 | Test loss: 0.4602, Test acc: 84.0355\n",
      "Tirain time: 5.640 seconds\n"
     ]
    },
    {
     "data": {
      "text/plain": [
       "5.6397267499996815"
      ]
     },
     "execution_count": 29,
     "metadata": {},
     "output_type": "execute_result"
    }
   ],
   "source": [
    "import helper_functions as hf\n",
    "\n",
    "train_time_start = timer()\n",
    "\n",
    "epochs = 3\n",
    "\n",
    "for epoch in tqdm(range(epochs)):\n",
    "    \n",
    "    train_loss = 0\n",
    "\n",
    "    #with every batch, we hope that the results get slightly better. \n",
    "    #if we are doing individually, it will be slower.\n",
    "    for batch, (X,y) in enumerate(train_dataloader):\n",
    "        model.train()\n",
    "\n",
    "        y_pred = model(X) # this will give us logits. we need to normalize (make it human language) this. \n",
    "                            #argmax is the function to use\n",
    "        loss = loss_fn (y_pred, y)\n",
    "        train_loss += loss #accumulate train loss\n",
    "\n",
    "        optim.zero_grad()\n",
    "        \n",
    "        loss.backward()\n",
    "\n",
    "        optim.step()\n",
    "    train_loss /= len(train_dataloader)\n",
    "\n",
    "    test_loss, test_acc = 0,0\n",
    "\n",
    "    model.eval()\n",
    "    with torch.inference_mode():\n",
    "        for X_test, y_test in test_dataloader:\n",
    "            test_pred = model(X_test)\n",
    "            test_loss += loss_fn(test_pred, y_test)\n",
    "\n",
    "            test_acc += hf.accuracy_fn(y_true=y_test, y_pred = test_pred.argmax(dim=1))\n",
    "        test_loss /= len(test_dataloader)\n",
    "        test_acc /= len(test_dataloader)\n",
    "\n",
    "    print(f'Train loss: {train_loss:.4f} | Test loss: {test_loss:.4f}, Test acc: {test_acc:.4f}')\n",
    "\n",
    "    train_time_end = timer()\n",
    "\n",
    "print_train_time(train_time_start, train_time_end)\n",
    "\n",
    "#16:14:45"
   ]
  },
  {
   "attachments": {},
   "cell_type": "markdown",
   "metadata": {},
   "source": []
  }
 ],
 "metadata": {
  "kernelspec": {
   "display_name": "izEnv",
   "language": "python",
   "name": "python3"
  },
  "language_info": {
   "codemirror_mode": {
    "name": "ipython",
    "version": 3
   },
   "file_extension": ".py",
   "mimetype": "text/x-python",
   "name": "python",
   "nbconvert_exporter": "python",
   "pygments_lexer": "ipython3",
   "version": "3.10.11"
  },
  "orig_nbformat": 4
 },
 "nbformat": 4,
 "nbformat_minor": 2
}
