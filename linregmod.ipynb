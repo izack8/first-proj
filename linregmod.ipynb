{
 "cells": [
  {
   "cell_type": "code",
   "execution_count": 3,
   "metadata": {},
   "outputs": [],
   "source": [
    "import torch\n",
    "from torch import nn\n",
    "import matplotlib.pyplot as plt\n",
    "from sklearn.model_selection import train_test_split"
   ]
  },
  {
   "cell_type": "code",
   "execution_count": 8,
   "metadata": {},
   "outputs": [],
   "source": [
    "#Creating data\n",
    "slay = 12.085\n",
    "nepotism = 69\n",
    "\n",
    "X = torch.arange(0, 50, 0.1).unsqueeze(dim=1) #remember to unsqueeze.\n",
    "#Y is usually something that we found a correlation with. In this case, we are going to assume that\n",
    "# the linear formula is a good fit.\n",
    "Y = slay*X + nepotism\n",
    "\n",
    "#split the data\n",
    "X_train, X_test, y_train, y_test = train_test_split(X, Y, train_size=0.3)\n"
   ]
  },
  {
   "cell_type": "code",
   "execution_count": 22,
   "metadata": {},
   "outputs": [
    {
     "data": {
      "text/plain": [
       "tensor([[ 0],\n",
       "        [ 1],\n",
       "        [ 2],\n",
       "        [ 3],\n",
       "        [ 4],\n",
       "        [ 5],\n",
       "        [ 6],\n",
       "        [ 7],\n",
       "        [ 8],\n",
       "        [ 9],\n",
       "        [10],\n",
       "        [11],\n",
       "        [12],\n",
       "        [13],\n",
       "        [14],\n",
       "        [15],\n",
       "        [16],\n",
       "        [17],\n",
       "        [18],\n",
       "        [19],\n",
       "        [20],\n",
       "        [21],\n",
       "        [22],\n",
       "        [23],\n",
       "        [24],\n",
       "        [25],\n",
       "        [26],\n",
       "        [27],\n",
       "        [28],\n",
       "        [29],\n",
       "        [30],\n",
       "        [31],\n",
       "        [32],\n",
       "        [33],\n",
       "        [34],\n",
       "        [35],\n",
       "        [36],\n",
       "        [37],\n",
       "        [38],\n",
       "        [39],\n",
       "        [40],\n",
       "        [41],\n",
       "        [42],\n",
       "        [43],\n",
       "        [44],\n",
       "        [45],\n",
       "        [46],\n",
       "        [47],\n",
       "        [48],\n",
       "        [49],\n",
       "        [50],\n",
       "        [51],\n",
       "        [52],\n",
       "        [53],\n",
       "        [54],\n",
       "        [55],\n",
       "        [56],\n",
       "        [57],\n",
       "        [58],\n",
       "        [59],\n",
       "        [60],\n",
       "        [61],\n",
       "        [62],\n",
       "        [63],\n",
       "        [64],\n",
       "        [65],\n",
       "        [66],\n",
       "        [67],\n",
       "        [68],\n",
       "        [69],\n",
       "        [70],\n",
       "        [71],\n",
       "        [72],\n",
       "        [73],\n",
       "        [74],\n",
       "        [75],\n",
       "        [76],\n",
       "        [77],\n",
       "        [78],\n",
       "        [79],\n",
       "        [80],\n",
       "        [81],\n",
       "        [82],\n",
       "        [83],\n",
       "        [84],\n",
       "        [85],\n",
       "        [86],\n",
       "        [87],\n",
       "        [88],\n",
       "        [89],\n",
       "        [90],\n",
       "        [91],\n",
       "        [92],\n",
       "        [93],\n",
       "        [94],\n",
       "        [95],\n",
       "        [96],\n",
       "        [97],\n",
       "        [98],\n",
       "        [99]])"
      ]
     },
     "execution_count": 22,
     "metadata": {},
     "output_type": "execute_result"
    }
   ],
   "source": [
    "X"
   ]
  },
  {
   "cell_type": "code",
   "execution_count": 23,
   "metadata": {},
   "outputs": [],
   "source": [
    "class LinearRegressionModel(nn.Module):\n",
    "    def __init__(self):\n",
    "        super().__init__()\n",
    "        self.slay =  nn.Parameter(torch.randn(1, requires_grad=True)) #the slay factor parameter\n",
    "        self.nepotism = nn.Parameter(torch.randn(1, requires_grad=True)) #how nepotism can boost them\n",
    "\n",
    "        \n",
    "\n",
    "    def forward(self, x: torch.Tensor) -> torch.Tensor:\n",
    "        return self.slay * x + self.nepotism\n"
   ]
  },
  {
   "cell_type": "code",
   "execution_count": 47,
   "metadata": {},
   "outputs": [],
   "source": [
    "#we can transform the above model to use layers instead of defining parameters bu ourselves.\n",
    "class LinRegMod(nn.Module):\n",
    "    def __init__(self):\n",
    "        super().__init__()\n",
    "        self.linear_layer = nn.Linear(in_features=1, out_features=1)\n",
    "\n",
    "    #overwriting the forward() function:\n",
    "    def forward(self, x:torch.Tensor) -> torch.Tensor:\n",
    "        return self.linear_layer(x)\n",
    "\n",
    "torch.manual_seed(42)\n",
    "\n",
    "#please call model only once. calling it again will reset the weights.\n",
    "model = LinRegMod()"
   ]
  },
  {
   "cell_type": "code",
   "execution_count": 11,
   "metadata": {},
   "outputs": [
    {
     "data": {
      "image/png": "[encoded data removed]",
      "text/plain": [
       "<Figure size 720x504 with 1 Axes>"
      ]
     },
     "metadata": {
      "needs_background": "light"
     },
     "output_type": "display_data"
    }
   ],
   "source": [
    "def plotPred(train_data=X_train, \n",
    "             train_labels=y_train,\n",
    "             test_data=X_test,\n",
    "             test_labels=y_test,\n",
    "             predictions=None):\n",
    "    plt.figure(figsize=(10,7))\n",
    "\n",
    "    plt.scatter(train_data, train_labels, c='b', s=4, label=\"Training data\")\n",
    "    plt.scatter(test_data, test_labels, c='g', s=4, label=\"Testing data\")\n",
    "\n",
    "    if predictions is not None:\n",
    "        plt.scatter(test_data, predictions, c=\"r\", label = \"Predictions\")\n",
    "    plt.legend(prop={\"size\":10})\n",
    "\n",
    "plotPred()"
   ]
  },
  {
   "cell_type": "code",
   "execution_count": 128,
   "metadata": {},
   "outputs": [],
   "source": [
    "#separate cell to define these functions first. we only need to call them once. \n",
    "#do not assign again.\n",
    "\n",
    "#Setting loss function and optimizers.\n",
    "#Since it's a linreg problem, we can use L1Loss & SGD for optim. \n",
    "\n",
    "\n",
    "loss_fn = nn.L1Loss()\n",
    "optim = torch.optim.SGD(params=model.parameters(), lr=0.01) #setting the lr to 0.01 first, so that we dont need many epochs to train our data."
   ]
  },
  {
   "cell_type": "code",
   "execution_count": 130,
   "metadata": {},
   "outputs": [
    {
     "name": "stdout",
     "output_type": "stream",
     "text": [
      "OrderedDict([('linear_layer.weight', tensor([[12.3483]])), ('linear_layer.bias', tensor([68.9310]))])\n",
      "Epoch: 0 \n",
      "Loss: 6.330869197845459\n",
      "OrderedDict([('linear_layer.weight', tensor([[12.3483]])), ('linear_layer.bias', tensor([68.9310]))])\n",
      "Epoch: 100 \n",
      "Loss: 6.330869197845459\n",
      "OrderedDict([('linear_layer.weight', tensor([[12.3483]])), ('linear_layer.bias', tensor([68.9310]))])\n",
      "Epoch: 200 \n",
      "Loss: 6.330869197845459\n",
      "OrderedDict([('linear_layer.weight', tensor([[12.3483]])), ('linear_layer.bias', tensor([68.9310]))])\n",
      "Epoch: 300 \n",
      "Loss: 6.330869197845459\n",
      "OrderedDict([('linear_layer.weight', tensor([[12.3483]])), ('linear_layer.bias', tensor([68.9310]))])\n",
      "Epoch: 400 \n",
      "Loss: 6.330869197845459\n",
      "OrderedDict([('linear_layer.weight', tensor([[12.3483]])), ('linear_layer.bias', tensor([68.9310]))])\n",
      "Epoch: 500 \n",
      "Loss: 6.330869197845459\n",
      "OrderedDict([('linear_layer.weight', tensor([[12.3483]])), ('linear_layer.bias', tensor([68.9310]))])\n",
      "Epoch: 600 \n",
      "Loss: 6.330869197845459\n",
      "OrderedDict([('linear_layer.weight', tensor([[12.3483]])), ('linear_layer.bias', tensor([68.9310]))])\n",
      "Epoch: 700 \n",
      "Loss: 6.330869197845459\n",
      "OrderedDict([('linear_layer.weight', tensor([[12.3483]])), ('linear_layer.bias', tensor([68.9310]))])\n",
      "Epoch: 800 \n",
      "Loss: 6.330869197845459\n",
      "OrderedDict([('linear_layer.weight', tensor([[12.3483]])), ('linear_layer.bias', tensor([68.9310]))])\n",
      "Epoch: 900 \n",
      "Loss: 6.330869197845459\n",
      "OrderedDict([('linear_layer.weight', tensor([[12.3483]])), ('linear_layer.bias', tensor([68.9310]))])\n",
      "Epoch: 1000 \n",
      "Loss: 6.330869197845459\n",
      "OrderedDict([('linear_layer.weight', tensor([[12.3483]])), ('linear_layer.bias', tensor([68.9310]))])\n",
      "Epoch: 1100 \n",
      "Loss: 6.330869197845459\n",
      "OrderedDict([('linear_layer.weight', tensor([[12.3483]])), ('linear_layer.bias', tensor([68.9310]))])\n",
      "Epoch: 1200 \n",
      "Loss: 6.330869197845459\n",
      "OrderedDict([('linear_layer.weight', tensor([[12.3483]])), ('linear_layer.bias', tensor([68.9310]))])\n",
      "Epoch: 1300 \n",
      "Loss: 6.330869197845459\n",
      "OrderedDict([('linear_layer.weight', tensor([[12.3483]])), ('linear_layer.bias', tensor([68.9310]))])\n",
      "Epoch: 1400 \n",
      "Loss: 6.330869197845459\n",
      "OrderedDict([('linear_layer.weight', tensor([[12.3483]])), ('linear_layer.bias', tensor([68.9310]))])\n",
      "Epoch: 1500 \n",
      "Loss: 6.330869197845459\n",
      "OrderedDict([('linear_layer.weight', tensor([[12.3483]])), ('linear_layer.bias', tensor([68.9310]))])\n",
      "Epoch: 1600 \n",
      "Loss: 6.330869197845459\n",
      "OrderedDict([('linear_layer.weight', tensor([[12.3483]])), ('linear_layer.bias', tensor([68.9310]))])\n",
      "Epoch: 1700 \n",
      "Loss: 6.330869197845459\n",
      "OrderedDict([('linear_layer.weight', tensor([[12.3483]])), ('linear_layer.bias', tensor([68.9310]))])\n",
      "Epoch: 1800 \n",
      "Loss: 6.330869197845459\n",
      "OrderedDict([('linear_layer.weight', tensor([[12.3483]])), ('linear_layer.bias', tensor([68.9310]))])\n",
      "Epoch: 1900 \n",
      "Loss: 6.330869197845459\n"
     ]
    },
    {
     "data": {
      "image/png": "[encoded data removed]",
      "text/plain": [
       "<Figure size 720x504 with 1 Axes>"
      ]
     },
     "metadata": {
      "needs_background": "light"
     },
     "output_type": "display_data"
    }
   ],
   "source": [
    "#new cell for training\n",
    "epoch = 2000\n",
    "for epoch in range(epoch):\n",
    "    model.train()\n",
    "    y_train_model = model(X_train)\n",
    "    loss = loss_fn(y_train_model, y_train) #compares the predicted values with actual values, to determine the loss value\n",
    "    \n",
    "    optim.zero_grad() #clears the previous calculated gradients, if not it will acuumulate\n",
    "\n",
    "    loss.backward() #calculates gradient. gotta be closer to 0!\n",
    "\n",
    "    optim.step() #perform SGD\n",
    "\n",
    "\n",
    "    #Testing!\n",
    "    model.eval()\n",
    "    with torch.inference_mode():\n",
    "        y_test_model = model(X_test)\n",
    "        loss = loss_fn(y_test_model, y_test)\n",
    "\n",
    "        if epoch % 100 == 0:\n",
    "\n",
    "            print(model.state_dict())\n",
    "            print(f'Epoch: {epoch} \\nLoss: {loss}')\n",
    "            \n",
    "with torch.inference_mode():\n",
    "    plotPred(predictions=model(X_test))\n",
    "\n",
    "    \n",
    "\n"
   ]
  },
  {
   "cell_type": "code",
   "execution_count": null,
   "metadata": {},
   "outputs": [],
   "source": []
  }
 ],
 "metadata": {
  "kernelspec": {
   "display_name": "Python 3",
   "language": "python",
   "name": "python3"
  },
  "language_info": {
   "codemirror_mode": {
    "name": "ipython",
    "version": 3
   },
   "file_extension": ".py",
   "mimetype": "text/x-python",
   "name": "python",
   "nbconvert_exporter": "python",
   "pygments_lexer": "ipython3",
   "version": "3.10.11"
  },
  "orig_nbformat": 4
 },
 "nbformat": 4,
 "nbformat_minor": 2
}
