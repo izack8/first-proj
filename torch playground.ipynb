{
 "cells": [
  {
   "cell_type": "code",
   "execution_count": 1,
   "metadata": {},
   "outputs": [],
   "source": [
    "import torch\n",
    "from torch import nn"
   ]
  },
  {
   "cell_type": "code",
   "execution_count": 21,
   "metadata": {},
   "outputs": [],
   "source": [
    "#tensor of 3 dimensions.\n",
    "#0th dim: 2 elements (z-dim)\n",
    "#1st dim: 4 elements (y-dim)\n",
    "#2nd dim: 5 elements (x-dim, inner most dimension)\n"
   ]
  },
  {
   "attachments": {},
   "cell_type": "markdown",
   "metadata": {},
   "source": [
    "## PyTorch modelling\n",
    "* torch.nn - contains all buildings for computational graphs (neural network is a type of graph)\n",
    "* torch.nn.Parameter - what parameters should our model try and learn, often a PyTorch layer from torch.nn will set these for us. \n",
    "* torch.nn.Module - The base class for all neural network modules. If it is subclass-ed, please overwrite the \"forward()\" funtion\n",
    "* torch.optim - optimizers. Helps with gradient descent. \n",
    "*requires_grad - When calling tensor.backward(), pytorch travels the graph in the reverse direction to help compute a new gradient."
   ]
  },
  {
   "cell_type": "code",
   "execution_count": null,
   "metadata": {},
   "outputs": [],
   "source": [
    "class LinearRegressionMod(nn.Module):\n",
    "    def __init__(self):\n",
    "        super().__init__()\n",
    "        self.weights = nn.Parameter(torch.randn(1, requires_grad=True)) #parameter\n",
    "        self.bias = nn.Parameter(torch.randn1, requires_grad=True) #parameter.\n",
    "\n",
    "        #usuall in a NN, PyTorch later from torch.nn will set these for us. \n",
    "\n",
    "    def forward(self, x: torch.Tensor) -> torch.Tensor:\n",
    "        return self.weights * x + self.bias"
   ]
  }
 ],
 "metadata": {
  "kernelspec": {
   "display_name": "Python 3",
   "language": "python",
   "name": "python3"
  },
  "language_info": {
   "codemirror_mode": {
    "name": "ipython",
    "version": 3
   },
   "file_extension": ".py",
   "mimetype": "text/x-python",
   "name": "python",
   "nbconvert_exporter": "python",
   "pygments_lexer": "ipython3",
   "version": "3.6.13"
  },
  "orig_nbformat": 4
 },
 "nbformat": 4,
 "nbformat_minor": 2
}
