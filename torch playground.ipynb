{
 "cells": [
  {
   "cell_type": "code",
   "execution_count": 29,
   "metadata": {},
   "outputs": [],
   "source": [
    "import torch\n",
    "from torch import nn\n",
    "import matplotlib.pyplot as plt\n",
    "from sklearn.model_selection import train_test_split"
   ]
  },
  {
   "cell_type": "code",
   "execution_count": 21,
   "metadata": {},
   "outputs": [],
   "source": [
    "#tensor of 3 dimensions.\n",
    "#0th dim: 2 elements (z-dim)\n",
    "#1st dim: 4 elements (y-dim)\n",
    "#2nd dim: 5 elements (x-dim, inner most dimension)\n"
   ]
  },
  {
   "cell_type": "code",
   "execution_count": 40,
   "metadata": {},
   "outputs": [
    {
     "data": {
      "text/plain": [
       "50"
      ]
     },
     "execution_count": 40,
     "metadata": {},
     "output_type": "execute_result"
    }
   ],
   "source": [
    "weight = 0.3\n",
    "bias = 1 \n",
    "\n",
    "#lets pretend that we dont know the above values, \n",
    "#if we are training with these 2 parameters, the goal of ANN is to first start with a random tensor value, \n",
    "#and then slowly make its way to the weight & bias value, giving an accurate prediciton\n",
    "\n",
    "X = torch.arange(0,1,0.02).unsqueeze(dim=1)\n",
    "y = weight * X + bias\n",
    "\n",
    "#splitting our dataset in to train & test\n",
    "\n",
    "X_train, X_test, y_train, y_test = train_test_split(X, y, test_size=0.2)\n",
    "len(X)"
   ]
  },
  {
   "cell_type": "code",
   "execution_count": 46,
   "metadata": {},
   "outputs": [
    {
     "data": {
      "image/png": "[encoded data removed]",
      "text/plain": [
       "<Figure size 720x504 with 1 Axes>"
      ]
     },
     "metadata": {
      "needs_background": "light"
     },
     "output_type": "display_data"
    }
   ],
   "source": [
    "def plotPred(train_data=X_train, \n",
    "             train_labels=y_train,\n",
    "             test_data=X_test,\n",
    "             test_labels=y_test,\n",
    "             predictions=None):\n",
    "    plt.figure(figsize=(10,7))\n",
    "\n",
    "    plt.scatter(train_data, train_labels, c='b', s=4, label=\"Training data\")\n",
    "    plt.scatter(test_data, test_labels, c='g', s=4, label=\"Testing data\")\n",
    "\n",
    "    if predictions is not None:\n",
    "        plt.scatter(test_data, predictions, c=\"r\", label = \"Predictions\")\n",
    "    plt.legend(prop={\"size\":4})\n",
    "\n",
    "plotPred()"
   ]
  },
  {
   "attachments": {},
   "cell_type": "markdown",
   "metadata": {},
   "source": [
    "## PyTorch modelling\n",
    "* torch.nn - contains all buildings for computational graphs (neural network is a type of graph)\n",
    "* torch.nn.Parameter - what parameters should our model try and learn, often a PyTorch layer from torch.nn will set these for us. \n",
    "* torch.nn.Module - The base class for all neural network modules. If it is subclass-ed, please overwrite the \"forward()\" funtion\n",
    "* torch.optim - optimizers. Helps with gradient descent. \n",
    "* requires_grad - When calling tensor.backward(), pytorch travels the graph in the reverse direction to help compute a new gradient."
   ]
  },
  {
   "cell_type": "code",
   "execution_count": 12,
   "metadata": {},
   "outputs": [],
   "source": [
    "torch.manual_seed(42)\n",
    "class LinearRegressionMod(nn.Module):\n",
    "    def __init__(self):\n",
    "        super().__init__()\n",
    "        self.weights = nn.Parameter(torch.randn(1, requires_grad=True)) #parameter\n",
    "        self.bias = nn.Parameter(torch.randn(1, requires_grad=True)) #parameter.\n",
    "\n",
    "        #usuall in a NN, PyTorch later from torch.nn will set these for us. \n",
    "\n",
    "    def forward(self, x: torch.Tensor) -> torch.Tensor:\n",
    "        return self.weights * x + self.bias"
   ]
  },
  {
   "cell_type": "code",
   "execution_count": 49,
   "metadata": {},
   "outputs": [
    {
     "data": {
      "image/png": "[encoded data removed]",
      "text/plain": [
       "<Figure size 720x504 with 1 Axes>"
      ]
     },
     "metadata": {
      "needs_background": "light"
     },
     "output_type": "display_data"
    }
   ],
   "source": [
    "model_0 = LinearRegressionMod()\n",
    "with torch.inference_mode():\n",
    "    y_preds = model_0(X_test)\n",
    "\n",
    "plotPred(predictions=y_preds)\n",
    "#y_preds is generated randomly first. \n",
    "\n",
    "#inference mode turns off gradient tracking, because we dont need gradient descent when doing test data, \n",
    "# only train data. \n"
   ]
  },
  {
   "attachments": {},
   "cell_type": "markdown",
   "metadata": {},
   "source": [
    "## Training the model \n",
    "\n",
    "The whole idea of training is for a model to move from some *unknown* parameter, to a *known* parameter.\n",
    "\n",
    "* Loss function: A function to measure how **\"wrong\"** your model's predicitons are to the ideal outputs, lower is better. There are maybe around 15 loss functions. Each function is better suited for different types of data. \n",
    "    * Mean Absolute Error (L1 Loss)\n",
    "* Optimizer: Takes into account the loss of a model and **adjusts** the model's parameters, to improve the loss funciton. In this case, it is weight and bias.\n",
    "\n",
    "In other words, loss function is like a metric of our model, and the optimizer is the one thats actually changing values to appease the loss function. \n",
    "\n",
    "So we would need:\n",
    "* Training Loop\n",
    "* Testing Loop\n",
    "\n",
    "**Q:** Which loss function and optimizer should I use? \n",
    "\n",
    "**A:** This is problem specific. But with experience, you'll get an idea of what works and what doesnt with my problem set. \n",
    "\n",
    "For example, a regression problem most likely requires a L1 loss, and optimizer like SGD.\n",
    "\n",
    "But a classificaion problem might use BCELoss (binary cross entropy loss)"
   ]
  },
  {
   "cell_type": "code",
   "execution_count": 50,
   "metadata": {},
   "outputs": [],
   "source": [
    "#Setup a loss function\n",
    "loss_fn = nn.L1Loss()\n",
    "\n",
    "#for this loss function, we are trying to minimize the space between the predictions and actual data.\n",
    "\n",
    "\n",
    "#Setup an optimizer. (stochastic gradient descent)\n",
    "optimizer = torch.optim.SGD(params=model_0.parameters(), lr=0.01)\n",
    "\n",
    "#lr is learning rate, which is the step value where the optimizer changes the parameter values. "
   ]
  },
  {
   "attachments": {},
   "cell_type": "markdown",
   "metadata": {},
   "source": [
    "## Training Loop\n",
    "\n",
    "0. Loop through the data\n",
    "1. Forward pass (this involves data moving through our model's `forward()` functions) - also called forward propagation\n",
    "2. Calculate the loss (compare forward pass predicitons to ground truth labels)\n",
    "3. Optimizer zero grad\n",
    "4. Loss backward - move backwards through the network to calculate the gradients of each of the parameters of our model with respect to the loss (**backpropagation**). When the gradient = 0, the loss will be 0 also.\n",
    "5. Optimizer Step - use the optimzier to adjust our model to try to improve the loss."
   ]
  },
  {
   "cell_type": "code",
   "execution_count": null,
   "metadata": {},
   "outputs": [],
   "source": [
    "#An epoch is one loop through the data. \n",
    "#One loop as in, run through the steps once.\n",
    "epochs=1 \n",
    "\n",
    "#0. Loop through the data\n",
    "for epoch in range (epochs):\n",
    "    #Set the model to training mode\n",
    "    model_0.train() #set the parameters require_grad to = True\n",
    "\n",
    "    #1. Forward pass\n",
    "    y_pred = model_0(X_train)\n",
    "\n",
    "    #2. Calculate the loss (we are using L1 loss. You can search for the image of what the curve looks like)\n",
    "    loss = loss_fn(y_pred, y_train)\n",
    "\n",
    "    #3. Optimizer zero grad\n",
    "    optimizer.zero_grad()\n",
    "\n",
    "    #4. Perform backpropagation on the loss wrt to parameters of the model\n",
    "    loss.backward()\n",
    "\n",
    "    #5. step the optimizer (perform gradient descent)\n",
    "    optimizer.step()\n",
    "\n",
    "    model_0.eval() #turns off gradient tracking"
   ]
  }
 ],
 "metadata": {
  "kernelspec": {
   "display_name": "Python 3",
   "language": "python",
   "name": "python3"
  },
  "language_info": {
   "codemirror_mode": {
    "name": "ipython",
    "version": 3
   },
   "file_extension": ".py",
   "mimetype": "text/x-python",
   "name": "python",
   "nbconvert_exporter": "python",
   "pygments_lexer": "ipython3",
   "version": "3.6.13"
  },
  "orig_nbformat": 4
 },
 "nbformat": 4,
 "nbformat_minor": 2
}
